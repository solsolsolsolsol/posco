{
 "cells": [
  {
   "cell_type": "markdown",
   "metadata": {},
   "source": [
    "#### 데이터 불러오기, 확인"
   ]
  },
  {
   "cell_type": "code",
   "execution_count": 2,
   "metadata": {},
   "outputs": [
    {
     "name": "stdout",
     "output_type": "stream",
     "text": [
      "[['20180001', 'Hong Gildong', '84', '73'], ['20180002', 'Lee Jieun', '92', '89'], ['20180007', 'Kim Cheolsu', '57', '62'], ['20180009', 'Lee Yeonghee', '81', '84'], ['20180011', 'Ha Donghun', '58', '68']]\n"
     ]
    }
   ],
   "source": [
    "f=open(\"students.txt\", \"r\")\n",
    "lines=f.readlines() # 각 라인을 스트링으로 하는 리스트 생성\n",
    "\n",
    "studentinfo=[]\n",
    "\n",
    "for i in range(len(lines)-1):\n",
    "    lines[i]=lines[i][:-1]       # 끝에 있는 줄바꿈 문자 삭제(마지막 학생 데이터 지워짐)/ in 써서 특정 값 찾으면 지우는 방법 없나\n",
    "\n",
    "for i in range(len(lines)):    \n",
    "    info=lines[i].split(\"\\t\")    # 각 스트링을 리스트로 쪼갬\n",
    "    studentinfo.append(info) # 리스트를 빈 리스트에 원소로 넣음\n",
    "    \n",
    "print(studentinfo)\n",
    "\n",
    "# data2=data.replace(\"\\n\", '\\t').split('\\t')\n",
    "# print(data2)\n",
    "# print(len(data2))"
   ]
  },
  {
   "cell_type": "code",
   "execution_count": null,
   "metadata": {},
   "outputs": [],
   "source": [
    "# 학생 이름 리스트 만들기\n",
    "# stu_list=[]\n",
    "# for i in range(len(studentinfo)):\n",
    "#     stu_list.append(studentinfo[i][1])\n",
    "\n",
    "# 평균을 계산하기 위해 데이터를 숫자로 바꿈\n",
    "for i in range(len(studentinfo)):\n",
    "    studentinfo[i][2]=int(studentinfo[i][2])   # 저장 안해주면 안 바뀜\n",
    "    studentinfo[i][3]=int(studentinfo[i][3])\n",
    "\n",
    "    \n",
    "#이름 짓는 것 자동으로 수정!!!!!!!\n",
    "gildong=studentinfo[0]\n",
    "jieun=studentinfo[1]\n",
    "cheolsu=studentinfo[2]\n",
    "yeonghee=studentinfo[3]\n",
    "donghun=studentinfo[4]\n",
    "\n",
    "stu_list=[gildong, jieun, cheolsu, yeonghee, donghun]\n",
    "print(stu_list)\n",
    "\n",
    "for stu in stu_list:\n",
    "    print(stu)\n",
    "    \n",
    "\n"
   ]
  },
  {
   "cell_type": "markdown",
   "metadata": {},
   "source": [
    "#### Average와 Grade 작성 및 평균점수 기준으로 정렬"
   ]
  },
  {
   "cell_type": "code",
   "execution_count": null,
   "metadata": {
    "scrolled": true
   },
   "outputs": [],
   "source": [
    "def averaging(mid, fin):\n",
    "    avg=0.0\n",
    "    avg=(mid+fin)/2\n",
    "    # 소수점 이하 첫째자리까지만 나오게 추가\n",
    "    return avg\n",
    "\n",
    "def grading(avg):\n",
    "    if avg>=90:\n",
    "        grade='A'\n",
    "    elif avg>=80:\n",
    "        grade='B'\n",
    "    elif avg>=70:\n",
    "        grade='C'\n",
    "    elif avg>=60:\n",
    "        grade='D'\n",
    "    else:\n",
    "        grade='F'\n",
    "    return grade\n",
    "\n",
    "\n",
    "\n",
    "for val in stu_list:\n",
    "    avg=averaging(val[2], val[3])\n",
    "    grd=grading(avg)\n",
    "    val.append(avg)\n",
    "    val.append(grd)\n",
    "    print(val)\n",
    "\n",
    "    \n"
   ]
  },
  {
   "cell_type": "code",
   "execution_count": null,
   "metadata": {},
   "outputs": [],
   "source": [
    "def show():\n",
    "    varname='Student'+'\\t'+'\\t'+'Name'+'\\t'+'\\t'+'Midterm'+'\\t'+'Final'+'\\t'+'Average'+'\\t'+'Grade'\n",
    "    cutline=\"---------------------------------------------------------------\"\n",
    "    print(varname)\n",
    "    print(cutline)\n",
    "    for i in studentinfo:\n",
    "        i[2]=str(i[2])   # 저장 안해주면 안 바뀜\n",
    "        i[3]=str(i[3])\n",
    "        i[4]=str(i[4])\n",
    "        a='\\t'.join(i)\n",
    "        print(a)\n",
    "    \n",
    "\n",
    "def main():    \n",
    "    show()\n",
    "    \n",
    "main()    "
   ]
  },
  {
   "cell_type": "code",
   "execution_count": null,
   "metadata": {},
   "outputs": [],
   "source": [
    "command=input(\"#\")\n",
    "w=command.lower()\n",
    "command_list=['show', 'search', 'changescore', 'add', 'searchgrade', 'remove', 'quit']\n",
    "while w not in command_list:\n",
    "    command=input(\"#\")  # 이유는 모르겠지만 있는 단어를 입력해도 계속됨\n"
   ]
  },
  {
   "cell_type": "markdown",
   "metadata": {},
   "source": [
    "#### 7개 함수 만들기"
   ]
  },
  {
   "cell_type": "code",
   "execution_count": null,
   "metadata": {},
   "outputs": [],
   "source": [
    "#def search(x):\n",
    "# 학번 리스트 생성\n",
    "stid=[]\n",
    "for var in studentinfo:\n",
    "    stid.append(var[0])\n",
    "    \n",
    "stid[0]=studentinfo[0]\n",
    "print(stid)\n",
    "x=input(\"Student ID: \")\n",
    "if x not in stid:\n",
    "    print(\"NO SUCH PERSON.\")\n",
    "else:\n",
    "    print(varname)\n",
    "    print(cutline)\n",
    "    for i in range(len(studentinfo)):\n",
    "        if x in studentinfo[i]:\n",
    "            myindex=studentinfo[i].index(x)\n",
    "            print(myindex)\n",
    "        studentinfo[i][2]=str(studentinfo[i][2])   # 저장 안해주면 안 바뀜\n",
    "        studentinfo[i][3]=str(studentinfo[i][3])\n",
    "        studentinfo[i][4]=str(studentinfo[i][4])\n",
    "        a='\\t'.join(studentinfo[i])\n",
    "        print(a)\n",
    "\n",
    "        \n",
    "    for i in range(len(studentinfo)):\n",
    "        if x not in studentinfo[i][0]:\n",
    "            print(\"NO SUCH PERSON.\")                 # 여러번 프린트되는데 오류 해결\n",
    "        else:\n",
    "            varname='Student'+'\\t'+'\\t'+'Name'+'\\t'+'\\t'+'Midterm'+'\\t'+'Final'+'\\t'+'Average'+'\\t'+'Grade'\n",
    "            cutline=\"---------------------------------------------------------------\"\n",
    "            print(varname)\n",
    "            print(cutline)\n",
    "            studentinfo[i][2]=str(studentinfo[i][2])   # 저장 안해주면 안 바뀜\n",
    "            studentinfo[i][3]=str(studentinfo[i][3])\n",
    "            studentinfo[i][4]=str(studentinfo[i][4])\n",
    "            a='\\t'.join(studentinfo[i])\n",
    "            print(a)\n",
    "\n",
    "def changescore(x):\n",
    "    x=input(\"Student ID: \")\n",
    "    if x not in stid:\n",
    "        print(\"NO SUCH PERSON.\")\n",
    "    else:\n",
    "        y=input(\"Mid/Final? \")\n",
    "        if y==mid:\n",
    "            s=input(\"Input new score: \")\n",
    "            \n",
    "            \n",
    "\n",
    "# def searchgrade\n",
    "\n",
    "# def add\n",
    "\n",
    "# def remove\n",
    "\n",
    "# def quit"
   ]
  },
  {
   "cell_type": "code",
   "execution_count": null,
   "metadata": {
    "scrolled": true
   },
   "outputs": [],
   "source": []
  },
  {
   "cell_type": "code",
   "execution_count": null,
   "metadata": {},
   "outputs": [],
   "source": [
    "stu_dict = {201801:[84,73], 201802:[92,89], 201803:[57,62], 201804:[58,68]}\n",
    "stu_dict[201802]\n",
    "stu_dict[201802][0]\n",
    "sorted_s1=sorted(stu_dict.items(), key=lambda a: a[1][0])\n",
    "print(sorted_s1)"
   ]
  },
  {
   "cell_type": "code",
   "execution_count": null,
   "metadata": {},
   "outputs": [],
   "source": [
    "print(studentinfo)"
   ]
  },
  {
   "cell_type": "code",
   "execution_count": null,
   "metadata": {},
   "outputs": [],
   "source": []
  }
 ],
 "metadata": {
  "kernelspec": {
   "display_name": "Python 3",
   "language": "python",
   "name": "python3"
  },
  "language_info": {
   "codemirror_mode": {
    "name": "ipython",
    "version": 3
   },
   "file_extension": ".py",
   "mimetype": "text/x-python",
   "name": "python",
   "nbconvert_exporter": "python",
   "pygments_lexer": "ipython3",
   "version": "3.7.4"
  }
 },
 "nbformat": 4,
 "nbformat_minor": 2
}
