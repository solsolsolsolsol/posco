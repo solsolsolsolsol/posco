{
 "cells": [
  {
   "cell_type": "code",
   "execution_count": 3,
   "metadata": {},
   "outputs": [
    {
     "name": "stdout",
     "output_type": "stream",
     "text": [
      "16시간 4분 54초\n"
     ]
    }
   ],
   "source": [
    "def hour_min_sec(second):\n",
    "    seco=second%60\n",
    "    minute=(second//60)%60 ### check again\n",
    "    hour=second//(60*60)\n",
    "    return hour, minute, seco\n",
    "\n",
    "hour, minute, sec=hour_min_sec(57894)\n",
    "print(\"%d시간 %d분 %d초\" %(hour, minute, sec))"
   ]
  },
  {
   "cell_type": "code",
   "execution_count": 7,
   "metadata": {},
   "outputs": [
    {
     "name": "stdout",
     "output_type": "stream",
     "text": [
      "1\n",
      "9\n",
      "[3, 5, 2]\n"
     ]
    }
   ],
   "source": [
    "def get_min_max(l):\n",
    "    mini=min(l)\n",
    "    maxi=max(l)\n",
    "    l.remove(mini)\n",
    "    l.remove(maxi)\n",
    "    return mini, maxi\n",
    "\n",
    "l=[3,5,9,1,2]\n",
    "(min_val, max_val)=get_min_max(l)\n",
    "print(min_val)\n",
    "print(max_val)\n",
    "print(l)"
   ]
  },
  {
   "cell_type": "code",
   "execution_count": null,
   "metadata": {},
   "outputs": [],
   "source": [
    "def minimum(x):\n",
    "    mini = x[0]\n",
    "    for i in x[0:]:\n",
    "        if i < mini:\n",
    "            mini = i\n",
    "    return mini"
   ]
  },
  {
   "cell_type": "markdown",
   "metadata": {},
   "source": [
    "## 소수 판단 함수"
   ]
  },
  {
   "cell_type": "code",
   "execution_count": 15,
   "metadata": {},
   "outputs": [
    {
     "name": "stdout",
     "output_type": "stream",
     "text": [
      "True\n"
     ]
    }
   ],
   "source": [
    "def check_prime(num):\n",
    "    for i in range(1,int(num)+1):\n",
    "        if (int(num)%i==0) and (i!=1) and (i!=int(num)):\n",
    "            return False\n",
    "        else:\n",
    "            return True\n",
    "        \n",
    "isprime=check_prime(7)\n",
    "print(isprime)"
   ]
  },
  {
   "cell_type": "code",
   "execution_count": null,
   "metadata": {},
   "outputs": [],
   "source": [
    "def dot_product(da,db):\n",
    "    res=0\n",
    "    for k in da:    # for k in v1.keys():\n",
    "        if k in db: # if k in v2.keys():\n",
    "            res+=da[k]*db[k]"
   ]
  },
  {
   "cell_type": "code",
   "execution_count": null,
   "metadata": {},
   "outputs": [],
   "source": [
    "for k in set(v1).intersect(set(v2))\n",
    "for k in set(v1)&(set(v2):\n",
    "                  res+=v1[i]"
   ]
  },
  {
   "cell_type": "code",
   "execution_count": null,
   "metadata": {},
   "outputs": [],
   "source": [
    "for k in v1:\n",
    "    try:\n",
    "        res+=v1[k]*v2[k]\n",
    "        except KeyError:\n",
    "            pass\n",
    "        except: # 그 밖의 모든 에러\n",
    "            pass\n",
    "        return res"
   ]
  },
  {
   "cell_type": "code",
   "execution_count": null,
   "metadata": {},
   "outputs": [],
   "source": [
    "return sum([v1[k]*v2[k] for k in v1 if k in v2)"
   ]
  },
  {
   "cell_type": "code",
   "execution_count": 20,
   "metadata": {},
   "outputs": [
    {
     "name": "stdout",
     "output_type": "stream",
     "text": [
      "[2, 1, 4, 3, 5]\n"
     ]
    }
   ],
   "source": [
    "import random\n",
    "r=[1,2,3,4,5]\n",
    "random.shuffle(r)\n",
    "print(r)"
   ]
  },
  {
   "cell_type": "markdown",
   "metadata": {},
   "source": [
    "### 로또 추첨(번호 중복 안됨)"
   ]
  },
  {
   "cell_type": "code",
   "execution_count": 35,
   "metadata": {
    "scrolled": true
   },
   "outputs": [
    {
     "name": "stdout",
     "output_type": "stream",
     "text": [
      "[7, 39, 11, 34, 27, 18]\n"
     ]
    }
   ],
   "source": [
    "import random\n",
    "number=range(1,46)\n",
    "lotto=random.sample(number, 6)\n",
    "print(lotto)\n"
   ]
  },
  {
   "cell_type": "code",
   "execution_count": 31,
   "metadata": {},
   "outputs": [
    {
     "name": "stdout",
     "output_type": "stream",
     "text": [
      "range(1, 46)\n"
     ]
    },
    {
     "ename": "TypeError",
     "evalue": "sample() missing 1 required positional argument: 'k'",
     "output_type": "error",
     "traceback": [
      "\u001b[0;31m---------------------------------------------------------------------------\u001b[0m",
      "\u001b[0;31mTypeError\u001b[0m                                 Traceback (most recent call last)",
      "\u001b[0;32m<ipython-input-31-34f68d36aa7c>\u001b[0m in \u001b[0;36m<module>\u001b[0;34m\u001b[0m\n\u001b[1;32m      3\u001b[0m \u001b[0;31m#     number[i].append=i+1\u001b[0m\u001b[0;34m\u001b[0m\u001b[0;34m\u001b[0m\u001b[0;34m\u001b[0m\u001b[0m\n\u001b[1;32m      4\u001b[0m \u001b[0;34m\u001b[0m\u001b[0m\n\u001b[0;32m----> 5\u001b[0;31m \u001b[0mrandom\u001b[0m\u001b[0;34m.\u001b[0m\u001b[0msample\u001b[0m\u001b[0;34m(\u001b[0m\u001b[0mrange\u001b[0m\u001b[0;34m(\u001b[0m\u001b[0;36m1\u001b[0m\u001b[0;34m,\u001b[0m\u001b[0;36m46\u001b[0m\u001b[0;34m)\u001b[0m\u001b[0;34m)\u001b[0m\u001b[0;34m\u001b[0m\u001b[0;34m\u001b[0m\u001b[0m\n\u001b[0m",
      "\u001b[0;31mTypeError\u001b[0m: sample() missing 1 required positional argument: 'k'"
     ]
    }
   ],
   "source": [
    "\n",
    "print(number)\n",
    "# for i in range(0, 45):\n",
    "#     number[i].append=i+1\n",
    "\n",
    "random.sample(range(1,46))"
   ]
  },
  {
   "cell_type": "code",
   "execution_count": 38,
   "metadata": {},
   "outputs": [
    {
     "name": "stdout",
     "output_type": "stream",
     "text": [
      "['p', 'y', 't', 'h', 'o', 'n', ' ', 'i', 's', ' ', 'f', 'u', 'n', '!']\n"
     ]
    }
   ],
   "source": [
    "def letter_dict(str):\n",
    "    lstr=list(str)\n",
    "    print(lstr)\n",
    "    \n",
    "    \n",
    "letter_dict(\"python is fun!\")\n"
   ]
  },
  {
   "cell_type": "code",
   "execution_count": null,
   "metadata": {},
   "outputs": [],
   "source": []
  }
 ],
 "metadata": {
  "kernelspec": {
   "display_name": "Python 3",
   "language": "python",
   "name": "python3"
  },
  "language_info": {
   "codemirror_mode": {
    "name": "ipython",
    "version": 3
   },
   "file_extension": ".py",
   "mimetype": "text/x-python",
   "name": "python",
   "nbconvert_exporter": "python",
   "pygments_lexer": "ipython3",
   "version": "3.7.4"
  }
 },
 "nbformat": 4,
 "nbformat_minor": 2
}
