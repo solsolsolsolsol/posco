{
 "cells": [
  {
   "cell_type": "code",
   "execution_count": 11,
   "metadata": {},
   "outputs": [],
   "source": [
    "import numpy as np\n",
    "from scipy import stats\n",
    "import scipy.stats\n",
    "import pandas as pd\n",
    "import statsmodels.api as sm\n",
    "import matplotlib.pyplot as plt\n",
    "import seaborn as sns\n",
    "from statsmodels.stats.proportion import proportions_ztest"
   ]
  },
  {
   "cell_type": "markdown",
   "metadata": {},
   "source": [
    "# 정규 분포 그리기"
   ]
  },
  {
   "cell_type": "code",
   "execution_count": 12,
   "metadata": {},
   "outputs": [
    {
     "data": {
      "text/plain": [
       "array([31.179, 27.023, 33.582, ..., 30.073, 26.949, 30.96 ])"
      ]
     },
     "execution_count": 12,
     "metadata": {},
     "output_type": "execute_result"
    },
    {
     "data": {
      "image/png": "[encoded data removed]",
      "text/plain": [
       "<Figure size 432x288 with 1 Axes>"
      ]
     },
     "metadata": {
      "needs_background": "light"
     },
     "output_type": "display_data"
    }
   ],
   "source": [
    "np.random.seed(seed=1234)\n",
    "normal=np.random.normal(30, 2.5, 100000)\n",
    "sns.distplot(normal)\n",
    "normal.round(3)"
   ]
  },
  {
   "cell_type": "markdown",
   "metadata": {},
   "source": [
    "# 정규분포 확률계산"
   ]
  },
  {
   "cell_type": "code",
   "execution_count": 13,
   "metadata": {},
   "outputs": [
    {
     "name": "stdout",
     "output_type": "stream",
     "text": [
      "9km 이상 15km 이하를 달릴 확률은 68.3%에 해당함\n",
      "15km 이상을 달릴 확률은 15.9%에 해당함\n"
     ]
    }
   ],
   "source": [
    "mu=12\n",
    "sigma=3\n",
    "x1=9\n",
    "x2=15\n",
    "prob1=stats.norm.cdf(x1, mu, sigma)\n",
    "prob2=stats.norm.cdf(x2, mu, sigma)\n",
    "print(\"{0}km 이상 {1}km 이하를 달릴 확률은 {2:.1f}%에 해당함\".format(x1, x2, (prob2-prob1)*100))\n",
    "print(\"{0}km 이상을 달릴 확률은 {1:.1f}%에 해당함\".format(x2, (1-prob2)*100))"
   ]
  },
  {
   "cell_type": "markdown",
   "metadata": {},
   "source": [
    "# 기술통계"
   ]
  },
  {
   "cell_type": "code",
   "execution_count": 29,
   "metadata": {},
   "outputs": [
    {
     "data": {
      "text/html": [
       "<div>\n",
       "<style scoped>\n",
       "    .dataframe tbody tr th:only-of-type {\n",
       "        vertical-align: middle;\n",
       "    }\n",
       "\n",
       "    .dataframe tbody tr th {\n",
       "        vertical-align: top;\n",
       "    }\n",
       "\n",
       "    .dataframe thead th {\n",
       "        text-align: right;\n",
       "    }\n",
       "</style>\n",
       "<table border=\"1\" class=\"dataframe\">\n",
       "  <thead>\n",
       "    <tr style=\"text-align: right;\">\n",
       "      <th></th>\n",
       "      <th>manufacturer</th>\n",
       "      <th>model</th>\n",
       "      <th>displacement</th>\n",
       "      <th>year</th>\n",
       "      <th>cylinder</th>\n",
       "      <th>automatic</th>\n",
       "      <th>driving</th>\n",
       "      <th>mpg</th>\n",
       "      <th>highway_mileage</th>\n",
       "      <th>fuel</th>\n",
       "      <th>class</th>\n",
       "    </tr>\n",
       "  </thead>\n",
       "  <tbody>\n",
       "    <tr>\n",
       "      <td>0</td>\n",
       "      <td>audi</td>\n",
       "      <td>a4</td>\n",
       "      <td>1.8</td>\n",
       "      <td>1999</td>\n",
       "      <td>4</td>\n",
       "      <td>auto</td>\n",
       "      <td>f</td>\n",
       "      <td>18</td>\n",
       "      <td>29</td>\n",
       "      <td>p</td>\n",
       "      <td>compact</td>\n",
       "    </tr>\n",
       "    <tr>\n",
       "      <td>1</td>\n",
       "      <td>audi</td>\n",
       "      <td>a4</td>\n",
       "      <td>1.8</td>\n",
       "      <td>1999</td>\n",
       "      <td>4</td>\n",
       "      <td>manual</td>\n",
       "      <td>f</td>\n",
       "      <td>21</td>\n",
       "      <td>29</td>\n",
       "      <td>p</td>\n",
       "      <td>compact</td>\n",
       "    </tr>\n",
       "    <tr>\n",
       "      <td>2</td>\n",
       "      <td>audi</td>\n",
       "      <td>a4</td>\n",
       "      <td>2.0</td>\n",
       "      <td>2008</td>\n",
       "      <td>4</td>\n",
       "      <td>manual</td>\n",
       "      <td>f</td>\n",
       "      <td>20</td>\n",
       "      <td>31</td>\n",
       "      <td>p</td>\n",
       "      <td>compact</td>\n",
       "    </tr>\n",
       "    <tr>\n",
       "      <td>3</td>\n",
       "      <td>audi</td>\n",
       "      <td>a4</td>\n",
       "      <td>2.0</td>\n",
       "      <td>2008</td>\n",
       "      <td>4</td>\n",
       "      <td>auto</td>\n",
       "      <td>f</td>\n",
       "      <td>21</td>\n",
       "      <td>30</td>\n",
       "      <td>p</td>\n",
       "      <td>compact</td>\n",
       "    </tr>\n",
       "    <tr>\n",
       "      <td>4</td>\n",
       "      <td>audi</td>\n",
       "      <td>a4</td>\n",
       "      <td>2.8</td>\n",
       "      <td>1999</td>\n",
       "      <td>6</td>\n",
       "      <td>auto</td>\n",
       "      <td>f</td>\n",
       "      <td>16</td>\n",
       "      <td>26</td>\n",
       "      <td>p</td>\n",
       "      <td>compact</td>\n",
       "    </tr>\n",
       "  </tbody>\n",
       "</table>\n",
       "</div>"
      ],
      "text/plain": [
       "  manufacturer model  displacement  year  cylinder automatic driving  mpg  \\\n",
       "0         audi    a4           1.8  1999         4      auto       f   18   \n",
       "1         audi    a4           1.8  1999         4    manual       f   21   \n",
       "2         audi    a4           2.0  2008         4    manual       f   20   \n",
       "3         audi    a4           2.0  2008         4      auto       f   21   \n",
       "4         audi    a4           2.8  1999         6      auto       f   16   \n",
       "\n",
       "   highway_mileage fuel    class  \n",
       "0               29    p  compact  \n",
       "1               29    p  compact  \n",
       "2               31    p  compact  \n",
       "3               30    p  compact  \n",
       "4               26    p  compact  "
      ]
     },
     "execution_count": 29,
     "metadata": {},
     "output_type": "execute_result"
    }
   ],
   "source": [
    "ds_mycars=pd.read_csv(\"mycars.csv\", engine=\"python\")\n",
    "df=ds_mycars[['manufacturer', 'model', 'year', 'cylinder', 'automatic', 'driving', 'fuel', 'class']]\n",
    "ds_mycars.head()"
   ]
  },
  {
   "cell_type": "code",
   "execution_count": 32,
   "metadata": {},
   "outputs": [
    {
     "name": "stdout",
     "output_type": "stream",
     "text": [
      "manufacturer  Count  CumCnt    Percent      CumPct\n",
      "audi             18      18   7.692308    7.692308\n",
      "chevrolet        19      37   8.119658   15.811966\n",
      "dodge            37      74  15.811966   31.623932\n",
      "ford             25      99  10.683761   42.307692\n",
      "honda             9     108   3.846154   46.153846\n",
      "hyundai          14     122   5.982906   52.136752\n",
      "jeep              8     130   3.418803   55.555556\n",
      "land rover        4     134   1.709402   57.264957\n",
      "lincoln           3     137   1.282051   58.547009\n",
      "mercury           4     141   1.709402   60.256410\n",
      "nissan           13     154   5.555556   65.811966\n",
      "pontiac           5     159   2.136752   67.948718\n",
      "subaru           14     173   5.982906   73.931624\n",
      "toyota           34     207  14.529915   88.461538\n",
      "volkswagen       27     234  11.538462  100.000000\n",
      "\n",
      "\n",
      "model                   Count  CumCnt   Percent      CumPct\n",
      "4runner 4wd                 6       6  2.564103    2.564103\n",
      "a4                          7      13  2.991453    5.555556\n",
      "a4 quattro                  8      21  3.418803    8.974359\n",
      "a6 quattro                  3      24  1.282051   10.256410\n",
      "altima                      6      30  2.564103   12.820513\n",
      "c1500 suburban 2wd          5      35  2.136752   14.957265\n",
      "camry                       7      42  2.991453   17.948718\n",
      "camry solara                7      49  2.991453   20.940171\n",
      "caravan 2wd                11      60  4.700855   25.641026\n",
      "civic                       9      69  3.846154   29.487179\n",
      "corolla                     5      74  2.136752   31.623932\n",
      "corvette                    5      79  2.136752   33.760684\n",
      "dakota pickup 4wd           9      88  3.846154   37.606838\n",
      "durango 4wd                 7      95  2.991453   40.598291\n",
      "expedition 2wd              3      98  1.282051   41.880342\n",
      "explorer 4wd                6     104  2.564103   44.444444\n",
      "f150 pickup 4wd             7     111  2.991453   47.435897\n",
      "forester awd                6     117  2.564103   50.000000\n",
      "grand cherokee 4wd          8     125  3.418803   53.418803\n",
      "grand prix                  5     130  2.136752   55.555556\n",
      "gti                         5     135  2.136752   57.692308\n",
      "impreza awd                 8     143  3.418803   61.111111\n",
      "jetta                       9     152  3.846154   64.957265\n",
      "k1500 tahoe 4wd             4     156  1.709402   66.666667\n",
      "land cruiser wagon 4wd      2     158  0.854701   67.521368\n",
      "malibu                      5     163  2.136752   69.658120\n",
      "maxima                      3     166  1.282051   70.940171\n",
      "mountaineer 4wd             4     170  1.709402   72.649573\n",
      "mustang                     9     179  3.846154   76.495726\n",
      "navigator 2wd               3     182  1.282051   77.777778\n",
      "new beetle                  6     188  2.564103   80.341880\n",
      "passat                      7     195  2.991453   83.333333\n",
      "pathfinder 4wd              4     199  1.709402   85.042735\n",
      "ram 1500 pickup 4wd        10     209  4.273504   89.316239\n",
      "range rover                 4     213  1.709402   91.025641\n",
      "sonata                      7     220  2.991453   94.017094\n",
      "tiburon                     7     227  2.991453   97.008547\n",
      "toyota tacoma 4wd           7     234  2.991453  100.000000\n",
      "\n",
      "\n",
      "year  Count  CumCnt  Percent  CumPct\n",
      "1999    117     117     50.0    50.0\n",
      "2008    117     234     50.0   100.0\n",
      "\n",
      "\n",
      "cylinder  Count  CumCnt    Percent      CumPct\n",
      "4            81      81  34.615385   34.615385\n",
      "5             4      85   1.709402   36.324786\n",
      "6            79     164  33.760684   70.085470\n",
      "8            70     234  29.914530  100.000000\n",
      "\n",
      "\n",
      "automatic  Count  CumCnt    Percent      CumPct\n",
      "auto         157     157  67.094017   67.094017\n",
      "manual        77     234  32.905983  100.000000\n",
      "\n",
      "\n",
      "driving  Count  CumCnt    Percent      CumPct\n",
      "4          103     103  44.017094   44.017094\n",
      "f          106     209  45.299145   89.316239\n",
      "r           25     234  10.683761  100.000000\n",
      "\n",
      "\n",
      "fuel  Count  CumCnt    Percent      CumPct\n",
      "c         1       1   0.427350    0.427350\n",
      "d         5       6   2.136752    2.564103\n",
      "e         8      14   3.418803    5.982906\n",
      "p        52      66  22.222222   28.205128\n",
      "r       168     234  71.794872  100.000000\n",
      "\n",
      "\n",
      "class       Count  CumCnt    Percent      CumPct\n",
      "2seater         5       5   2.136752    2.136752\n",
      "compact        47      52  20.085470   22.222222\n",
      "midsize        41      93  17.521368   39.743590\n",
      "minivan        11     104   4.700855   44.444444\n",
      "pickup         33     137  14.102564   58.547009\n",
      "subcompact     35     172  14.957265   73.504274\n",
      "suv            62     234  26.495726  100.000000\n",
      "\n",
      "\n"
     ]
    }
   ],
   "source": [
    "# 범주형 변수: manufacturer, model, year, cylinder, automatic, driving, fuel, class\n",
    "varlist=['manufacturer', 'model', 'year', 'cylinder', 'automatic', 'driving', 'fuel', 'class']\n",
    "\n",
    "for var in varlist:\n",
    "    count=df[var].value_counts().sort_index()         # count\n",
    "    cumcnt=np.cumsum(count)  # cumulative counts\n",
    "    percent=count/sum(count)*100    # percents\n",
    "    cumpct=np.cumsum(percent) # cumulative percents\n",
    "    \n",
    "    count_data=pd.DataFrame({'Count': count, 'CumCnt': cumcnt, 'Percent': percent, 'CumPct': cumpct})\n",
    "    count_data.columns.name=var\n",
    "    print(count_data)\n",
    "    print('\\n')\n",
    "        "
   ]
  }
 ],
 "metadata": {
  "kernelspec": {
   "display_name": "Python 3",
   "language": "python",
   "name": "python3"
  },
  "language_info": {
   "codemirror_mode": {
    "name": "ipython",
    "version": 3
   },
   "file_extension": ".py",
   "mimetype": "text/x-python",
   "name": "python",
   "nbconvert_exporter": "python",
   "pygments_lexer": "ipython3",
   "version": "3.7.4"
  }
 },
 "nbformat": 4,
 "nbformat_minor": 2
}
