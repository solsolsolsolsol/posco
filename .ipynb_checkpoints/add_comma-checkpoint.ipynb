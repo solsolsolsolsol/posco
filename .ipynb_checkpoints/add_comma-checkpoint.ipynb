{
 "cells": [
  {
   "cell_type": "code",
   "execution_count": 23,
   "metadata": {},
   "outputs": [
    {
     "name": "stdout",
     "output_type": "stream",
     "text": [
      "1,234\n",
      "12,345,678\n",
      "12\n"
     ]
    }
   ],
   "source": [
    "def add_comma(val):\n",
    "    sval=str(val) # integer input을 string으로 바꿈\n",
    "    if len(sval)<4:\n",
    "        return sval\n",
    "    else:\n",
    "        ls=[]\n",
    "        [ls.append(i) for i in sval] # 빈 리스트에 숫자 하나 하나 삽입\n",
    "        for i in range(-3,-len(ls)-len(ls)//3-1,-4): #특이하게 해당 자리에 있던 숫자는 오른쪽으로 밀려남\n",
    "            ls.insert(i, ',')            \n",
    "        sls=''.join(ls) # from list to string\n",
    "        return sls   \n",
    "    \n",
    "def main():\n",
    "    comma_added_1234 = add_comma(1234)\n",
    "    comma_added_12345678 = add_comma(12345678)\n",
    "    comma_added_12 = add_comma(12)\n",
    "    print(comma_added_1234) # ‘1,234’\n",
    "    print(comma_added_12345678) # ‘12,345,678’\n",
    "    print(comma_added_12) # ‘12’\n",
    "    \n",
    "main()"
   ]
  },
  {
   "cell_type": "code",
   "execution_count": 28,
   "metadata": {},
   "outputs": [],
   "source": [
    "# string으로 문제 해결\n",
    "\n",
    "def add_comma(val):\n",
    "    sval=str(val) # integer input을 string으로 바꿈\n",
    "    \n",
    "    \n",
    "# 끝에서부터 3자리씩 슬라이싱  \n",
    "\n",
    "    for i in range(-3,-len(sval)-1, -3):           \n",
    "        globals()['cut{}'.format(-i/3)]=sval[i+2:i]\n",
    "        \n",
    "# 각 슬라이싱 된 스트링 앞에 , 연결\n",
    "\n",
    "    for x in range(1, len(sval)//3):\n",
    "        globals()['cut2{}'.format(x)]=','+globals()['cut{}'.format(-i/3)]\n",
    "        \n",
    "# 모든 슬라이싱들을 역순으로 이어 붙임\n",
    "\n",
    "    for y in range(len(sval)//3, 1, -1):\n",
    "        commaval+=globals()['cut2{}'.format(y+1)]\n",
    "        \n",
    "    return type(commaval)\n",
    "\n",
    "\n",
    "        \n",
    "        \n",
    "    \n",
    "    "
   ]
  }
 ],
 "metadata": {
  "kernelspec": {
   "display_name": "Python 3",
   "language": "python",
   "name": "python3"
  },
  "language_info": {
   "codemirror_mode": {
    "name": "ipython",
    "version": 3
   },
   "file_extension": ".py",
   "mimetype": "text/x-python",
   "name": "python",
   "nbconvert_exporter": "python",
   "pygments_lexer": "ipython3",
   "version": "3.7.4"
  }
 },
 "nbformat": 4,
 "nbformat_minor": 2
}
