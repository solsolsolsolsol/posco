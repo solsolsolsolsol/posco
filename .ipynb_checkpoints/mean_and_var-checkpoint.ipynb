{
 "cells": [
  {
   "cell_type": "code",
   "execution_count": 50,
   "metadata": {},
   "outputs": [
    {
     "name": "stdout",
     "output_type": "stream",
     "text": [
      "평균:  [0.5, 0.5] 분산:  [0.16666666666666666, 0.16666666666666666]\n"
     ]
    }
   ],
   "source": [
    "def mean_and_var(*val):\n",
    "    \n",
    "    summ=0\n",
    "    number=0\n",
    "    devsqr=0 \n",
    "    length=0\n",
    "    mls=[]\n",
    "    vls=[]\n",
    "# 리스트에 각 튜플을 삽입/# v는 각 벡터 \n",
    "    ls=[]\n",
    "    for v in val:\n",
    "        ls.append(v)\n",
    "        number+=1\n",
    "        length=len(v)\n",
    "       \n",
    "    for i in range(length):\n",
    "        for j in ls:\n",
    "            summ+=j[i]\n",
    "                \n",
    "        avg=summ/number\n",
    "        mls.append(avg)\n",
    "        summ=0\n",
    "        \n",
    "    for i in range(length):        \n",
    "        for j in ls:\n",
    "            devsqr+=(j[i]-avg)**2\n",
    "        var=devsqr/number\n",
    "        vls.append(var)\n",
    "        devsqr=0\n",
    "        \n",
    "    return mls, vls\n",
    "        \n",
    "    \n",
    "def main():\n",
    "    v1=(0, 1) # 튜플\n",
    "    v2=(0.5, 0.5)\n",
    "    v3=(1, 0)\n",
    "    m, var = mean_and_var(v1, v2, v3)\n",
    "    print('평균: ', m, '분산: ', var)\n",
    "    \n",
    "\n",
    "main()"
   ]
  }
 ],
 "metadata": {
  "kernelspec": {
   "display_name": "Python 3",
   "language": "python",
   "name": "python3"
  },
  "language_info": {
   "codemirror_mode": {
    "name": "ipython",
    "version": 3
   },
   "file_extension": ".py",
   "mimetype": "text/x-python",
   "name": "python",
   "nbconvert_exporter": "python",
   "pygments_lexer": "ipython3",
   "version": "3.7.4"
  }
 },
 "nbformat": 4,
 "nbformat_minor": 2
}
