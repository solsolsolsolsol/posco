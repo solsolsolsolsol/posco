{
 "cells": [
  {
   "cell_type": "code",
   "execution_count": 1,
   "metadata": {},
   "outputs": [],
   "source": [
    "import numpy as np\n",
    "from scipy import stats\n",
    "import scipy.stats\n",
    "import pandas as pd\n",
    "import statsmodels.api as sm\n",
    "import matplotlib.pyplot as plt\n",
    "import seaborn as sns\n",
    "from scipy.stats import shapiro\n",
    "from statsmodels.stats.proportion import proportions_ztest"
   ]
  },
  {
   "cell_type": "code",
   "execution_count": 10,
   "metadata": {},
   "outputs": [
    {
     "name": "stdout",
     "output_type": "stream",
     "text": [
      "12km 이상 15km 이하를 달릴 확률은 34.1%에 해당함\n"
     ]
    }
   ],
   "source": [
    "#자동차 주행거리가 평균 12km, 표준편차 3km인 정규분포를 이룬다고 하자. 1리터를 가지고 12km이상 15km 이하를 달릴 확률은?\n",
    "mu=12\n",
    "sigma=3\n",
    "x1=15\n",
    "prob1=stats.norm.cdf(x1, mu, sigma)\n",
    "print(\"{0}km 이상 {1}km 이하를 달릴 확률은 {2:.1f}%에 해당함\".format(mu, x1, (prob1-0.5)*100))"
   ]
  },
  {
   "cell_type": "code",
   "execution_count": 9,
   "metadata": {},
   "outputs": [
    {
     "name": "stdout",
     "output_type": "stream",
     "text": [
      "P(X<=F): 0.850\n"
     ]
    }
   ],
   "source": [
    "#확률변수 f는 자유도가 10, 100인 f-분포를 따른다.\n",
    "#f값이 1.5일 때 p(x<=f)를 계산하시오.\n",
    "f=1.5\n",
    "dfnum=10\n",
    "dfden=100\n",
    "prob=stats.f.cdf(x=f, dfn=dfnum, dfd=dfden)\n",
    "print(\"P(X<=F): {:.3f}\".format(prob))"
   ]
  },
  {
   "cell_type": "code",
   "execution_count": null,
   "metadata": {},
   "outputs": [],
   "source": [
    "# 모평균 추정(모표준편차 아는 경우)\n",
    "df=pd.DataFrame({\"sample\": [3.6,2.9,2.8,2.6, ..., 2.2]})\n",
    "lower, upper=stats.norm.interval(0.95, loc=np.mean(df), scale=0.397/np.sqrt(40))\n",
    "print(\"신뢰구간: ({0},{1})\".format(lower.round(2), upper.round(2)))"
   ]
  },
  {
   "cell_type": "code",
   "execution_count": null,
   "metadata": {},
   "outputs": [],
   "source": [
    "#모평균 추정(모표준편차 모르는 경우)\n",
    "lower, upper=stats.t.interval(0.95, len(df)-1, loc=np.mean(df), scale=scipy.stats.sem(df))\n",
    "print(\"신뢰구간: ({0"
   ]
  },
  {
   "cell_type": "code",
   "execution_count": null,
   "metadata": {},
   "outputs": [],
   "source": [
    "#1 sample t test\n",
    "t_result=stats.ttest_1samp(df, 76.7)\n",
    "t,p=t_result.statistic.round(3), t_result.pvalue.round(3)"
   ]
  },
  {
   "cell_type": "code",
   "execution_count": 12,
   "metadata": {},
   "outputs": [
    {
     "ename": "NameError",
     "evalue": "name 'df1' is not defined",
     "output_type": "error",
     "traceback": [
      "\u001b[0;31m---------------------------------------------------------------------------\u001b[0m",
      "\u001b[0;31mNameError\u001b[0m                                 Traceback (most recent call last)",
      "\u001b[0;32m<ipython-input-12-a566cc50e27e>\u001b[0m in \u001b[0;36m<module>\u001b[0;34m\u001b[0m\n\u001b[1;32m      1\u001b[0m \u001b[0;31m# 2 sample t test\u001b[0m\u001b[0;34m\u001b[0m\u001b[0;34m\u001b[0m\u001b[0;34m\u001b[0m\u001b[0m\n\u001b[0;32m----> 2\u001b[0;31m \u001b[0mt_result\u001b[0m\u001b[0;34m=\u001b[0m\u001b[0mstats\u001b[0m\u001b[0;34m.\u001b[0m\u001b[0mttest_ind\u001b[0m\u001b[0;34m(\u001b[0m\u001b[0mdf1\u001b[0m\u001b[0;34m,\u001b[0m \u001b[0mdf2\u001b[0m\u001b[0;34m)\u001b[0m\u001b[0;34m\u001b[0m\u001b[0;34m\u001b[0m\u001b[0m\n\u001b[0m\u001b[1;32m      3\u001b[0m \u001b[0mt\u001b[0m\u001b[0;34m,\u001b[0m \u001b[0mp\u001b[0m\u001b[0;34m=\u001b[0m\u001b[0mt_result\u001b[0m\u001b[0;34m.\u001b[0m\u001b[0mstatistic\u001b[0m\u001b[0;34m.\u001b[0m\u001b[0mround\u001b[0m\u001b[0;34m(\u001b[0m\u001b[0;36m3\u001b[0m\u001b[0;34m)\u001b[0m\u001b[0;34m,\u001b[0m \u001b[0mt_result\u001b[0m\u001b[0;34m.\u001b[0m\u001b[0mpvalue\u001b[0m\u001b[0;34m.\u001b[0m\u001b[0mround\u001b[0m\u001b[0;34m(\u001b[0m\u001b[0;36m3\u001b[0m\u001b[0;34m)\u001b[0m\u001b[0;34m\u001b[0m\u001b[0;34m\u001b[0m\u001b[0m\n",
      "\u001b[0;31mNameError\u001b[0m: name 'df1' is not defined"
     ]
    }
   ],
   "source": [
    "# 2 sample t test\n",
    "t_result=stats.ttest_ind(df1, df2)\n",
    "t, p=t_result.statistic.round(3), t_result.pvalue.round(3)\n",
    "# 정규성 검정\n",
    "shapiro(df1)\n",
    "shapiro(df2)\n",
    "# 등분산성 검정\n",
    "stats.levene(df1['sample'], df2['sample'])"
   ]
  },
  {
   "cell_type": "code",
   "execution_count": null,
   "metadata": {},
   "outputs": [],
   "source": [
    "# paired t test\n",
    "t_result=stats.ttest_rel(df1, df2)"
   ]
  },
  {
   "cell_type": "code",
   "execution_count": 4,
   "metadata": {},
   "outputs": [
    {
     "name": "stdout",
     "output_type": "stream",
     "text": [
      "1 proportion test\n",
      "z: 1.400\n",
      "p:0.161\n"
     ]
    }
   ],
   "source": [
    "# 1 proportion test\n",
    "count=15\n",
    "n_obs=100\n",
    "value=0.1\n",
    "\n",
    "stat, pval=proportions_ztest(count, n_obs, value) \n",
    "\n",
    "print(\"1 proportion test\")\n",
    "print('z: {0:0.3f}'.format(stat))\n",
    "print('p:{0:0.3f}'.format(pval))"
   ]
  },
  {
   "cell_type": "code",
   "execution_count": 6,
   "metadata": {},
   "outputs": [
    {
     "name": "stdout",
     "output_type": "stream",
     "text": [
      "2 proportion test\n",
      "z: 1.553\n",
      "p:0.120\n"
     ]
    }
   ],
   "source": [
    "# 2 proportiont test\n",
    "count=np.array([4,1])\n",
    "nobs=np.array([1000,1200])\n",
    "stat, pval=proportions_ztest(count, nobs)\n",
    "print(\"2 proportion test\")\n",
    "print('z: {0:0.3f}'.format(stat))\n",
    "print('p:{0:0.3f}'.format(pval))"
   ]
  },
  {
   "cell_type": "code",
   "execution_count": 10,
   "metadata": {},
   "outputs": [
    {
     "name": "stdout",
     "output_type": "stream",
     "text": [
      "       0    1    2    3\n",
      "HSG  270  260  236  234\n",
      "SS   228  285  225  262\n",
      "SPA  277  284  231  208\n",
      "chi-square test\n",
      "chisq: 13.366\n",
      "p:0.038\n",
      "degree pf freedom: 6\n",
      "expected value: \n",
      "[[258.333 276.333 230.667 234.667]\n",
      " [258.333 276.333 230.667 234.667]\n",
      " [258.333 276.333 230.667 234.667]]\n"
     ]
    }
   ],
   "source": [
    "# chi square test\n",
    "df=pd.DataFrame({'HSG': [270, 260, 236, 234], 'SS':[228, 285, 225, 262], 'SPA':[277,284,231,208]})\n",
    "chi, pval,dof,expected=stats.chi2_contingency(df.T)\n",
    "print(\"chi-square test\")\n",
    "print('chisq: {0:0.3f}'.format(chi))\n",
    "print('p:{0:0.3f}'.format(pval))\n",
    "print('degree pf freedom: {}'.format(dof))\n",
    "print('expected value: \\n{}'.format(expected.round(3)))"
   ]
  },
  {
   "cell_type": "code",
   "execution_count": 8,
   "metadata": {},
   "outputs": [
    {
     "name": "stdout",
     "output_type": "stream",
     "text": [
      "chi-square test\n",
      "chisq: 6.725\n",
      "p:0.035\n",
      "degree pf freedom: 2\n",
      "expected value: \n",
      "[[111.111 138.889]\n",
      " [ 57.778  72.222]\n",
      " [ 31.111  38.889]]\n"
     ]
    }
   ],
   "source": [
    "df=pd.DataFrame({'1': [100,150], '2':[60,70], '3':[40,30]})\n",
    "chi, pval,dof,expected=stats.chi2_contingency(df.T)\n",
    "print(\"chi-square test\")\n",
    "print('chisq: {0:0.3f}'.format(chi))\n",
    "print('p:{0:0.3f}'.format(pval))\n",
    "print('degree pf freedom: {}'.format(dof))\n",
    "print('expected value: \\n{}'.format(expected.round(3)))"
   ]
  },
  {
   "cell_type": "code",
   "execution_count": null,
   "metadata": {},
   "outputs": [],
   "source": [
    "동일성 검정: 범주 간에 상호 동일한 비율로 나타나는가? 조별 불량율\n",
    "독립성 검정: 범주 간에 상호 관련성이 있는가? 현대/gm/기아 자동차 소유주와 강남/강북 거주자\n",
    "적합도 검정: 사건이 기대치에 따라 발생했는가? 완두콩 수확량이 멘델의 유전법칙과 일치하는가?"
   ]
  },
  {
   "cell_type": "code",
   "execution_count": 11,
   "metadata": {},
   "outputs": [
    {
     "data": {
      "text/plain": [
       "<matplotlib.axes._subplots.AxesSubplot at 0x7f8be39a21d0>"
      ]
     },
     "execution_count": 11,
     "metadata": {},
     "output_type": "execute_result"
    },
    {
     "name": "stderr",
     "output_type": "stream",
     "text": [
      "findfont: Font family ['NanumGothicCoding'] not found. Falling back to DejaVu Sans.\n"
     ]
    },
    {
     "data": {
      "image/png": "[encoded data removed]",
      "text/plain": [
       "<Figure size 432x288 with 1 Axes>"
      ]
     },
     "metadata": {
      "needs_background": "light"
     },
     "output_type": "display_data"
    }
   ],
   "source": [
    "df=pd.DataFrame({'A': [892,623,721,678,723,790,720,670,690,771], 'B':[721,821,910,678,723,790,711,790,745,891], 'C':[621,915,888,721,894,834,841,912,845,889]})\n",
    "df.boxplot(['A','B','C'])"
   ]
  },
  {
   "cell_type": "code",
   "execution_count": 12,
   "metadata": {},
   "outputs": [
    {
     "name": "stdout",
     "output_type": "stream",
     "text": [
      "One-way\n",
      "F통계량: 4.263\n",
      "p-value: 0.025\n"
     ]
    }
   ],
   "source": [
    "f_result=stats.f_oneway(df['A'],df['B'],df['C'])\n",
    "f,p=f_result.statistic.round(3),f_result.pvalue.round(3)\n",
    "\n",
    "print(\"One-way\")\n",
    "print(\"F통계량: {}\".format(f))\n",
    "print(\"p-value: {}\".format(p))\n",
    "#유의수준 5%에서 검정결과 p값이 0.05이므로 그룹 간의 평균 차이가 있다고 할 수 있다."
   ]
  },
  {
   "cell_type": "code",
   "execution_count": 13,
   "metadata": {},
   "outputs": [
    {
     "name": "stdout",
     "output_type": "stream",
     "text": [
      "Correlation Analysis\n",
      "corr: 0.989\n",
      "p-value: 0.000\n"
     ]
    }
   ],
   "source": [
    "# 상관 분석\n",
    "df1=[1,2,3,4,4,5,6,6,7,8]\n",
    "df2=[23,29,49,64,74,87,96,97,109,119]\n",
    "corr, pval=stats.pearsonr(df1, df2)\n",
    "\n",
    "print(\"Correlation Analysis\")\n",
    "print('corr: {0:0.3f}'.format(corr))\n",
    "print('p-value: {0:0.3f}'.format(pval))\n",
    "# 부품수리시간과 부품 수 간에 매우 강한 상관성이 있다."
   ]
  },
  {
   "cell_type": "code",
   "execution_count": 14,
   "metadata": {},
   "outputs": [
    {
     "name": "stdout",
     "output_type": "stream",
     "text": [
      "                            OLS Regression Results                            \n",
      "==============================================================================\n",
      "Dep. Variable:                      y   R-squared:                       0.979\n",
      "Model:                            OLS   Adj. R-squared:                  0.976\n",
      "Method:                 Least Squares   F-statistic:                     365.3\n",
      "Date:                Fri, 31 Jan 2020   Prob (F-statistic):           5.82e-08\n",
      "Time:                        01:02:31   Log-Likelihood:                -29.401\n",
      "No. Observations:                  10   AIC:                             62.80\n",
      "Df Residuals:                       8   BIC:                             63.41\n",
      "Df Model:                           1                                         \n",
      "Covariance Type:            nonrobust                                         \n",
      "==============================================================================\n",
      "                 coef    std err          t      P>|t|      [0.025      0.975]\n",
      "------------------------------------------------------------------------------\n",
      "const          7.1712      3.886      1.845      0.102      -1.791      16.133\n",
      "x1            14.6802      0.768     19.112      0.000      12.909      16.451\n",
      "==============================================================================\n",
      "Omnibus:                        0.118   Durbin-Watson:                   1.283\n",
      "Prob(Omnibus):                  0.943   Jarque-Bera (JB):                0.241\n",
      "Skew:                           0.191   Prob(JB):                        0.886\n",
      "Kurtosis:                       2.343   Cond. No.                         12.5\n",
      "==============================================================================\n",
      "\n",
      "Warnings:\n",
      "[1] Standard Errors assume that the covariance matrix of the errors is correctly specified.\n"
     ]
    },
    {
     "name": "stderr",
     "output_type": "stream",
     "text": [
      "/home/pirl/anaconda3/lib/python3.7/site-packages/scipy/stats/stats.py:1450: UserWarning: kurtosistest only valid for n>=20 ... continuing anyway, n=10\n",
      "  \"anyway, n=%i\" % int(n))\n"
     ]
    }
   ],
   "source": [
    "MINUTES=[1,2,3,4,4,5,6,6,7,8]\n",
    "UNITS=[23,29,49,64,74,87,96,97,109,119]\n",
    "MINUTES=sm.add_constant(MINUTES)\n",
    "model=sm.OLS(UNITS, MINUTES)\n",
    "result=model.fit()\n",
    "print(result.summary())"
   ]
  },
  {
   "cell_type": "code",
   "execution_count": 5,
   "metadata": {},
   "outputs": [
    {
     "data": {
      "text/html": [
       "<div>\n",
       "<style scoped>\n",
       "    .dataframe tbody tr th:only-of-type {\n",
       "        vertical-align: middle;\n",
       "    }\n",
       "\n",
       "    .dataframe tbody tr th {\n",
       "        vertical-align: top;\n",
       "    }\n",
       "\n",
       "    .dataframe thead th {\n",
       "        text-align: right;\n",
       "    }\n",
       "</style>\n",
       "<table border=\"1\" class=\"dataframe\">\n",
       "  <thead>\n",
       "    <tr style=\"text-align: right;\">\n",
       "      <th></th>\n",
       "      <th>EVAL</th>\n",
       "      <th>DISSATIS</th>\n",
       "      <th>PRIVILEGE</th>\n",
       "      <th>CHANCE</th>\n",
       "      <th>ADVANCE</th>\n",
       "      <th>CRITISM</th>\n",
       "      <th>PROMOTION</th>\n",
       "    </tr>\n",
       "  </thead>\n",
       "  <tbody>\n",
       "    <tr>\n",
       "      <td>0</td>\n",
       "      <td>43</td>\n",
       "      <td>51</td>\n",
       "      <td>30</td>\n",
       "      <td>39</td>\n",
       "      <td>61</td>\n",
       "      <td>92</td>\n",
       "      <td>45</td>\n",
       "    </tr>\n",
       "    <tr>\n",
       "      <td>1</td>\n",
       "      <td>63</td>\n",
       "      <td>64</td>\n",
       "      <td>51</td>\n",
       "      <td>54</td>\n",
       "      <td>63</td>\n",
       "      <td>73</td>\n",
       "      <td>47</td>\n",
       "    </tr>\n",
       "    <tr>\n",
       "      <td>2</td>\n",
       "      <td>71</td>\n",
       "      <td>70</td>\n",
       "      <td>68</td>\n",
       "      <td>69</td>\n",
       "      <td>76</td>\n",
       "      <td>86</td>\n",
       "      <td>48</td>\n",
       "    </tr>\n",
       "  </tbody>\n",
       "</table>\n",
       "</div>"
      ],
      "text/plain": [
       "   EVAL  DISSATIS  PRIVILEGE  CHANCE  ADVANCE  CRITISM  PROMOTION\n",
       "0    43        51         30      39       61       92         45\n",
       "1    63        64         51      54       63       73         47\n",
       "2    71        70         68      69       76       86         48"
      ]
     },
     "execution_count": 5,
     "metadata": {},
     "output_type": "execute_result"
    }
   ],
   "source": [
    "df_raw=pd.read_csv(\"직무능력평가.csv\",engine=\"python\")\n",
    "df_raw.head(3)"
   ]
  },
  {
   "cell_type": "code",
   "execution_count": 7,
   "metadata": {},
   "outputs": [
    {
     "name": "stdout",
     "output_type": "stream",
     "text": [
      "                            OLS Regression Results                            \n",
      "==============================================================================\n",
      "Dep. Variable:                   EVAL   R-squared:                       0.681\n",
      "Model:                            OLS   Adj. R-squared:                  0.670\n",
      "Method:                 Least Squares   F-statistic:                     59.86\n",
      "Date:                Fri, 31 Jan 2020   Prob (F-statistic):           1.99e-08\n",
      "Time:                        01:05:32   Log-Likelihood:                -99.882\n",
      "No. Observations:                  30   AIC:                             203.8\n",
      "Df Residuals:                      28   BIC:                             206.6\n",
      "Df Model:                           1                                         \n",
      "Covariance Type:            nonrobust                                         \n",
      "==============================================================================\n",
      "                 coef    std err          t      P>|t|      [0.025      0.975]\n",
      "------------------------------------------------------------------------------\n",
      "Intercept     14.3763      6.620      2.172      0.039       0.816      27.937\n",
      "DISSATIS       0.7546      0.098      7.737      0.000       0.555       0.954\n",
      "==============================================================================\n",
      "Omnibus:                        7.462   Durbin-Watson:                   2.245\n",
      "Prob(Omnibus):                  0.024   Jarque-Bera (JB):                2.537\n",
      "Skew:                          -0.331   Prob(JB):                        0.281\n",
      "Kurtosis:                       1.739   Cond. No.                         352.\n",
      "==============================================================================\n",
      "\n",
      "Warnings:\n",
      "[1] Standard Errors assume that the covariance matrix of the errors is correctly specified.\n"
     ]
    }
   ],
   "source": [
    "from sklearn.linear_model import LinearRegression\n",
    "import statsmodels.formula.api as smf\n",
    "\n",
    "model=smf.ols(formula=\"EVAL~DISSATIS\", data=df_raw)\n",
    "result=model.fit()\n",
    "print(result.summary())"
   ]
  },
  {
   "cell_type": "code",
   "execution_count": 2,
   "metadata": {},
   "outputs": [
    {
     "data": {
      "text/plain": [
       "(0.9570786356925964, 0.13297432661056519)"
      ]
     },
     "execution_count": 2,
     "metadata": {},
     "output_type": "execute_result"
    }
   ],
   "source": [
    "df=pd.DataFrame({\"sample\": [25,30,20,23,27,33,23,20,25,24,31,30,34,30,28,31,30,31,32,30,19,21,27,25,25,30,26,29,30,24,18,25,16,19,20,20,25,22,23,17]})\n",
    "#prob1=stats.norm.cdf(x1, mu, sigma)\n",
    "shapiro(df) # 정규분포\n"
   ]
  },
  {
   "cell_type": "code",
   "execution_count": 7,
   "metadata": {},
   "outputs": [
    {
     "name": "stdout",
     "output_type": "stream",
     "text": [
      "mean:  sample    25.45\n",
      "dtype: float64\n",
      "standard deviation sample    4.764189\n",
      "dtype: float64\n"
     ]
    }
   ],
   "source": [
    "print('mean: ', np.mean(df))\n",
    "print('standard deviation', np.std(df))"
   ]
  },
  {
   "cell_type": "code",
   "execution_count": 8,
   "metadata": {},
   "outputs": [
    {
     "name": "stdout",
     "output_type": "stream",
     "text": [
      "[0.02250621]\n"
     ]
    }
   ],
   "source": [
    "mu=np.mean(df)\n",
    "sigma=np.std(df)\n",
    "x1=35\n",
    "prob=stats.norm.cdf(x1, mu, sigma)\n",
    "print(1-prob)"
   ]
  },
  {
   "cell_type": "code",
   "execution_count": 9,
   "metadata": {},
   "outputs": [
    {
     "name": "stdout",
     "output_type": "stream",
     "text": [
      "chi-square test\n",
      "chisq: 7.878\n",
      "p:0.019\n",
      "degree pf freedom: 2\n",
      "expected value: \n",
      "[[200.928 135.072]\n",
      " [209.898 141.102]\n",
      " [187.174 125.826]]\n"
     ]
    }
   ],
   "source": [
    "# chi square test\n",
    "df=pd.DataFrame({'low': [182,154], 'mid':[213,138], 'high':[203,110]})\n",
    "chi, pval,dof,expected=stats.chi2_contingency(df.T)\n",
    "print(\"chi-square test\")\n",
    "print('chisq: {0:0.3f}'.format(chi))\n",
    "print('p:{0:0.3f}'.format(pval))\n",
    "print('degree pf freedom: {}'.format(dof))\n",
    "print('expected value: \\n{}'.format(expected.round(3)))"
   ]
  },
  {
   "cell_type": "code",
   "execution_count": 11,
   "metadata": {},
   "outputs": [
    {
     "name": "stdout",
     "output_type": "stream",
     "text": [
      "0.7737809374999998\n"
     ]
    }
   ],
   "source": [
    "from scipy.stats import binom\n",
    "x=0\n",
    "n=5\n",
    "p=0.05\n",
    "prob = binom.cdf(x, n, p)\n",
    "print(prob)"
   ]
  },
  {
   "cell_type": "code",
   "execution_count": 23,
   "metadata": {},
   "outputs": [
    {
     "name": "stdout",
     "output_type": "stream",
     "text": [
      "0.022592500000000015\n",
      "0.022592500000000015\n"
     ]
    }
   ],
   "source": [
    "x=1\n",
    "n=5\n",
    "p=0.05\n",
    "prob = binom.cdf(x, n, p)\n",
    "print(1-prob)\n",
    "prob0=binom.cdf(0,5,0.05)\n",
    "prob1=binom.cdf(1,5,0.05)\n",
    "print(1-prob1)"
   ]
  },
  {
   "cell_type": "code",
   "execution_count": 13,
   "metadata": {},
   "outputs": [
    {
     "name": "stdout",
     "output_type": "stream",
     "text": [
      "96.006\n"
     ]
    }
   ],
   "source": [
    "print(98.875-2.869)"
   ]
  },
  {
   "cell_type": "code",
   "execution_count": 14,
   "metadata": {},
   "outputs": [
    {
     "data": {
      "text/plain": [
       "0.4781666666666667"
      ]
     },
     "execution_count": 14,
     "metadata": {},
     "output_type": "execute_result"
    }
   ],
   "source": [
    "2.869/6"
   ]
  },
  {
   "cell_type": "code",
   "execution_count": 17,
   "metadata": {},
   "outputs": [
    {
     "name": "stdout",
     "output_type": "stream",
     "text": [
      "                            OLS Regression Results                            \n",
      "==============================================================================\n",
      "Dep. Variable:                      y   R-squared:                       0.257\n",
      "Model:                            OLS   Adj. R-squared:                  0.108\n",
      "Method:                 Least Squares   F-statistic:                     1.729\n",
      "Date:                Fri, 31 Jan 2020   Prob (F-statistic):              0.246\n",
      "Time:                        17:38:27   Log-Likelihood:                -6.3003\n",
      "No. Observations:                   7   AIC:                             16.60\n",
      "Df Residuals:                       5   BIC:                             16.49\n",
      "Df Model:                           1                                         \n",
      "Covariance Type:            nonrobust                                         \n",
      "==============================================================================\n",
      "                 coef    std err          t      P>|t|      [0.025      0.975]\n",
      "------------------------------------------------------------------------------\n",
      "const          1.7571      0.266      6.602      0.001       1.073       2.441\n",
      "x1             0.1750      0.133      1.315      0.246      -0.167       0.517\n",
      "==============================================================================\n",
      "Omnibus:                          nan   Durbin-Watson:                   0.778\n",
      "Prob(Omnibus):                    nan   Jarque-Bera (JB):                0.673\n",
      "Skew:                          -0.209   Prob(JB):                        0.714\n",
      "Kurtosis:                       1.539   Cond. No.                         2.00\n",
      "==============================================================================\n",
      "\n",
      "Warnings:\n",
      "[1] Standard Errors assume that the covariance matrix of the errors is correctly specified.\n"
     ]
    },
    {
     "name": "stderr",
     "output_type": "stream",
     "text": [
      "/home/pirl/anaconda3/lib/python3.7/site-packages/statsmodels/stats/stattools.py:71: ValueWarning: omni_normtest is not valid with less than 8 observations; 7 samples were given.\n",
      "  \"samples were given.\" % int(n), ValueWarning)\n"
     ]
    }
   ],
   "source": [
    "x=[-3,-2,-1,0,1,2,3]\n",
    "y=[0.4,1.3,2.2,2.5,2.4,2.0,1.5]\n",
    "x1=sm.add_constant(x)\n",
    "model=sm.OLS(y, x1)\n",
    "result=model.fit()\n",
    "print(result.summary())"
   ]
  },
  {
   "cell_type": "code",
   "execution_count": 18,
   "metadata": {},
   "outputs": [
    {
     "name": "stdout",
     "output_type": "stream",
     "text": [
      "(0.8914536833763123, 0.28233224153518677)\n",
      "AxesSubplot(0.125,0.125;0.775x0.755)\n"
     ]
    },
    {
     "data": {
      "image/png": "[encoded data removed]",
      "text/plain": [
       "<Figure size 432x288 with 1 Axes>"
      ]
     },
     "metadata": {
      "needs_background": "light"
     },
     "output_type": "display_data"
    }
   ],
   "source": [
    "print(shapiro(result.resid))\n",
    "print(sns.residplot(x, y))"
   ]
  },
  {
   "cell_type": "code",
   "execution_count": null,
   "metadata": {},
   "outputs": [],
   "source": []
  }
 ],
 "metadata": {
  "kernelspec": {
   "display_name": "Python 3",
   "language": "python",
   "name": "python3"
  },
  "language_info": {
   "codemirror_mode": {
    "name": "ipython",
    "version": 3
   },
   "file_extension": ".py",
   "mimetype": "text/x-python",
   "name": "python",
   "nbconvert_exporter": "python",
   "pygments_lexer": "ipython3",
   "version": "3.7.4"
  }
 },
 "nbformat": 4,
 "nbformat_minor": 2
}
