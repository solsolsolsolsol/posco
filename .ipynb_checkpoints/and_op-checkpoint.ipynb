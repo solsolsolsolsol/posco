{
 "cells": [
  {
   "cell_type": "code",
   "execution_count": 2,
   "metadata": {},
   "outputs": [
    {
     "name": "stdout",
     "output_type": "stream",
     "text": [
      "[[0.14302907 0.32628533]\n",
      " [0.47496539 0.81998026]]\n",
      "[0.91553769 0.38022011]\n"
     ]
    }
   ],
   "source": [
    "import numpy as np\n",
    "x1=np.array([0,0])\n",
    "x2=np.array([0,1])\n",
    "x3=np.array([1,0])\n",
    "x4=np.array([1,1])\n",
    "\n",
    "while True:\n",
    "    W=np.random.random((2,2))\n",
    "    b=np.random.random((2,))\n",
    "    x=np.argmax(np.dot(W,x1)+b) \n",
    "    y=np.argmax(np.dot(W,x2)+b) \n",
    "    z=np.argmax(np.dot(W,x3)+b) \n",
    "    w=np.argmax(np.dot(W,x4)+b)\n",
    "    if x==0 and y==0 and z==0 and w==1:\n",
    "        break\n",
    "    \n",
    "print(W)\n",
    "print(b)\n"
   ]
  },
  {
   "cell_type": "markdown",
   "metadata": {},
   "source": [
    "## 주의점\n",
    "1. random을 while문 안에 넣지 않았다.\n",
    "2. 위에서 계산한 함수값을 객체로 생성해서 조건문 안에 넣지 않았다.\n",
    "3. 문제를 잘못 이해했다. 계산식의 엘레먼트 값이 1이 돼야 하는 게 아니라 인덱스가 1이어야 한다.\n",
    "4. 변수 이름을 중복으로 지정했다."
   ]
  }
 ],
 "metadata": {
  "kernelspec": {
   "display_name": "Python 3",
   "language": "python",
   "name": "python3"
  },
  "language_info": {
   "codemirror_mode": {
    "name": "ipython",
    "version": 3
   },
   "file_extension": ".py",
   "mimetype": "text/x-python",
   "name": "python",
   "nbconvert_exporter": "python",
   "pygments_lexer": "ipython3",
   "version": "3.7.4"
  }
 },
 "nbformat": 4,
 "nbformat_minor": 2
}
