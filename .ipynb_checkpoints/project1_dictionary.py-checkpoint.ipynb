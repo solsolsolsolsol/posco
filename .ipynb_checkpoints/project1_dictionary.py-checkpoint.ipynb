{
 "cells": [
  {
   "cell_type": "code",
   "execution_count": null,
   "metadata": {},
   "outputs": [],
   "source": [
    "f=open(\"students.txt\", \"r\")\n",
    "stu_dic={}\n",
    "stu_list=[]\n",
    "name_list=[]\n",
    "\n",
    "for i in f:\n",
    "    a,b,c,d = i.split('\\t')\n",
    "    d=d[:-1]\n",
    "    stu_list.append(a)\n",
    "    name_list.append(b)\n",
    "    stu_dic[a]=[a,b,c,d]"
   ]
  },
  {
   "cell_type": "code",
   "execution_count": 2,
   "metadata": {},
   "outputs": [],
   "source": [
    "def averaging(mid, fin):\n",
    "    avg=0.0 # 이거 꼭 있어야 하나?\n",
    "    avg=(mid+fin)/2     \n",
    "        # 소수점 이하 첫째자리까지만 나오게 추가    \n",
    "    return avg\n",
    "\n",
    "def grading(avg):\n",
    "    if avg>=90:\n",
    "        grade='A'\n",
    "    elif avg>=80:\n",
    "        grade='B'\n",
    "    elif avg>=70:\n",
    "        grade='C'\n",
    "    elif avg>=60:\n",
    "        grade='D'\n",
    "    else:\n",
    "        grade='F'\n",
    "    return grade\n",
    "\n",
    "# attach average and grade\n",
    "for key in stu_dic:\n",
    "    stu_dic[key][2]=int(stu_dic[key][2])\n",
    "    stu_dic[key][3]=int(stu_dic[key][3])\n",
    "    avg=averaging(stu_dic[key][2], stu_dic[key][3])\n",
    "    grd=grading(avg)\n",
    "    stu_dic[key].append(avg)\n",
    "    stu_dic[key].append(grd)\n",
    "\n",
    "def tostring(ls):\n",
    "    for i in range(len(ls)):\n",
    "        ls[i]=str(ls[i])\n",
    "    return(ls)\n"
   ]
  },
  {
   "cell_type": "code",
   "execution_count": 3,
   "metadata": {},
   "outputs": [],
   "source": [
    "def show():\n",
    "    varname='Student'+'\\t'+'\\t'+'Name'+'\\t'+'\\t'+'Midterm'+'\\t'+'Final'+'\\t'+'Average'+'\\t'+'Grade'\n",
    "    cutline=\"---------------------------------------------------------------\"\n",
    "    print(varname)\n",
    "    print(cutline)\n",
    "    # sort by average\n",
    "    for key in stu_dic:\n",
    "        stu_dic[key][4]=float(stu_dic[key][4])    # 평균만 실수로 바꿈\n",
    "    sorted_dic=sorted(stu_dic.items(), key=lambda a: -a[1][4])\n",
    "    for i in range(len(sorted_dic)):\n",
    "        score=sorted_dic[i][1]\n",
    "        score=tostring(score)\n",
    "        line='\\t'.join(score)\n",
    "        print(line)\n",
    "\n",
    "def partshow(stuid):\n",
    "    stuid=str(stuid)\n",
    "    varname='Student'+'\\t'+'\\t'+'Name'+'\\t'+'\\t'+'Midterm'+'\\t'+'Final'+'\\t'+'Average'+'\\t'+'Grade'\n",
    "    cutline=\"---------------------------------------------------------------\"\n",
    "    print(varname)\n",
    "    print(cutline)\n",
    "    score=stu_dic[stuid]\n",
    "    score=tostring(score)\n",
    "    line='\\t'.join(score)\n",
    "    print(line)\n",
    "    \n",
    "    \n",
    "    \n",
    "def search():\n",
    "    stuid=input(\"Student ID: \")\n",
    "    if stuid not in stu_dic.keys():\n",
    "        print(\"NO SUCH PERSON.\")\n",
    "    else:                                  \n",
    "        varname='Student'+'\\t'+'\\t'+'Name'+'\\t'+'\\t'+'Midterm'+'\\t'+'Final'+'\\t'+'Average'+'\\t'+'Grade'\n",
    "        cutline=\"---------------------------------------------------------------\"\n",
    "        print(varname)\n",
    "        print(cutline)\n",
    "        line=stu_dic[stuid]\n",
    "        line=tostring(line)\n",
    "        sline='\\t'.join(line)\n",
    "        print(sline)"
   ]
  },
  {
   "cell_type": "code",
   "execution_count": 4,
   "metadata": {},
   "outputs": [
    {
     "name": "stdout",
     "output_type": "stream",
     "text": [
      "Student\t\tName\t\tMidterm\tFinal\tAverage\tGrade\n",
      "---------------------------------------------------------------\n",
      "20180002\tLee Jieun\t92\t89\t90.5\tA\n",
      "20180009\tLee Yeonghee\t81\t84\t82.5\tB\n",
      "20180001\tHong Gildong\t84\t73\t78.5\tC\n",
      "20180011\tHa Donghun\t58\t68\t63.0\tD\n",
      "20180007\tKim Cheolsu\t57\t62\t59.5\tF\n"
     ]
    }
   ],
   "source": [
    "def changescore():\n",
    "    \n",
    "    stuid=input(\"Student ID: \")\n",
    "    \n",
    "    if stuid not in stu_dic.keys():\n",
    "        print(\"NO SUCH PERSON.\")\n",
    "        stuid=input(\"Student ID: \")   # while문으로 수정?\n",
    "        \n",
    "    else:\n",
    "        mf=input(\"Mid/Final? \")\n",
    "    \n",
    "        if mf!='mid' and mf!='final':\n",
    "            mf=input(\"Mid/Final? \")      # while 문으로 수정?\n",
    "        \n",
    "        else: \n",
    "            if mf=='mid':\n",
    "                nscore=int(input(\"Input new score: \"))\n",
    "                if nscore>=0 and nscore<=100:\n",
    "                    # 여기서 학번을 받을 수 있는 show를 실행하면 좋을텐데...클래스 같은!\n",
    "                    # 기존 점수 프린트\n",
    "                    partshow(stuid)\n",
    "                    print(\"Score changed.\")\n",
    "                    # 새 점수 프린트\n",
    "                    stu_dic[stuid][2]=nscore\n",
    "                    stu_dic[stuid][3]=int(stu_dic[stuid][3])\n",
    "                    stu_dic[stuid][4]=averaging(stu_dic[stuid][2], stu_dic[stuid][3])\n",
    "                    stu_dic[stuid][5]=grading(stu_dic[stuid][4])\n",
    "                    partshow(stuid)\n",
    "                else:\n",
    "                     nscore=int(input(\"Input new score: \"))\n",
    "            if mf=='final':\n",
    "                nscore=int(input(\"Input new score: \"))\n",
    "                if nscore>=0 and nscore<=100:\n",
    "                    # 여기서 학번을 받을 수 있는 show를 실행하면 좋을텐데...클래스 같은!\n",
    "                    # 기존 점수 프린트\n",
    "                    partshow(stuid)\n",
    "                    print(\"Score changed.\")\n",
    "                    # 새 점수 프린트\n",
    "                    stu_dic[stuid][3]=nscore\n",
    "                    stu_dic[stuid][2]=int(stu_dic[stuid][2])\n",
    "                    stu_dic[stuid][4]=averaging(stu_dic[stuid][2], stu_dic[stuid][3])\n",
    "                    stu_dic[stuid][5]=grading(stu_dic[stuid][4])\n",
    "                    line=stu_dic[stuid]\n",
    "                    partshow(stuid)\n",
    "                else:\n",
    "                     nscore=int(input(\"Input new score: \"))\n",
    "  \n",
    "show()"
   ]
  },
  {
   "cell_type": "code",
   "execution_count": 5,
   "metadata": {},
   "outputs": [
    {
     "name": "stdout",
     "output_type": "stream",
     "text": [
      "#changescore\n",
      "Student ID: 20180007\n",
      "Mid/Final? mid\n",
      "Input new score: 75\n",
      "Student\t\tName\t\tMidterm\tFinal\tAverage\tGrade\n",
      "---------------------------------------------------------------\n",
      "20180007\tKim Cheolsu\t57\t62\t59.5\tF\n",
      "Score changed.\n",
      "Student\t\tName\t\tMidterm\tFinal\tAverage\tGrade\n",
      "---------------------------------------------------------------\n",
      "20180007\tKim Cheolsu\t75\t62\t68.5\tD\n"
     ]
    }
   ],
   "source": [
    "command=input(\"#\")\n",
    "lcommand=command.lower()\n",
    "command_list=['show', 'search', 'changescore', 'add', 'searchgrade', 'remove', 'quit']\n",
    "while lcommand not in command_list:\n",
    "    input(\"#\") \n",
    "\n",
    "if lcommand=='show':\n",
    "    show()\n",
    "if lcommand=='search':\n",
    "    search()\n",
    "if lcommand=='changescore':\n",
    "    changescore()\n",
    "if lcommand=='add':\n",
    "    changescore()\n",
    "if lcommand=='searchgrade':\n",
    "    changescore()\n",
    "if lcommand=='remove':\n",
    "    remove()\n",
    "if lcommand=='quit':\n",
    "    quit()\n"
   ]
  },
  {
   "cell_type": "code",
   "execution_count": 6,
   "metadata": {},
   "outputs": [
    {
     "name": "stdout",
     "output_type": "stream",
     "text": [
      "Student\t\tName\t\tMidterm\tFinal\tAverage\tGrade\n",
      "---------------------------------------------------------------\n",
      "20180002\tLee Jieun\t92\t89\t90.5\tA\n",
      "20180009\tLee Yeonghee\t81\t84\t82.5\tB\n",
      "20180001\tHong Gildong\t84\t73\t78.5\tC\n",
      "20180007\tKim Cheolsu\t75\t62\t68.5\tD\n",
      "20180011\tHa Donghun\t58\t68\t63.0\tD\n"
     ]
    }
   ],
   "source": [
    "show()"
   ]
  },
  {
   "cell_type": "code",
   "execution_count": 7,
   "metadata": {},
   "outputs": [
    {
     "name": "stdout",
     "output_type": "stream",
     "text": [
      "Student ID: 20180072\n",
      "Name: sol\n",
      "Midterm Score: 100\n",
      "FInal Score: 90\n",
      "Student added.\n"
     ]
    }
   ],
   "source": [
    "def add():\n",
    "    stuid=input(\"Student ID: \")\n",
    "    if stuid in stu_dic.keys():\n",
    "        print(\"ALREADY EXISTS\")\n",
    "    else:\n",
    "        stuname=input(\"Name: \")\n",
    "        mscore=int(input(\"Midterm Score: \"))\n",
    "        fscore=int(input(\"Final Score: \"))\n",
    "        print(\"Student added.\")\n",
    "        avg=averaging(mscore, fscore)\n",
    "        grd=grading(avg)\n",
    "        stu_dic[stuid]=[stuid, stuname, mscore, fscore, avg, grd]\n",
    "        \n",
    "add()"
   ]
  },
  {
   "cell_type": "code",
   "execution_count": 8,
   "metadata": {},
   "outputs": [
    {
     "name": "stdout",
     "output_type": "stream",
     "text": [
      "Student\t\tName\t\tMidterm\tFinal\tAverage\tGrade\n",
      "---------------------------------------------------------------\n",
      "20180072\tsol\t100\t90\t95.0\tA\n",
      "20180002\tLee Jieun\t92\t89\t90.5\tA\n",
      "20180009\tLee Yeonghee\t81\t84\t82.5\tB\n",
      "20180001\tHong Gildong\t84\t73\t78.5\tC\n",
      "20180007\tKim Cheolsu\t75\t62\t68.5\tD\n",
      "20180011\tHa Donghun\t58\t68\t63.0\tD\n"
     ]
    }
   ],
   "source": [
    "show()"
   ]
  },
  {
   "cell_type": "code",
   "execution_count": 9,
   "metadata": {},
   "outputs": [
    {
     "name": "stdout",
     "output_type": "stream",
     "text": [
      "Grade to search: D\n",
      "Student\t\tName\t\tMidterm\tFinal\tAverage\tGrade\n",
      "---------------------------------------------------------------\n",
      "20180007\tKim Cheolsu\t75\t62\t68.5\tD\n",
      "20180011\tHa Donghun\t58\t68\t63.0\tD\n"
     ]
    }
   ],
   "source": [
    "def searchgrade():\n",
    "    grd=input(\"Grade to search: \")\n",
    "    temp=0\n",
    "    if grd not in ['A', 'B', 'C', 'D', 'F']:\n",
    "        print(\"NO RESULTS\")\n",
    "    else:\n",
    "        varname='Student'+'\\t'+'\\t'+'Name'+'\\t'+'\\t'+'Midterm'+'\\t'+'Final'+'\\t'+'Average'+'\\t'+'Grade'\n",
    "        cutline=\"---------------------------------------------------------------\"\n",
    "        ls=[varname, cutline]\n",
    "        for key in stu_dic.keys():\n",
    "            if grd==stu_dic[key][5]:\n",
    "                score=stu_dic[key]\n",
    "                score=tostring(score)\n",
    "                line='\\t'.join(score)\n",
    "                ls.append(line)\n",
    "            else:\n",
    "                temp+=1\n",
    "                if temp==len(stu_dic):\n",
    "                    print(\"NO RESULTS.\")\n",
    "        # 괜찮은 구조인가?\n",
    "        for var in ls:\n",
    "            print(var)\n",
    "searchgrade()"
   ]
  },
  {
   "cell_type": "code",
   "execution_count": 10,
   "metadata": {},
   "outputs": [],
   "source": [
    "def remove():\n",
    "    rm=input(\"Student ID: \")\n",
    "    if rm not in stu_dic.keys():\n",
    "        print(\"NO SUCH PERSON.\")\n",
    "    elif stu_dic.keys()==[]:\n",
    "        print(\"List is empty.\")\n",
    "    else:\n",
    "        del stu_dic[rm]\n",
    "        "
   ]
  },
  {
   "cell_type": "code",
   "execution_count": 27,
   "metadata": {},
   "outputs": [],
   "source": [
    "def quit():\n",
    "    save=input(\"Save data?[yes/no] \")\n",
    "    if save=='yes':\n",
    "        fname=input(\"File name: \")\n",
    "        f=open(fname, \"w\")\n",
    "        data=sorted(stu_dic.items(), key=lambda a: a[1][4])\n",
    "        ls=[]\n",
    "        for var in data:\n",
    "            a='\\t'.join(var[1])\n",
    "            a+='\\n'\n",
    "            f.write(a)\n",
    "        f.close()\n",
    "    else:\n",
    "        f.close()\n",
    "        "
   ]
  },
  {
   "cell_type": "code",
   "execution_count": 28,
   "metadata": {},
   "outputs": [
    {
     "name": "stdout",
     "output_type": "stream",
     "text": [
      "Save data?[yes/no] yes\n",
      "File name: sol.txt\n"
     ]
    }
   ],
   "source": [
    "quit()\n",
    "# yes 대문자로 써도 인식 가능하게\n",
    "# 파일 이름에 txt 꼭 붙이게"
   ]
  },
  {
   "cell_type": "code",
   "execution_count": null,
   "metadata": {},
   "outputs": [],
   "source": []
  }
 ],
 "metadata": {
  "kernelspec": {
   "display_name": "Python 3",
   "language": "python",
   "name": "python3"
  },
  "language_info": {
   "codemirror_mode": {
    "name": "ipython",
    "version": 3
   },
   "file_extension": ".py",
   "mimetype": "text/x-python",
   "name": "python",
   "nbconvert_exporter": "python",
   "pygments_lexer": "ipython3",
   "version": "3.7.4"
  }
 },
 "nbformat": 4,
 "nbformat_minor": 2
}
