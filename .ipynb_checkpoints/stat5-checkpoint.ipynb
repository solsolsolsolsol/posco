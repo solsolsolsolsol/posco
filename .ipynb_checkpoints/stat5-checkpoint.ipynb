{
 "cells": [
  {
   "cell_type": "code",
   "execution_count": null,
   "metadata": {},
   "outputs": [],
   "source": [
    "다중공선성\n",
    "vif가 10 이상이면 다중공선성이 있음\n",
    "해결 방법\n",
    "1. 변수 제거\n",
    "2. 데이터 추가 조사: 더 많은 샘플을 확보. 없어질 수도 있고 아닐 수도 있음.\n",
    "3. M-C?\n",
    "빅데이터일수록 다중공선성이 늘어난다.\n",
    "알스퀘어 감소\n",
    "회귀식으로 해결 불가능.\n",
    "ANOVA 독립 변수들의 계수가 모두 0임이 귀무가설? anova와 f검정의 차이\n",
    "lack of fit test\n",
    "MEAN CENTERING"
   ]
  }
 ],
 "metadata": {
  "kernelspec": {
   "display_name": "Python 3",
   "language": "python",
   "name": "python3"
  },
  "language_info": {
   "codemirror_mode": {
    "name": "ipython",
    "version": 3
   },
   "file_extension": ".py",
   "mimetype": "text/x-python",
   "name": "python",
   "nbconvert_exporter": "python",
   "pygments_lexer": "ipython3",
   "version": "3.7.4"
  }
 },
 "nbformat": 4,
 "nbformat_minor": 2
}
