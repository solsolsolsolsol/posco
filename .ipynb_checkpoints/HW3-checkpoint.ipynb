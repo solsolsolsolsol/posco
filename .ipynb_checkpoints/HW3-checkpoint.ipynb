{
 "cells": [
  {
   "cell_type": "markdown",
   "metadata": {},
   "source": [
    "### 실습1) for 문을 사용하여 딕셔너리 타입의 d의 모든 value를 출력해 보시오. "
   ]
  },
  {
   "cell_type": "code",
   "execution_count": 31,
   "metadata": {},
   "outputs": [
    {
     "name": "stdout",
     "output_type": "stream",
     "text": [
      "1\n",
      "2\n",
      "10\n"
     ]
    }
   ],
   "source": [
    "# 모든 value를 하나씩 추출\n",
    "d={'youn':1, 'park':2, 'kim':10}\n",
    "for v in d.values():\n",
    "    print(v)\n",
    "    "
   ]
  },
  {
   "cell_type": "markdown",
   "metadata": {},
   "source": [
    "### 실습2) 아래와 같은 딕셔너리가 있다. key의 알파벳을 기준으로 순서대로 아래와 같이 (key, value)로 출력하시오. \n",
    "### {'one':1, 'two':2, 'three':3, 'four':4, 'five':5}"
   ]
  },
  {
   "cell_type": "code",
   "execution_count": 37,
   "metadata": {
    "scrolled": true
   },
   "outputs": [
    {
     "name": "stdout",
     "output_type": "stream",
     "text": [
      "('five', 5)\n",
      "('four', 4)\n",
      "('one', 1)\n",
      "('three', 3)\n",
      "('two', 2)\n"
     ]
    }
   ],
   "source": [
    "# 딕셔너리 sort\n",
    "d={'one':1, 'two':2, 'three':3, 'four':4, 'five':5}\n",
    "sd=sorted(d.items())\n",
    "for x in sd:\n",
    "    print(x)"
   ]
  },
  {
   "cell_type": "markdown",
   "metadata": {},
   "source": [
    "### 실습3) 어떤 문장을 입력 받으면 해당 문장에서 각 알파벳이 몇 개씩 나오는지 저장하는 딕셔너리를 만든 후, 아래와 같이 출력하시오."
   ]
  },
  {
   "cell_type": "code",
   "execution_count": 38,
   "metadata": {},
   "outputs": [
    {
     "name": "stdout",
     "output_type": "stream",
     "text": [
      "enter a sentence: python is fun!\n",
      "{'p': 1, 'y': 1, 't': 1, 'h': 1, 'o': 1, 'n': 2, ' ': 2, 'i': 1, 's': 1, 'f': 1, 'u': 1, '!': 1}\n"
     ]
    }
   ],
   "source": [
    "d={}\n",
    "sentence=input(\"enter a sentence: \")\n",
    "#python is fun!\n",
    "\n",
    "for i in sentence:\n",
    "    if i in d.keys(): # d라고 써도 됨\n",
    "        d[i]+=1\n",
    "    \n",
    "    else:\n",
    "        d[i]=1 # 여기서 key도 같이 삽입?\n",
    "        \n",
    "print(d)"
   ]
  }
 ],
 "metadata": {
  "kernelspec": {
   "display_name": "Python 3",
   "language": "python",
   "name": "python3"
  },
  "language_info": {
   "codemirror_mode": {
    "name": "ipython",
    "version": 3
   },
   "file_extension": ".py",
   "mimetype": "text/x-python",
   "name": "python",
   "nbconvert_exporter": "python",
   "pygments_lexer": "ipython3",
   "version": "3.7.4"
  }
 },
 "nbformat": 4,
 "nbformat_minor": 2
}
