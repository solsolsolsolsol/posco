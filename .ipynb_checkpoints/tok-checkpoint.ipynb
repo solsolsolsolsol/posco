{
 "cells": [
  {
   "cell_type": "code",
   "execution_count": 48,
   "metadata": {},
   "outputs": [
    {
     "name": "stdout",
     "output_type": "stream",
     "text": [
      "['There', 'was', 'a', 'farmer', 'who', 'had', 'a', 'dog', '.']\n",
      "['There was', 'was a', 'a farmer', 'farmer who', 'who had', 'had a', 'a dog', 'dog .']\n"
     ]
    }
   ],
   "source": [
    "#풀이1\n",
    "def tokenize(trg, N=None):\n",
    "    \n",
    "    ttrg=trg.split() # 공백 기준 단어별로 다 쪼갠다(리스트).\n",
    "    \n",
    "    # N=1이면, ttrg를 리턴한다.\n",
    "    if N==None:\n",
    "        N=1\n",
    "        return ttrg\n",
    "        \n",
    "    else:\n",
    "        for i in range(0, len(ttrg)-N+1):  \n",
    "            for j in range(1,N):\n",
    "                 ttrg[i] = (ttrg[i]+' '+ttrg[i+j]) \n",
    "        ttrg[len(ttrg)-N+1:len(ttrg)]=[]\n",
    "    \n",
    "        return ttrg\n",
    "         \n",
    "def main():\n",
    "    a=\"There was a farmer who had a dog .\"\n",
    "    print(tokenize(a))\n",
    "    print(tokenize(a, 2))\n",
    "    \n",
    "main()"
   ]
  },
  {
   "cell_type": "code",
   "execution_count": 63,
   "metadata": {},
   "outputs": [
    {
     "name": "stdout",
     "output_type": "stream",
     "text": [
      "['There', 'was', 'a', 'farmer', 'who', 'had', 'a', 'dog', '.']\n",
      "['There was', 'was a', 'a farmer', 'farmer who', 'who had', 'had a', 'a dog', 'dog .']\n"
     ]
    }
   ],
   "source": [
    "#풀이2\n",
    "def tokenize(trg, N=None):\n",
    "    \n",
    "    ttrg=trg.split() # 공백 기준 단어별로 다 쪼갠다(리스트).\n",
    "    \n",
    "    # N=1이면, ttrg를 리턴한다.\n",
    "    if N==None:\n",
    "        N=1\n",
    "        return ttrg\n",
    "    \n",
    "    else:\n",
    "        ls=[]\n",
    "        for i in range(0,len(ttrg)-N+1):\n",
    "            strg=ttrg[i:i+N]\n",
    "            jstrg=' '.join(strg)\n",
    "            ls.append(jstrg)\n",
    "        ls[len(ttrg)-N+1:len(ttrg)]=[]\n",
    "        return ls\n",
    "    \n",
    "    \n",
    "def main():\n",
    "    a=\"There was a farmer who had a dog .\"\n",
    "    print(tokenize(a))\n",
    "    print(tokenize(a, 2))\n",
    "    \n",
    "main()"
   ]
  }
 ],
 "metadata": {
  "kernelspec": {
   "display_name": "Python 3",
   "language": "python",
   "name": "python3"
  },
  "language_info": {
   "codemirror_mode": {
    "name": "ipython",
    "version": 3
   },
   "file_extension": ".py",
   "mimetype": "text/x-python",
   "name": "python",
   "nbconvert_exporter": "python",
   "pygments_lexer": "ipython3",
   "version": "3.7.4"
  }
 },
 "nbformat": 4,
 "nbformat_minor": 2
}
