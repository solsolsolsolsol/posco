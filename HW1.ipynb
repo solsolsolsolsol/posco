{
 "cells": [
  {
   "cell_type": "markdown",
   "metadata": {},
   "source": [
    "# (문제 1) 화씨 섭씨 변환"
   ]
  },
  {
   "cell_type": "code",
   "execution_count": 20,
   "metadata": {},
   "outputs": [
    {
     "name": "stdout",
     "output_type": "stream",
     "text": [
      "화씨를 입력하세요:100\n",
      "37.77777777777778\n"
     ]
    }
   ],
   "source": [
    "F=int(input(\"화씨를 입력하세요:\")) # input의 경우에는 숫자를 입력해도 str으로 분류됨\n",
    "C=(F-32)*5/9\n",
    "print(C)"
   ]
  },
  {
   "cell_type": "markdown",
   "metadata": {},
   "source": [
    "# (문제 2) 사용자로부터 투입한 돈과 물건 값을 입력 받아, 잔돈을 계산하여 출력한다. 단, 동전의 개수는 최소화 할 것"
   ]
  },
  {
   "cell_type": "code",
   "execution_count": 29,
   "metadata": {},
   "outputs": [
    {
     "name": "stdout",
     "output_type": "stream",
     "text": [
      "투입한 돈: 5000\n",
      "물건값: 2700\n",
      "거스름돈: 2300\n",
      "500원짜리: 4개\n",
      "100원짜리: 3개\n"
     ]
    }
   ],
   "source": [
    "money=int(input(\"투입한 돈: \"))\n",
    "price=int(input(\"물건값: \"))\n",
    "change=money-price\n",
    "won500=change//500\n",
    "won100=change%500/100\n",
    "print(\"거스름돈: %d\" %change)\n",
    "print(\"500원짜리: %d개\" %won500)\n",
    "print(\"100원짜리: %d개\" %won100)"
   ]
  },
  {
   "cell_type": "markdown",
   "metadata": {},
   "source": [
    "# (문제 3) 원의 반지름을 r을 입력 받아, 원의 둘레와 넓이를 구하는 프로그램을 작성하시오."
   ]
  },
  {
   "cell_type": "code",
   "execution_count": 130,
   "metadata": {},
   "outputs": [
    {
     "name": "stdout",
     "output_type": "stream",
     "text": [
      "원의 반지름을 입력하세요: 4\n",
      "원의 둘레: 25.132741228718345\n",
      "원의 넓이: 50.26548245743669\n"
     ]
    }
   ],
   "source": [
    "r=float(input(\"원의 반지름을 입력하세요: \"))\n",
    "import math  \n",
    "circumference=2*math.pi*r\n",
    "area=math.pi*r**2\n",
    "print(\"원의 둘레: %s\" %circumference)\n",
    "print(\"원의 넓이: %s\" %area)"
   ]
  },
  {
   "cell_type": "markdown",
   "metadata": {},
   "source": [
    "# (문제 5) 2개의 정수를 입력 받아, 사칙연산 및 나머지 연산의 결과"
   ]
  },
  {
   "cell_type": "code",
   "execution_count": 65,
   "metadata": {},
   "outputs": [
    {
     "name": "stdout",
     "output_type": "stream",
     "text": [
      "Enter two integers: 4 5\n",
      "4 + 5 = 9\n",
      "4 - 5 = -1\n",
      "4 * 5 = 20\n",
      "4 / 5 = 0.8\n",
      "4 % 5 = 4\n"
     ]
    }
   ],
   "source": [
    "a, b = map(int, input(\"Enter two integers: \").split())\n",
    "print(a, '+', b, '=', a+b)\n",
    "print(a, '-', b, '=', a-b)\n",
    "print(a, '*', b, '=', a*b)\n",
    "print(a, '/', b, '=', a/b)\n",
    "print(a, '%', b, '=', a%b)"
   ]
  },
  {
   "cell_type": "markdown",
   "metadata": {},
   "source": [
    "# (문제 6) 두 정수를 입력 받아, 합과 평균을 구하여 출력하는 프로그램을 작성하시오."
   ]
  },
  {
   "cell_type": "code",
   "execution_count": 72,
   "metadata": {},
   "outputs": [
    {
     "name": "stdout",
     "output_type": "stream",
     "text": [
      "Enter two integers: 4.3 5.1\n",
      "The sum of 4.3 and 5.1 is 9.4\n",
      "The average of numbers is 4.7\n"
     ]
    }
   ],
   "source": [
    "a, b = map(float, input(\"Enter two integers: \").split())\n",
    "print('The sum of', a, 'and', b, 'is', round(a+b,1))\n",
    "print('The average of numbers is', round((a+b)/2,1))"
   ]
  }
 ],
 "metadata": {
  "kernelspec": {
   "display_name": "Python 3",
   "language": "python",
   "name": "python3"
  },
  "language_info": {
   "codemirror_mode": {
    "name": "ipython",
    "version": 3
   },
   "file_extension": ".py",
   "mimetype": "text/x-python",
   "name": "python",
   "nbconvert_exporter": "python",
   "pygments_lexer": "ipython3",
   "version": "3.7.4"
  }
 },
 "nbformat": 4,
 "nbformat_minor": 2
}
