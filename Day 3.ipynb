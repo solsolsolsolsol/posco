{
 "cells": [
  {
   "cell_type": "code",
   "execution_count": null,
   "metadata": {},
   "outputs": [],
   "source": [
    "d={'youn':1, 'park':2, 'kim':10}\n",
    "for v in d.values():\n",
    "    print(v)"
   ]
  },
  {
   "cell_type": "code",
   "execution_count": null,
   "metadata": {},
   "outputs": [],
   "source": [
    "for x in d:\n",
    "    print(x)"
   ]
  },
  {
   "cell_type": "code",
   "execution_count": null,
   "metadata": {},
   "outputs": [],
   "source": [
    "for item in d.items():\n",
    "    print(item)"
   ]
  },
  {
   "cell_type": "code",
   "execution_count": null,
   "metadata": {},
   "outputs": [],
   "source": [
    "for k, v in d.items():\n",
    "    print(v)"
   ]
  },
  {
   "cell_type": "code",
   "execution_count": null,
   "metadata": {},
   "outputs": [],
   "source": [
    "d={}\n",
    "#d에 키는 언제 넣었지?\n",
    "sentence=input(\"enter a sentence: \")\n",
    "#python is fun!\n",
    "for i in sentence:\n",
    "    if i in d.keys(): # d라고 써도 됨\n",
    "        d[i]+=1\n",
    "    \n",
    "    else:\n",
    "        d[i]=1 # 여기서 key도 같이 삽입?\n",
    "        \n",
    "print(d)\n",
    "\n",
    "\n"
   ]
  },
  {
   "cell_type": "code",
   "execution_count": null,
   "metadata": {},
   "outputs": [],
   "source": [
    "a='string'\n",
    "\n",
    "print('a' in a)\n",
    "sen=input(\"enter a sentence: \")\n",
    "dic={}\n",
    "for i in set(sen):\n",
    "    dic[i]=sen.count(i)\n",
    "    print(\"for\")\n",
    "print(dic)"
   ]
  },
  {
   "cell_type": "code",
   "execution_count": null,
   "metadata": {},
   "outputs": [],
   "source": [
    "f=open(\"new.txt\", \"w\")\n",
    "for i in range(1,6):\n",
    "    data=\"%d line\\n\" %i\n",
    "    f.write(data)\n",
    "f.close()"
   ]
  },
  {
   "cell_type": "code",
   "execution_count": null,
   "metadata": {},
   "outputs": [],
   "source": [
    "f=open(\"new.txt\", \"a\")\n",
    "for i in range(6,11):\n",
    "    data=\"%d line\\n\" %i\n",
    "    f.write(data)\n",
    "    \n",
    "f.close()"
   ]
  },
  {
   "cell_type": "code",
   "execution_count": 44,
   "metadata": {},
   "outputs": [
    {
     "data": {
      "text/plain": [
       "'first line\\nsecond line\\nthird line'"
      ]
     },
     "execution_count": 44,
     "metadata": {},
     "output_type": "execute_result"
    }
   ],
   "source": [
    "f=open(\"test.txt\", \"r\")\n",
    "f.read()"
   ]
  },
  {
   "cell_type": "code",
   "execution_count": 46,
   "metadata": {},
   "outputs": [
    {
     "name": "stdout",
     "output_type": "stream",
     "text": [
      "['first line\\n', 'second line\\n', 'third line']\n",
      "['first', 'line', 'second', 'line', 'third', 'line']\n",
      "{'first': 1, 'line': 3, 'second': 1, 'third': 1}\n"
     ]
    }
   ],
   "source": [
    "\n",
    "f=open(\"test.txt\", \"r\")\n",
    "lines=f.readlines()\n",
    "print(lines)\n",
    "print(sentence.split())\n",
    "d={} # 빈 딕셔너리 생성\n",
    "\n",
    "for i in sentence.split():\n",
    "    if i in d:\n",
    "        d[i]+=1 \n",
    "    else:\n",
    "        d[i]=1\n",
    "        \n",
    "print(d)\n",
    "\n",
    "\n",
    "f.close()    \n"
   ]
  },
  {
   "cell_type": "code",
   "execution_count": null,
   "metadata": {},
   "outputs": [],
   "source": []
  },
  {
   "cell_type": "code",
   "execution_count": null,
   "metadata": {},
   "outputs": [],
   "source": []
  },
  {
   "cell_type": "code",
   "execution_count": null,
   "metadata": {},
   "outputs": [],
   "source": [
    "if i in d.keys():\n",
    "        d[i]+=1\n",
    "        \n",
    "else:\n",
    "        d[i]=1\n",
    " \n",
    "        \n",
    "print(d)\n",
    "f.close()    "
   ]
  },
  {
   "cell_type": "code",
   "execution_count": null,
   "metadata": {},
   "outputs": [],
   "source": [
    "f=open(\"test.txt\", \"w\")\n",
    "for i in range(1,4):\n",
    "    data=\"first line\\n second line\\n third line\"\n",
    "    f.write(data)\n",
    "lines=f.readlines()\n",
    "print(lines)\n",
    "f.close()"
   ]
  },
  {
   "cell_type": "code",
   "execution_count": 1,
   "metadata": {},
   "outputs": [
    {
     "data": {
      "text/plain": [
       "True"
      ]
     },
     "execution_count": 1,
     "metadata": {},
     "output_type": "execute_result"
    }
   ],
   "source": [
    "import os\n",
    "os.path.exists(\"test.txt\")"
   ]
  },
  {
   "cell_type": "code",
   "execution_count": 16,
   "metadata": {},
   "outputs": [],
   "source": [
    "def my_len(l):\n",
    "    length=0\n",
    "    for i in l:\n",
    "        length+=1\n",
    "    return length\n",
    "    \n",
    "        "
   ]
  },
  {
   "cell_type": "code",
   "execution_count": 18,
   "metadata": {},
   "outputs": [
    {
     "name": "stdout",
     "output_type": "stream",
     "text": [
      "6 11\n",
      "6 11\n"
     ]
    }
   ],
   "source": [
    "a=[5,5,6,7,8,3]\n",
    "b='i am a boy.'\n",
    "print(len(a), len(b))\n",
    "print(my_len(a), my_len(b))"
   ]
  },
  {
   "cell_type": "code",
   "execution_count": 37,
   "metadata": {},
   "outputs": [
    {
     "name": "stdout",
     "output_type": "stream",
     "text": [
      "3 -1 2 0.5\n"
     ]
    }
   ],
   "source": [
    "\n",
    "def add(x,y):\n",
    "    sum=0\n",
    "    sum=x+y\n",
    "    return sum\n",
    "\n",
    "def sub(x,y):\n",
    "    subs=0\n",
    "    subs=x-y\n",
    "    return subs\n",
    "\n",
    "def mul(x,y):\n",
    "    mult=0\n",
    "    mult=x*y\n",
    "    return mult\n",
    "\n",
    "def div(x,y):\n",
    "    divi=0\n",
    "    divi=x/y\n",
    "    return divi\n",
    "\n",
    "a=1\n",
    "b=2\n",
    "c=add(a,b)\n",
    "d=sub(a,b)\n",
    "e=mul(a,b)\n",
    "f=div(a,b)\n",
    "\n",
    "print(c,d,e,f)\n"
   ]
  },
  {
   "cell_type": "markdown",
   "metadata": {},
   "source": [
    "#양의 정수 n을 입력받아 1부터 n까지 곱해주는 factorial 함수를 작성하시오"
   ]
  },
  {
   "cell_type": "code",
   "execution_count": 41,
   "metadata": {},
   "outputs": [
    {
     "data": {
      "text/plain": [
       "120"
      ]
     },
     "execution_count": 41,
     "metadata": {},
     "output_type": "execute_result"
    }
   ],
   "source": [
    "def factorial(n):\n",
    "    facto=1\n",
    "    for i in range(1, n+1):\n",
    "       facto*=i\n",
    "    return facto\n",
    "\n",
    "factorial(3)\n",
    "factorial(5)"
   ]
  },
  {
   "cell_type": "markdown",
   "metadata": {},
   "source": [
    "n과 a를 입력받아 n의 a제곱을 계산해주는 거듭제곱 함수를 작성하시오"
   ]
  },
  {
   "cell_type": "code",
   "execution_count": 43,
   "metadata": {},
   "outputs": [
    {
     "data": {
      "text/plain": [
       "125"
      ]
     },
     "execution_count": 43,
     "metadata": {},
     "output_type": "execute_result"
    }
   ],
   "source": [
    "def mypow(n,a):\n",
    "    power=1\n",
    "    for i in range(1, a+1):\n",
    "        power*=n\n",
    "    return power\n",
    "\n",
    "mypow(5,3)"
   ]
  },
  {
   "cell_type": "code",
   "execution_count": 47,
   "metadata": {},
   "outputs": [
    {
     "data": {
      "text/plain": [
       "dict_values([1, 2, 10])"
      ]
     },
     "execution_count": 47,
     "metadata": {},
     "output_type": "execute_result"
    }
   ],
   "source": [
    "d = {'youn': 1, 'park': 2, 'kim': 10}\n",
    "d.values()"
   ]
  },
  {
   "cell_type": "code",
   "execution_count": null,
   "metadata": {},
   "outputs": [],
   "source": []
  }
 ],
 "metadata": {
  "kernelspec": {
   "display_name": "Python 3",
   "language": "python",
   "name": "python3"
  },
  "language_info": {
   "codemirror_mode": {
    "name": "ipython",
    "version": 3
   },
   "file_extension": ".py",
   "mimetype": "text/x-python",
   "name": "python",
   "nbconvert_exporter": "python",
   "pygments_lexer": "ipython3",
   "version": "3.7.4"
  }
 },
 "nbformat": 4,
 "nbformat_minor": 2
}
