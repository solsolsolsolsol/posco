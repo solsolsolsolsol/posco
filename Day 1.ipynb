{
 "cells": [
  {
   "cell_type": "markdown",
   "metadata": {},
   "source": [
    "# hello 출력"
   ]
  },
  {
   "cell_type": "code",
   "execution_count": 89,
   "metadata": {},
   "outputs": [
    {
     "name": "stdout",
     "output_type": "stream",
     "text": [
      "hello world!\n",
      "hello\n"
     ]
    }
   ],
   "source": [
    "print(\"hello world!\")\n",
    "print('hello')\n"
   ]
  },
  {
   "cell_type": "markdown",
   "metadata": {},
   "source": [
    "# 파이썬은 마지막으로 입력한 숫자가 중요하다"
   ]
  },
  {
   "cell_type": "code",
   "execution_count": 31,
   "metadata": {},
   "outputs": [
    {
     "data": {
      "text/plain": [
       "10.0"
      ]
     },
     "execution_count": 31,
     "metadata": {},
     "output_type": "execute_result"
    }
   ],
   "source": [
    "a=100\n",
    "a/10"
   ]
  },
  {
   "cell_type": "code",
   "execution_count": 30,
   "metadata": {},
   "outputs": [
    {
     "data": {
      "text/plain": [
       "1.0"
      ]
     },
     "execution_count": 30,
     "metadata": {},
     "output_type": "execute_result"
    }
   ],
   "source": [
    "a=10\n",
    "a/10"
   ]
  },
  {
   "cell_type": "markdown",
   "metadata": {},
   "source": [
    "# 숫자 입력하기"
   ]
  },
  {
   "cell_type": "code",
   "execution_count": 17,
   "metadata": {},
   "outputs": [
    {
     "name": "stdout",
     "output_type": "stream",
     "text": [
      "첫번째 숫자를 입력하세요:0\n",
      "0\n"
     ]
    },
    {
     "data": {
      "text/plain": [
       "str"
      ]
     },
     "execution_count": 17,
     "metadata": {},
     "output_type": "execute_result"
    }
   ],
   "source": [
    "number=input(\"첫번째 숫자를 입력하세요:\")\n",
    "print(number)\n",
    "type(number)"
   ]
  },
  {
   "cell_type": "code",
   "execution_count": 18,
   "metadata": {},
   "outputs": [
    {
     "name": "stdout",
     "output_type": "stream",
     "text": [
      "10 + 20 = 30\n"
     ]
    }
   ],
   "source": [
    "a=10\n",
    "b=20\n",
    "result=a+b\n",
    "print(a, \"+\", b, \"=\", result)"
   ]
  },
  {
   "cell_type": "markdown",
   "metadata": {},
   "source": [
    "# 실습 문제1 화씨 섭씨 변환"
   ]
  },
  {
   "cell_type": "code",
   "execution_count": 20,
   "metadata": {},
   "outputs": [
    {
     "name": "stdout",
     "output_type": "stream",
     "text": [
      "화씨를 입력하세요:100\n",
      "37.77777777777778\n"
     ]
    }
   ],
   "source": [
    "F=int(input(\"화씨를 입력하세요:\"))\n",
    "C=(F-32)*5/9\n",
    "print(C)"
   ]
  },
  {
   "cell_type": "markdown",
   "metadata": {},
   "source": [
    "# 실습 문제2 사용자로부터 투입한 돈과 물건 값을 입력 받아, 잔돈을 계산하여 출력한다. 단, 동전의 개수는 최소화 할 것"
   ]
  },
  {
   "cell_type": "code",
   "execution_count": 29,
   "metadata": {},
   "outputs": [
    {
     "name": "stdout",
     "output_type": "stream",
     "text": [
      "투입한 돈: 5000\n",
      "물건값: 2700\n",
      "거스름돈: 2300\n",
      "500원짜리: 4개\n",
      "100원짜리: 3개\n"
     ]
    }
   ],
   "source": [
    "money=int(input(\"투입한 돈: \"))\n",
    "price=int(input(\"물건값: \"))\n",
    "change=money-price\n",
    "won500=change//500\n",
    "won100=change%500/100\n",
    "print(\"거스름돈: %d\" %change)\n",
    "print(\"500원짜리: %d개\" %won500)\n",
    "print(\"100원짜리: %d개\" %won100)"
   ]
  },
  {
   "cell_type": "markdown",
   "metadata": {},
   "source": [
    "# (문제 3) 원의 반지름을 r을 입력 받아, 원의 둘레와 넓이를 구하는 프로그램을 작성하시오."
   ]
  },
  {
   "cell_type": "code",
   "execution_count": 88,
   "metadata": {},
   "outputs": [
    {
     "name": "stdout",
     "output_type": "stream",
     "text": [
      "원의 반지름을 입력하세요: 4\n",
      "원의 둘레: 25.1\n",
      "원의 넓이: 50.3\n"
     ]
    }
   ],
   "source": [
    "r=float(input(\"원의 반지름을 입력하세요: \"))\n",
    "import math  \n",
    "circumference=round(2*math.pi*r,1)\n",
    "area=round(math.pi*r**2,1)\n",
    "print(\"원의 둘레: %s\" %circumference)\n",
    "print(\"원의 넓이: %s\" %area)"
   ]
  },
  {
   "cell_type": "markdown",
   "metadata": {},
   "source": [
    "# (문제 5) 2개의 정수를 입력 받아, 사칙연산 및 나머지 연산의 결과"
   ]
  },
  {
   "cell_type": "code",
   "execution_count": 65,
   "metadata": {},
   "outputs": [
    {
     "name": "stdout",
     "output_type": "stream",
     "text": [
      "Enter two integers: 4 5\n",
      "4 + 5 = 9\n",
      "4 - 5 = -1\n",
      "4 * 5 = 20\n",
      "4 / 5 = 0.8\n",
      "4 % 5 = 4\n"
     ]
    }
   ],
   "source": [
    "a, b = map(int, input(\"Enter two integers: \").split())\n",
    "print(a, '+', b, '=', a+b)\n",
    "print(a, '-', b, '=', a-b)\n",
    "print(a, '*', b, '=', a*b)\n",
    "print(a, '/', b, '=', a/b)\n",
    "print(a, '%', b, '=', a%b)"
   ]
  },
  {
   "cell_type": "markdown",
   "metadata": {},
   "source": [
    "# (문제 6) 두 정수를 입력 받아, 합과 평균을 구하여 출력하는 프로그램을 작성하시오."
   ]
  },
  {
   "cell_type": "code",
   "execution_count": 72,
   "metadata": {},
   "outputs": [
    {
     "name": "stdout",
     "output_type": "stream",
     "text": [
      "Enter two integers: 4.3 5.1\n",
      "The sum of 4.3 and 5.1 is 9.4\n",
      "The average of numbers is 4.7\n"
     ]
    }
   ],
   "source": [
    "a, b = map(float, input(\"Enter two integers: \").split())\n",
    "print('The sum of', a, 'and', b, 'is', round(a+b,1))\n",
    "print('The average of numbers is', round((a+b)/2,1))"
   ]
  },
  {
   "cell_type": "code",
   "execution_count": 82,
   "metadata": {},
   "outputs": [
    {
     "data": {
      "text/plain": [
       "[0, 1, 2, 3, 4]"
      ]
     },
     "execution_count": 82,
     "metadata": {},
     "output_type": "execute_result"
    }
   ],
   "source": [
    "list(range(5))"
   ]
  },
  {
   "cell_type": "code",
   "execution_count": 86,
   "metadata": {},
   "outputs": [
    {
     "data": {
      "text/plain": [
       "[1, 2, 3, 4, 5]"
      ]
     },
     "execution_count": 86,
     "metadata": {},
     "output_type": "execute_result"
    }
   ],
   "source": [
    "list(range(1, 6))"
   ]
  },
  {
   "cell_type": "code",
   "execution_count": 85,
   "metadata": {},
   "outputs": [
    {
     "data": {
      "text/plain": [
       "[1, 3, 5]"
      ]
     },
     "execution_count": 85,
     "metadata": {},
     "output_type": "execute_result"
    }
   ],
   "source": [
    "list(range(1, 7, 2))"
   ]
  },
  {
   "cell_type": "code",
   "execution_count": 101,
   "metadata": {},
   "outputs": [
    {
     "data": {
      "text/plain": [
       "'nhy'"
      ]
     },
     "execution_count": 101,
     "metadata": {},
     "output_type": "execute_result"
    }
   ],
   "source": [
    "word='python'\n",
    "word[::-2]"
   ]
  },
  {
   "cell_type": "code",
   "execution_count": 103,
   "metadata": {},
   "outputs": [
    {
     "data": {
      "text/plain": [
       "13"
      ]
     },
     "execution_count": 103,
     "metadata": {},
     "output_type": "execute_result"
    }
   ],
   "source": [
    "s='python is fun'\n",
    "s.count('n')\n",
    "len(s)"
   ]
  },
  {
   "cell_type": "code",
   "execution_count": 107,
   "metadata": {},
   "outputs": [
    {
     "data": {
      "text/plain": [
       "'o'"
      ]
     },
     "execution_count": 107,
     "metadata": {},
     "output_type": "execute_result"
    }
   ],
   "source": [
    "word='hello'\n",
    "word[int(len(word))-1]\n"
   ]
  },
  {
   "cell_type": "code",
   "execution_count": 122,
   "metadata": {},
   "outputs": [
    {
     "name": "stdout",
     "output_type": "stream",
     "text": [
      "날짜(연/월/일)입력:2012/03/14\n",
      "입력한 날짜의 10년 후는 2022년 3월 14일\n"
     ]
    }
   ],
   "source": [
    "yy, mm, dd=list(map(int, input('날짜(연/월/일)입력:').split('/')))\n",
    "yy=yy+10\n",
    "print('입력한 날짜의 10년 후는 %d년 %s월 %d일' %(yy, mm, dd))"
   ]
  },
  {
   "cell_type": "code",
   "execution_count": 120,
   "metadata": {},
   "outputs": [
    {
     "data": {
      "text/plain": [
       "3"
      ]
     },
     "execution_count": 120,
     "metadata": {},
     "output_type": "execute_result"
    }
   ],
   "source": [
    "date=input()\n",
    "ls=date.split('/')\n"
   ]
  },
  {
   "cell_type": "markdown",
   "metadata": {},
   "source": [
    "# 조건문-실습1"
   ]
  },
  {
   "cell_type": "code",
   "execution_count": 5,
   "metadata": {},
   "outputs": [
    {
     "name": "stdout",
     "output_type": "stream",
     "text": [
      "영어 점수 입력:35\n",
      "수학 점수 입력:95\n",
      "불합격: 영어 점수 부족\n"
     ]
    }
   ],
   "source": [
    "english=int(input(\"영어 점수 입력:\"))\n",
    "math=int(input(\"수학 점수 입력:\"))\n",
    "sum=english+math\n",
    "if sum<110:\n",
    "    print(\"불합격: 총합 점수 부족\")\n",
    "elif english<40:\n",
    "    print(\"불합격: 영어 점수 부족\")\n",
    "elif math<40:\n",
    "    print(\"불합격: 수학 점수 부족\")\n",
    "else: \n",
    "    print(\"합격\")"
   ]
  },
  {
   "cell_type": "code",
   "execution_count": null,
   "metadata": {},
   "outputs": [],
   "source": []
  },
  {
   "cell_type": "code",
   "execution_count": null,
   "metadata": {},
   "outputs": [],
   "source": []
  }
 ],
 "metadata": {
  "kernelspec": {
   "display_name": "Python 3",
   "language": "python",
   "name": "python3"
  },
  "language_info": {
   "codemirror_mode": {
    "name": "ipython",
    "version": 3
   },
   "file_extension": ".py",
   "mimetype": "text/x-python",
   "name": "python",
   "nbconvert_exporter": "python",
   "pygments_lexer": "ipython3",
   "version": "3.7.4"
  }
 },
 "nbformat": 4,
 "nbformat_minor": 2
}
