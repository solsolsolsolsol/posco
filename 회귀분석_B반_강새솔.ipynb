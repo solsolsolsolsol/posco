{
 "cells": [
  {
   "cell_type": "code",
   "execution_count": 33,
   "metadata": {},
   "outputs": [],
   "source": [
    "import pandas as pd\n",
    "import numpy as np\n",
    "from sklearn.preprocessing import scale, minmax_scale, robust_scale\n",
    "%matplotlib inline\n",
    "import matplotlib\n",
    "import matplotlib.pyplot as plt\n",
    "import seaborn as sns\n",
    "from sklearn.preprocessing import StandardScaler\n",
    "from sklearn.linear_model import LinearRegression\n",
    "from sklearn.feature_selection import RFE\n",
    "from statsmodels.formula.api import ols\n",
    "from statsmodels.api import qqplot, add_constant\n",
    "import statsmodels.formula.api as smf\n",
    "from statsmodels.tools.eval_measures import rmse\n",
    "%matplotlib inline\n",
    "from statsmodels.stats.outliers_influence import variance_inflation_factor"
   ]
  },
  {
   "cell_type": "code",
   "execution_count": 34,
   "metadata": {},
   "outputs": [
    {
     "data": {
      "text/html": [
       "<div>\n",
       "<style scoped>\n",
       "    .dataframe tbody tr th:only-of-type {\n",
       "        vertical-align: middle;\n",
       "    }\n",
       "\n",
       "    .dataframe tbody tr th {\n",
       "        vertical-align: top;\n",
       "    }\n",
       "\n",
       "    .dataframe thead th {\n",
       "        text-align: right;\n",
       "    }\n",
       "</style>\n",
       "<table border=\"1\" class=\"dataframe\">\n",
       "  <thead>\n",
       "    <tr style=\"text-align: right;\">\n",
       "      <th></th>\n",
       "      <th>FAT</th>\n",
       "      <th>AGE</th>\n",
       "      <th>WEIGHT</th>\n",
       "      <th>HEIGHT</th>\n",
       "      <th>NECK</th>\n",
       "      <th>CHEST</th>\n",
       "      <th>ABDOMEN</th>\n",
       "      <th>HIP</th>\n",
       "      <th>THIGH</th>\n",
       "      <th>KNEE</th>\n",
       "      <th>ANKLE</th>\n",
       "      <th>BICEPS</th>\n",
       "      <th>FOREARM</th>\n",
       "      <th>WRIST</th>\n",
       "    </tr>\n",
       "  </thead>\n",
       "  <tbody>\n",
       "    <tr>\n",
       "      <td>count</td>\n",
       "      <td>252.000000</td>\n",
       "      <td>252.000000</td>\n",
       "      <td>252.000000</td>\n",
       "      <td>252.000000</td>\n",
       "      <td>252.000000</td>\n",
       "      <td>252.000000</td>\n",
       "      <td>252.000000</td>\n",
       "      <td>252.000000</td>\n",
       "      <td>252.000000</td>\n",
       "      <td>252.000000</td>\n",
       "      <td>252.000000</td>\n",
       "      <td>252.000000</td>\n",
       "      <td>252.000000</td>\n",
       "      <td>252.000000</td>\n",
       "    </tr>\n",
       "    <tr>\n",
       "      <td>mean</td>\n",
       "      <td>19.150794</td>\n",
       "      <td>44.884921</td>\n",
       "      <td>178.924405</td>\n",
       "      <td>70.148810</td>\n",
       "      <td>37.992063</td>\n",
       "      <td>100.824206</td>\n",
       "      <td>92.555952</td>\n",
       "      <td>99.904762</td>\n",
       "      <td>59.405952</td>\n",
       "      <td>38.590476</td>\n",
       "      <td>23.102381</td>\n",
       "      <td>32.273413</td>\n",
       "      <td>28.663889</td>\n",
       "      <td>18.229762</td>\n",
       "    </tr>\n",
       "    <tr>\n",
       "      <td>std</td>\n",
       "      <td>8.368740</td>\n",
       "      <td>12.602040</td>\n",
       "      <td>29.389160</td>\n",
       "      <td>3.662856</td>\n",
       "      <td>2.430913</td>\n",
       "      <td>8.430476</td>\n",
       "      <td>10.783077</td>\n",
       "      <td>7.164058</td>\n",
       "      <td>5.249952</td>\n",
       "      <td>2.411805</td>\n",
       "      <td>1.694893</td>\n",
       "      <td>3.021274</td>\n",
       "      <td>2.020691</td>\n",
       "      <td>0.933585</td>\n",
       "    </tr>\n",
       "    <tr>\n",
       "      <td>min</td>\n",
       "      <td>0.000000</td>\n",
       "      <td>22.000000</td>\n",
       "      <td>118.500000</td>\n",
       "      <td>29.500000</td>\n",
       "      <td>31.100000</td>\n",
       "      <td>79.300000</td>\n",
       "      <td>69.400000</td>\n",
       "      <td>85.000000</td>\n",
       "      <td>47.200000</td>\n",
       "      <td>33.000000</td>\n",
       "      <td>19.100000</td>\n",
       "      <td>24.800000</td>\n",
       "      <td>21.000000</td>\n",
       "      <td>15.800000</td>\n",
       "    </tr>\n",
       "    <tr>\n",
       "      <td>25%</td>\n",
       "      <td>12.475000</td>\n",
       "      <td>35.750000</td>\n",
       "      <td>159.000000</td>\n",
       "      <td>68.250000</td>\n",
       "      <td>36.400000</td>\n",
       "      <td>94.350000</td>\n",
       "      <td>84.575000</td>\n",
       "      <td>95.500000</td>\n",
       "      <td>56.000000</td>\n",
       "      <td>36.975000</td>\n",
       "      <td>22.000000</td>\n",
       "      <td>30.200000</td>\n",
       "      <td>27.300000</td>\n",
       "      <td>17.600000</td>\n",
       "    </tr>\n",
       "    <tr>\n",
       "      <td>50%</td>\n",
       "      <td>19.200000</td>\n",
       "      <td>43.000000</td>\n",
       "      <td>176.500000</td>\n",
       "      <td>70.000000</td>\n",
       "      <td>38.000000</td>\n",
       "      <td>99.650000</td>\n",
       "      <td>90.950000</td>\n",
       "      <td>99.300000</td>\n",
       "      <td>59.000000</td>\n",
       "      <td>38.500000</td>\n",
       "      <td>22.800000</td>\n",
       "      <td>32.050000</td>\n",
       "      <td>28.700000</td>\n",
       "      <td>18.300000</td>\n",
       "    </tr>\n",
       "    <tr>\n",
       "      <td>75%</td>\n",
       "      <td>25.300000</td>\n",
       "      <td>54.000000</td>\n",
       "      <td>197.000000</td>\n",
       "      <td>72.250000</td>\n",
       "      <td>39.425000</td>\n",
       "      <td>105.375000</td>\n",
       "      <td>99.325000</td>\n",
       "      <td>103.525000</td>\n",
       "      <td>62.350000</td>\n",
       "      <td>39.925000</td>\n",
       "      <td>24.000000</td>\n",
       "      <td>34.325000</td>\n",
       "      <td>30.000000</td>\n",
       "      <td>18.800000</td>\n",
       "    </tr>\n",
       "    <tr>\n",
       "      <td>max</td>\n",
       "      <td>47.500000</td>\n",
       "      <td>81.000000</td>\n",
       "      <td>363.150000</td>\n",
       "      <td>77.750000</td>\n",
       "      <td>51.200000</td>\n",
       "      <td>136.200000</td>\n",
       "      <td>148.100000</td>\n",
       "      <td>147.700000</td>\n",
       "      <td>87.300000</td>\n",
       "      <td>49.100000</td>\n",
       "      <td>33.900000</td>\n",
       "      <td>45.000000</td>\n",
       "      <td>34.900000</td>\n",
       "      <td>21.400000</td>\n",
       "    </tr>\n",
       "  </tbody>\n",
       "</table>\n",
       "</div>"
      ],
      "text/plain": [
       "              FAT         AGE      WEIGHT      HEIGHT        NECK       CHEST  \\\n",
       "count  252.000000  252.000000  252.000000  252.000000  252.000000  252.000000   \n",
       "mean    19.150794   44.884921  178.924405   70.148810   37.992063  100.824206   \n",
       "std      8.368740   12.602040   29.389160    3.662856    2.430913    8.430476   \n",
       "min      0.000000   22.000000  118.500000   29.500000   31.100000   79.300000   \n",
       "25%     12.475000   35.750000  159.000000   68.250000   36.400000   94.350000   \n",
       "50%     19.200000   43.000000  176.500000   70.000000   38.000000   99.650000   \n",
       "75%     25.300000   54.000000  197.000000   72.250000   39.425000  105.375000   \n",
       "max     47.500000   81.000000  363.150000   77.750000   51.200000  136.200000   \n",
       "\n",
       "          ABDOMEN         HIP       THIGH        KNEE       ANKLE      BICEPS  \\\n",
       "count  252.000000  252.000000  252.000000  252.000000  252.000000  252.000000   \n",
       "mean    92.555952   99.904762   59.405952   38.590476   23.102381   32.273413   \n",
       "std     10.783077    7.164058    5.249952    2.411805    1.694893    3.021274   \n",
       "min     69.400000   85.000000   47.200000   33.000000   19.100000   24.800000   \n",
       "25%     84.575000   95.500000   56.000000   36.975000   22.000000   30.200000   \n",
       "50%     90.950000   99.300000   59.000000   38.500000   22.800000   32.050000   \n",
       "75%     99.325000  103.525000   62.350000   39.925000   24.000000   34.325000   \n",
       "max    148.100000  147.700000   87.300000   49.100000   33.900000   45.000000   \n",
       "\n",
       "          FOREARM       WRIST  \n",
       "count  252.000000  252.000000  \n",
       "mean    28.663889   18.229762  \n",
       "std      2.020691    0.933585  \n",
       "min     21.000000   15.800000  \n",
       "25%     27.300000   17.600000  \n",
       "50%     28.700000   18.300000  \n",
       "75%     30.000000   18.800000  \n",
       "max     34.900000   21.400000  "
      ]
     },
     "execution_count": 34,
     "metadata": {},
     "output_type": "execute_result"
    }
   ],
   "source": [
    "# 데이터 불러오기 및 기술통계량 확인\n",
    "df_raw = pd.read_csv(\"체질검사.csv\", engine=\"python\", encoding=\"cp949\") \n",
    "df_raw.describe()"
   ]
  },
  {
   "cell_type": "code",
   "execution_count": 35,
   "metadata": {
    "scrolled": false
   },
   "outputs": [
    {
     "data": {
      "text/plain": [
       "FAT        0\n",
       "AGE        0\n",
       "WEIGHT     0\n",
       "HEIGHT     0\n",
       "NECK       0\n",
       "CHEST      0\n",
       "ABDOMEN    0\n",
       "HIP        0\n",
       "THIGH      0\n",
       "KNEE       0\n",
       "ANKLE      0\n",
       "BICEPS     0\n",
       "FOREARM    0\n",
       "WRIST      0\n",
       "dtype: int64"
      ]
     },
     "execution_count": 35,
     "metadata": {},
     "output_type": "execute_result"
    }
   ],
   "source": [
    "# 결측치 확인: 없음\n",
    "df_raw.isnull().sum()"
   ]
  },
  {
   "cell_type": "code",
   "execution_count": 102,
   "metadata": {
    "scrolled": true
   },
   "outputs": [
    {
     "data": {
      "text/plain": [
       "<matplotlib.axes._subplots.AxesSubplot at 0x7ff8192aba50>"
      ]
     },
     "execution_count": 102,
     "metadata": {},
     "output_type": "execute_result"
    },
    {
     "data": {
      "image/png": "[encoded data removed]",
      "text/plain": [
       "<Figure size 864x288 with 1 Axes>"
      ]
     },
     "metadata": {
      "needs_background": "light"
     },
     "output_type": "display_data"
    }
   ],
   "source": [
    "# 이상치 확인\n",
    "df_raw_varlist=df_raw.drop([\"FAT\", \"WEIGHT\", \"HEIGHT\"], axis=1)\n",
    "df_raw_varlist.boxplot(figsize=(12,4), whis=3)"
   ]
  },
  {
   "cell_type": "code",
   "execution_count": 103,
   "metadata": {},
   "outputs": [
    {
     "data": {
      "text/plain": [
       "<matplotlib.axes._subplots.AxesSubplot at 0x7ff8194af1d0>"
      ]
     },
     "execution_count": 103,
     "metadata": {},
     "output_type": "execute_result"
    },
    {
     "data": {
      "image/png": "[encoded data removed]",
      "text/plain": [
       "<Figure size 864x288 with 1 Axes>"
      ]
     },
     "metadata": {
      "needs_background": "light"
     },
     "output_type": "display_data"
    }
   ],
   "source": [
    "# 보수적으로 whis=3인 이상치만을 제거한다.\n",
    "# NECK, ABDOMEN, HIP, THIGH, KNEE, ANKLE, BMI의 이상치를 제거한다.\n",
    "df_p=df_raw\n",
    "df_p=df_p[df_p[\"NECK\"]<50]\n",
    "df_p=df_p[df_p[\"ABDOMEN\"]<140]\n",
    "df_p=df_p[df_p[\"HIP\"]<140]\n",
    "df_p=df_p[df_p[\"THIGH\"]<80]\n",
    "df_p=df_p[df_p[\"BMI\"]<160]\n",
    "df_p=df_p[df_p[\"ANKLE\"]<33]\n",
    "df_p.boxplot(figsize=(12,4), whis=3 )"
   ]
  },
  {
   "cell_type": "code",
   "execution_count": 80,
   "metadata": {
    "scrolled": false
   },
   "outputs": [
    {
     "data": {
      "text/html": [
       "<div>\n",
       "<style scoped>\n",
       "    .dataframe tbody tr th:only-of-type {\n",
       "        vertical-align: middle;\n",
       "    }\n",
       "\n",
       "    .dataframe tbody tr th {\n",
       "        vertical-align: top;\n",
       "    }\n",
       "\n",
       "    .dataframe thead th {\n",
       "        text-align: right;\n",
       "    }\n",
       "</style>\n",
       "<table border=\"1\" class=\"dataframe\">\n",
       "  <thead>\n",
       "    <tr style=\"text-align: right;\">\n",
       "      <th></th>\n",
       "      <th>FAT</th>\n",
       "      <th>AGE</th>\n",
       "      <th>WEIGHT</th>\n",
       "      <th>HEIGHT</th>\n",
       "      <th>NECK</th>\n",
       "      <th>CHEST</th>\n",
       "      <th>ABDOMEN</th>\n",
       "      <th>HIP</th>\n",
       "      <th>THIGH</th>\n",
       "      <th>KNEE</th>\n",
       "      <th>ANKLE</th>\n",
       "      <th>BICEPS</th>\n",
       "      <th>FOREARM</th>\n",
       "      <th>WRIST</th>\n",
       "      <th>BMI</th>\n",
       "    </tr>\n",
       "  </thead>\n",
       "  <tbody>\n",
       "    <tr>\n",
       "      <td>count</td>\n",
       "      <td>248.000000</td>\n",
       "      <td>248.000000</td>\n",
       "      <td>248.000000</td>\n",
       "      <td>248.000000</td>\n",
       "      <td>248.000000</td>\n",
       "      <td>248.000000</td>\n",
       "      <td>248.000000</td>\n",
       "      <td>248.000000</td>\n",
       "      <td>248.00000</td>\n",
       "      <td>248.000000</td>\n",
       "      <td>248.00000</td>\n",
       "      <td>248.000000</td>\n",
       "      <td>248.000000</td>\n",
       "      <td>248.000000</td>\n",
       "      <td>248.000000</td>\n",
       "    </tr>\n",
       "    <tr>\n",
       "      <td>mean</td>\n",
       "      <td>19.029839</td>\n",
       "      <td>44.846774</td>\n",
       "      <td>178.112097</td>\n",
       "      <td>70.300403</td>\n",
       "      <td>37.947581</td>\n",
       "      <td>100.669758</td>\n",
       "      <td>92.311694</td>\n",
       "      <td>99.664516</td>\n",
       "      <td>59.27500</td>\n",
       "      <td>38.535081</td>\n",
       "      <td>22.98750</td>\n",
       "      <td>32.215323</td>\n",
       "      <td>28.670161</td>\n",
       "      <td>18.219758</td>\n",
       "      <td>25.096486</td>\n",
       "    </tr>\n",
       "    <tr>\n",
       "      <td>std</td>\n",
       "      <td>8.301183</td>\n",
       "      <td>12.598467</td>\n",
       "      <td>27.134401</td>\n",
       "      <td>2.611962</td>\n",
       "      <td>2.297366</td>\n",
       "      <td>8.185932</td>\n",
       "      <td>10.244793</td>\n",
       "      <td>6.465921</td>\n",
       "      <td>4.92233</td>\n",
       "      <td>2.322993</td>\n",
       "      <td>1.34419</td>\n",
       "      <td>2.934178</td>\n",
       "      <td>2.035017</td>\n",
       "      <td>0.917604</td>\n",
       "      <td>3.332037</td>\n",
       "    </tr>\n",
       "    <tr>\n",
       "      <td>min</td>\n",
       "      <td>0.000000</td>\n",
       "      <td>22.000000</td>\n",
       "      <td>118.500000</td>\n",
       "      <td>64.000000</td>\n",
       "      <td>31.100000</td>\n",
       "      <td>79.300000</td>\n",
       "      <td>69.400000</td>\n",
       "      <td>85.000000</td>\n",
       "      <td>47.20000</td>\n",
       "      <td>33.000000</td>\n",
       "      <td>19.10000</td>\n",
       "      <td>24.800000</td>\n",
       "      <td>21.000000</td>\n",
       "      <td>15.800000</td>\n",
       "      <td>17.874982</td>\n",
       "    </tr>\n",
       "    <tr>\n",
       "      <td>25%</td>\n",
       "      <td>12.475000</td>\n",
       "      <td>35.750000</td>\n",
       "      <td>158.187500</td>\n",
       "      <td>68.250000</td>\n",
       "      <td>36.375000</td>\n",
       "      <td>94.150000</td>\n",
       "      <td>84.475000</td>\n",
       "      <td>95.475000</td>\n",
       "      <td>56.00000</td>\n",
       "      <td>36.900000</td>\n",
       "      <td>22.00000</td>\n",
       "      <td>30.200000</td>\n",
       "      <td>27.300000</td>\n",
       "      <td>17.600000</td>\n",
       "      <td>22.847828</td>\n",
       "    </tr>\n",
       "    <tr>\n",
       "      <td>50%</td>\n",
       "      <td>19.200000</td>\n",
       "      <td>43.000000</td>\n",
       "      <td>176.125000</td>\n",
       "      <td>70.000000</td>\n",
       "      <td>38.000000</td>\n",
       "      <td>99.600000</td>\n",
       "      <td>90.950000</td>\n",
       "      <td>99.300000</td>\n",
       "      <td>59.00000</td>\n",
       "      <td>38.450000</td>\n",
       "      <td>22.80000</td>\n",
       "      <td>32.000000</td>\n",
       "      <td>28.750000</td>\n",
       "      <td>18.300000</td>\n",
       "      <td>24.822534</td>\n",
       "    </tr>\n",
       "    <tr>\n",
       "      <td>75%</td>\n",
       "      <td>25.200000</td>\n",
       "      <td>54.000000</td>\n",
       "      <td>196.812500</td>\n",
       "      <td>72.250000</td>\n",
       "      <td>39.425000</td>\n",
       "      <td>105.300000</td>\n",
       "      <td>99.200000</td>\n",
       "      <td>103.275000</td>\n",
       "      <td>62.30000</td>\n",
       "      <td>39.900000</td>\n",
       "      <td>24.00000</td>\n",
       "      <td>34.325000</td>\n",
       "      <td>30.000000</td>\n",
       "      <td>18.800000</td>\n",
       "      <td>27.091716</td>\n",
       "    </tr>\n",
       "    <tr>\n",
       "      <td>max</td>\n",
       "      <td>47.500000</td>\n",
       "      <td>81.000000</td>\n",
       "      <td>262.750000</td>\n",
       "      <td>77.750000</td>\n",
       "      <td>43.900000</td>\n",
       "      <td>128.300000</td>\n",
       "      <td>126.200000</td>\n",
       "      <td>125.600000</td>\n",
       "      <td>74.40000</td>\n",
       "      <td>46.000000</td>\n",
       "      <td>27.00000</td>\n",
       "      <td>39.100000</td>\n",
       "      <td>34.900000</td>\n",
       "      <td>21.400000</td>\n",
       "      <td>38.774160</td>\n",
       "    </tr>\n",
       "  </tbody>\n",
       "</table>\n",
       "</div>"
      ],
      "text/plain": [
       "              FAT         AGE      WEIGHT      HEIGHT        NECK       CHEST  \\\n",
       "count  248.000000  248.000000  248.000000  248.000000  248.000000  248.000000   \n",
       "mean    19.029839   44.846774  178.112097   70.300403   37.947581  100.669758   \n",
       "std      8.301183   12.598467   27.134401    2.611962    2.297366    8.185932   \n",
       "min      0.000000   22.000000  118.500000   64.000000   31.100000   79.300000   \n",
       "25%     12.475000   35.750000  158.187500   68.250000   36.375000   94.150000   \n",
       "50%     19.200000   43.000000  176.125000   70.000000   38.000000   99.600000   \n",
       "75%     25.200000   54.000000  196.812500   72.250000   39.425000  105.300000   \n",
       "max     47.500000   81.000000  262.750000   77.750000   43.900000  128.300000   \n",
       "\n",
       "          ABDOMEN         HIP      THIGH        KNEE      ANKLE      BICEPS  \\\n",
       "count  248.000000  248.000000  248.00000  248.000000  248.00000  248.000000   \n",
       "mean    92.311694   99.664516   59.27500   38.535081   22.98750   32.215323   \n",
       "std     10.244793    6.465921    4.92233    2.322993    1.34419    2.934178   \n",
       "min     69.400000   85.000000   47.20000   33.000000   19.10000   24.800000   \n",
       "25%     84.475000   95.475000   56.00000   36.900000   22.00000   30.200000   \n",
       "50%     90.950000   99.300000   59.00000   38.450000   22.80000   32.000000   \n",
       "75%     99.200000  103.275000   62.30000   39.900000   24.00000   34.325000   \n",
       "max    126.200000  125.600000   74.40000   46.000000   27.00000   39.100000   \n",
       "\n",
       "          FOREARM       WRIST         BMI  \n",
       "count  248.000000  248.000000  248.000000  \n",
       "mean    28.670161   18.219758   25.096486  \n",
       "std      2.035017    0.917604    3.332037  \n",
       "min     21.000000   15.800000   17.874982  \n",
       "25%     27.300000   17.600000   22.847828  \n",
       "50%     28.750000   18.300000   24.822534  \n",
       "75%     30.000000   18.800000   27.091716  \n",
       "max     34.900000   21.400000   38.774160  "
      ]
     },
     "execution_count": 80,
     "metadata": {},
     "output_type": "execute_result"
    }
   ],
   "source": [
    "# BMI 계산: 뭄무게(KG)를 키(M)의 제곱으로 나눈 값\n",
    "numerator=0.45*df_p['WEIGHT']\n",
    "denominator=(2.54*df_p['HEIGHT']/100)**2\n",
    "df_p['BMI']=numerator/denominator\n",
    "df_p.describe()"
   ]
  },
  {
   "cell_type": "code",
   "execution_count": 81,
   "metadata": {},
   "outputs": [
    {
     "name": "stdout",
     "output_type": "stream",
     "text": [
      "                            OLS Regression Results                            \n",
      "==============================================================================\n",
      "Dep. Variable:                    FAT   R-squared:                       0.752\n",
      "Model:                            OLS   Adj. R-squared:                  0.739\n",
      "Method:                 Least Squares   F-statistic:                     59.23\n",
      "Date:                Tue, 04 Feb 2020   Prob (F-statistic):           4.54e-64\n",
      "Time:                        22:07:13   Log-Likelihood:                -703.60\n",
      "No. Observations:                 248   AIC:                             1433.\n",
      "Df Residuals:                     235   BIC:                             1479.\n",
      "Df Model:                          12                                         \n",
      "Covariance Type:            nonrobust                                         \n",
      "==============================================================================\n",
      "                 coef    std err          t      P>|t|      [0.025      0.975]\n",
      "------------------------------------------------------------------------------\n",
      "Intercept      3.5877      7.653      0.469      0.640     -11.489      18.664\n",
      "BMI            0.5208      0.264      1.974      0.050       0.001       1.041\n",
      "AGE            0.0728      0.032      2.307      0.022       0.011       0.135\n",
      "NECK          -0.4690      0.227     -2.066      0.040      -0.916      -0.022\n",
      "CHEST         -0.1918      0.098     -1.952      0.052      -0.385       0.002\n",
      "ABDOMEN        0.8600      0.089      9.620      0.000       0.684       1.036\n",
      "HIP           -0.2656      0.130     -2.037      0.043      -0.522      -0.009\n",
      "THIGH          0.1647      0.147      1.124      0.262      -0.124       0.454\n",
      "KNEE          -0.0420      0.244     -0.172      0.863      -0.522       0.438\n",
      "ANKLE         -0.1328      0.351     -0.379      0.705      -0.824       0.558\n",
      "BICEPS         0.1122      0.169      0.666      0.506      -0.220       0.444\n",
      "FOREARM        0.2450      0.207      1.183      0.238      -0.163       0.653\n",
      "WRIST         -1.7803      0.549     -3.242      0.001      -2.862      -0.699\n",
      "==============================================================================\n",
      "Omnibus:                        4.112   Durbin-Watson:                   2.082\n",
      "Prob(Omnibus):                  0.128   Jarque-Bera (JB):                2.800\n",
      "Skew:                           0.074   Prob(JB):                        0.247\n",
      "Kurtosis:                       2.501   Cond. No.                     5.73e+03\n",
      "==============================================================================\n",
      "\n",
      "Warnings:\n",
      "[1] Standard Errors assume that the covariance matrix of the errors is correctly specified.\n",
      "[2] The condition number is large, 5.73e+03. This might indicate that there are\n",
      "strong multicollinearity or other numerical problems.\n"
     ]
    }
   ],
   "source": [
    "# 모든 변수(키와 몸무게 대신 BMI 사용)를 포함한 회귀분석\n",
    "reg_model=smf.ols(formula=\"FAT ~BMI+AGE+NECK+CHEST+ABDOMEN+HIP+THIGH+KNEE+ANKLE+BICEPS+FOREARM+WRIST\", data=df_p)\n",
    "reg_result=reg_model.fit()\n",
    "print(reg_result.summary())\n",
    "# R^2는 0.752로, 위 모형은 전체 데이터의 약 75%를 설명한다.\n",
    "# F-STAT의 P-VALUE를 고려할 때 모형은 유의하다.\n",
    "# 5% 유의수준에서 BMI, 나이, 목, 복부, 엉덩이, 손목이 지방에 유의한 영향을 미친다. "
   ]
  },
  {
   "cell_type": "code",
   "execution_count": 82,
   "metadata": {
    "scrolled": true
   },
   "outputs": [
    {
     "name": "stderr",
     "output_type": "stream",
     "text": [
      "/home/pirl/anaconda3/lib/python3.7/site-packages/numpy/core/fromnumeric.py:2495: FutureWarning: Method .ptp is deprecated and will be removed in a future version. Use numpy.ptp instead.\n",
      "  return ptp(axis=axis, out=out, **kwargs)\n"
     ]
    },
    {
     "data": {
      "text/html": [
       "<div>\n",
       "<style scoped>\n",
       "    .dataframe tbody tr th:only-of-type {\n",
       "        vertical-align: middle;\n",
       "    }\n",
       "\n",
       "    .dataframe tbody tr th {\n",
       "        vertical-align: top;\n",
       "    }\n",
       "\n",
       "    .dataframe thead th {\n",
       "        text-align: right;\n",
       "    }\n",
       "</style>\n",
       "<table border=\"1\" class=\"dataframe\">\n",
       "  <thead>\n",
       "    <tr style=\"text-align: right;\">\n",
       "      <th></th>\n",
       "      <th>variable</th>\n",
       "      <th>VIF</th>\n",
       "    </tr>\n",
       "  </thead>\n",
       "  <tbody>\n",
       "    <tr>\n",
       "      <td>1</td>\n",
       "      <td>AGE</td>\n",
       "      <td>2.168</td>\n",
       "    </tr>\n",
       "    <tr>\n",
       "      <td>10</td>\n",
       "      <td>FOREARM</td>\n",
       "      <td>2.440</td>\n",
       "    </tr>\n",
       "    <tr>\n",
       "      <td>8</td>\n",
       "      <td>ANKLE</td>\n",
       "      <td>3.050</td>\n",
       "    </tr>\n",
       "    <tr>\n",
       "      <td>9</td>\n",
       "      <td>BICEPS</td>\n",
       "      <td>3.358</td>\n",
       "    </tr>\n",
       "    <tr>\n",
       "      <td>11</td>\n",
       "      <td>WRIST</td>\n",
       "      <td>3.484</td>\n",
       "    </tr>\n",
       "    <tr>\n",
       "      <td>2</td>\n",
       "      <td>NECK</td>\n",
       "      <td>3.732</td>\n",
       "    </tr>\n",
       "    <tr>\n",
       "      <td>7</td>\n",
       "      <td>KNEE</td>\n",
       "      <td>4.404</td>\n",
       "    </tr>\n",
       "    <tr>\n",
       "      <td>6</td>\n",
       "      <td>THIGH</td>\n",
       "      <td>7.145</td>\n",
       "    </tr>\n",
       "    <tr>\n",
       "      <td>3</td>\n",
       "      <td>CHEST</td>\n",
       "      <td>8.875</td>\n",
       "    </tr>\n",
       "    <tr>\n",
       "      <td>5</td>\n",
       "      <td>HIP</td>\n",
       "      <td>9.755</td>\n",
       "    </tr>\n",
       "    <tr>\n",
       "      <td>12</td>\n",
       "      <td>BMI</td>\n",
       "      <td>10.611</td>\n",
       "    </tr>\n",
       "    <tr>\n",
       "      <td>4</td>\n",
       "      <td>ABDOMEN</td>\n",
       "      <td>11.512</td>\n",
       "    </tr>\n",
       "    <tr>\n",
       "      <td>0</td>\n",
       "      <td>const</td>\n",
       "      <td>807.014</td>\n",
       "    </tr>\n",
       "  </tbody>\n",
       "</table>\n",
       "</div>"
      ],
      "text/plain": [
       "   variable      VIF\n",
       "1       AGE    2.168\n",
       "10  FOREARM    2.440\n",
       "8     ANKLE    3.050\n",
       "9    BICEPS    3.358\n",
       "11    WRIST    3.484\n",
       "2      NECK    3.732\n",
       "7      KNEE    4.404\n",
       "6     THIGH    7.145\n",
       "3     CHEST    8.875\n",
       "5       HIP    9.755\n",
       "12      BMI   10.611\n",
       "4   ABDOMEN   11.512\n",
       "0     const  807.014"
      ]
     },
     "execution_count": 82,
     "metadata": {},
     "output_type": "execute_result"
    }
   ],
   "source": [
    "#설명변수 간의 다중공선성 확인(몸무게와 키는 BMI가 있으므로 제외)\n",
    "df_p_x=df_p.drop([\"FAT\", \"WEIGHT\", \"HEIGHT\"], axis=1)\n",
    "df_p_x_const=add_constant(df_p_x)\n",
    "\n",
    "#데이터 프레임으로 저장\n",
    "df_vif=pd.DataFrame()\n",
    "df_vif[\"variable\"]=df_p_x_const.columns\n",
    "df_vif[\"VIF\"]=[variance_inflation_factor(df_p_x_const.values, i) for i in range(df_p_x_const.shape[1])]\n",
    "df_vif.sort_values(\"VIF\", inplace=True)\n",
    "df_vif.round(3)\n",
    "\n",
    "#VIF가 10을 넘는 변수는 BMI와 복부이다. VIF가 가장 높은 ABDOMEN을 제거한 회귀 분석을 실시한다."
   ]
  },
  {
   "cell_type": "code",
   "execution_count": 83,
   "metadata": {
    "scrolled": true
   },
   "outputs": [
    {
     "name": "stdout",
     "output_type": "stream",
     "text": [
      "                            OLS Regression Results                            \n",
      "==============================================================================\n",
      "Dep. Variable:                    FAT   R-squared:                       0.654\n",
      "Model:                            OLS   Adj. R-squared:                  0.638\n",
      "Method:                 Least Squares   F-statistic:                     40.49\n",
      "Date:                Tue, 04 Feb 2020   Prob (F-statistic):           3.07e-48\n",
      "Time:                        22:09:55   Log-Likelihood:                -744.78\n",
      "No. Observations:                 248   AIC:                             1514.\n",
      "Df Residuals:                     236   BIC:                             1556.\n",
      "Df Model:                          11                                         \n",
      "Covariance Type:            nonrobust                                         \n",
      "==============================================================================\n",
      "                 coef    std err          t      P>|t|      [0.025      0.975]\n",
      "------------------------------------------------------------------------------\n",
      "Intercept    -16.1154      8.687     -1.855      0.065     -33.229       0.998\n",
      "BMI            1.4020      0.292      4.809      0.000       0.828       1.976\n",
      "AGE            0.1894      0.034      5.520      0.000       0.122       0.257\n",
      "NECK          -0.3229      0.267     -1.210      0.227      -0.849       0.203\n",
      "CHEST          0.1660      0.107      1.550      0.122      -0.045       0.377\n",
      "HIP            0.1855      0.143      1.294      0.197      -0.097       0.468\n",
      "THIGH          0.2414      0.172      1.400      0.163      -0.098       0.581\n",
      "KNEE           0.1468      0.286      0.513      0.609      -0.417       0.711\n",
      "ANKLE         -0.3532      0.412     -0.857      0.392      -1.165       0.459\n",
      "BICEPS        -0.0617      0.197     -0.312      0.755      -0.451       0.327\n",
      "FOREARM        0.0630      0.243      0.259      0.796      -0.416       0.542\n",
      "WRIST         -2.3682      0.643     -3.684      0.000      -3.635      -1.102\n",
      "==============================================================================\n",
      "Omnibus:                        3.351   Durbin-Watson:                   2.166\n",
      "Prob(Omnibus):                  0.187   Jarque-Bera (JB):                2.759\n",
      "Skew:                           0.147   Prob(JB):                        0.252\n",
      "Kurtosis:                       2.576   Cond. No.                     4.90e+03\n",
      "==============================================================================\n",
      "\n",
      "Warnings:\n",
      "[1] Standard Errors assume that the covariance matrix of the errors is correctly specified.\n",
      "[2] The condition number is large, 4.9e+03. This might indicate that there are\n",
      "strong multicollinearity or other numerical problems.\n"
     ]
    }
   ],
   "source": [
    "# 복부(ABDOMEN)를 제외한 회귀분석\n",
    "reg_model=smf.ols(formula=\"FAT ~ BMI+AGE+NECK+CHEST+HIP+THIGH+KNEE+ANKLE+BICEPS+FOREARM+WRIST\", data=df_p)\n",
    "reg_result=reg_model.fit()\n",
    "print(reg_result.summary())\n",
    "# R^2는 0.654로, 위 모형은 전체 데이터의 약 65%를 설명한다.\n",
    "# F-STAT의 P-VALUE를 고려할 때 모형은 유의하다.\n",
    "# 5% 유의수준에서 BMI, 나이, 손목이 지방에 유의한 영향을 미친다. "
   ]
  },
  {
   "cell_type": "code",
   "execution_count": 105,
   "metadata": {},
   "outputs": [
    {
     "data": {
      "text/html": [
       "<div>\n",
       "<style scoped>\n",
       "    .dataframe tbody tr th:only-of-type {\n",
       "        vertical-align: middle;\n",
       "    }\n",
       "\n",
       "    .dataframe tbody tr th {\n",
       "        vertical-align: top;\n",
       "    }\n",
       "\n",
       "    .dataframe thead th {\n",
       "        text-align: right;\n",
       "    }\n",
       "</style>\n",
       "<table border=\"1\" class=\"dataframe\">\n",
       "  <thead>\n",
       "    <tr style=\"text-align: right;\">\n",
       "      <th></th>\n",
       "      <th>variable</th>\n",
       "      <th>VIF</th>\n",
       "    </tr>\n",
       "  </thead>\n",
       "  <tbody>\n",
       "    <tr>\n",
       "      <td>1</td>\n",
       "      <td>AGE</td>\n",
       "      <td>1.848</td>\n",
       "    </tr>\n",
       "    <tr>\n",
       "      <td>9</td>\n",
       "      <td>FOREARM</td>\n",
       "      <td>2.420</td>\n",
       "    </tr>\n",
       "    <tr>\n",
       "      <td>7</td>\n",
       "      <td>ANKLE</td>\n",
       "      <td>3.037</td>\n",
       "    </tr>\n",
       "    <tr>\n",
       "      <td>8</td>\n",
       "      <td>BICEPS</td>\n",
       "      <td>3.320</td>\n",
       "    </tr>\n",
       "    <tr>\n",
       "      <td>10</td>\n",
       "      <td>WRIST</td>\n",
       "      <td>3.441</td>\n",
       "    </tr>\n",
       "    <tr>\n",
       "      <td>2</td>\n",
       "      <td>NECK</td>\n",
       "      <td>3.715</td>\n",
       "    </tr>\n",
       "    <tr>\n",
       "      <td>6</td>\n",
       "      <td>KNEE</td>\n",
       "      <td>4.375</td>\n",
       "    </tr>\n",
       "    <tr>\n",
       "      <td>5</td>\n",
       "      <td>THIGH</td>\n",
       "      <td>7.124</td>\n",
       "    </tr>\n",
       "    <tr>\n",
       "      <td>3</td>\n",
       "      <td>CHEST</td>\n",
       "      <td>7.602</td>\n",
       "    </tr>\n",
       "    <tr>\n",
       "      <td>4</td>\n",
       "      <td>HIP</td>\n",
       "      <td>8.493</td>\n",
       "    </tr>\n",
       "    <tr>\n",
       "      <td>11</td>\n",
       "      <td>BMI</td>\n",
       "      <td>9.333</td>\n",
       "    </tr>\n",
       "    <tr>\n",
       "      <td>0</td>\n",
       "      <td>const</td>\n",
       "      <td>749.209</td>\n",
       "    </tr>\n",
       "  </tbody>\n",
       "</table>\n",
       "</div>"
      ],
      "text/plain": [
       "   variable      VIF\n",
       "1       AGE    1.848\n",
       "9   FOREARM    2.420\n",
       "7     ANKLE    3.037\n",
       "8    BICEPS    3.320\n",
       "10    WRIST    3.441\n",
       "2      NECK    3.715\n",
       "6      KNEE    4.375\n",
       "5     THIGH    7.124\n",
       "3     CHEST    7.602\n",
       "4       HIP    8.493\n",
       "11      BMI    9.333\n",
       "0     const  749.209"
      ]
     },
     "execution_count": 105,
     "metadata": {},
     "output_type": "execute_result"
    }
   ],
   "source": [
    "# 복부(ABDOMEN) 제거 후 다중공선성 재확인\n",
    "df_A_x=df_p.drop([\"FAT\", \"ABDOMEN\", \"WEIGHT\", \"HEIGHT\"], axis=1)\n",
    "df_A_x_const=add_constant(df_A_x)\n",
    "#데이터 프레임으로 저장\n",
    "df_vif=pd.DataFrame()\n",
    "df_vif[\"variable\"]=df_A_x_const.columns\n",
    "df_vif[\"VIF\"]=[variance_inflation_factor(df_A_x_const.values, i) for i in range(df_A_x_const.shape[1])]\n",
    "df_vif.sort_values(\"VIF\", inplace=True)\n",
    "df_vif.round(3)\n",
    "# VIF가 모두 10 이하 "
   ]
  },
  {
   "cell_type": "code",
   "execution_count": 89,
   "metadata": {},
   "outputs": [
    {
     "name": "stdout",
     "output_type": "stream",
     "text": [
      "Selected Variables: Index(['NECK', 'ABDOMEN', 'HIP', 'WRIST', 'BMI'], dtype='object')\n",
      "Removed Variables: Index(['AGE', 'CHEST', 'THIGH', 'KNEE', 'ANKLE', 'BICEPS', 'FOREARM'], dtype='object')\n"
     ]
    }
   ],
   "source": [
    "# 후진제거법을 이용한 변수 선택\n",
    "# 종속변수 분리\n",
    "df_p_y=df_p[\"FAT\"]\n",
    "df_p_x=df_p.drop([\"FAT\", \"WEIGHT\", \"HEIGHT\"], axis=1)\n",
    "model=LinearRegression()\n",
    "\n",
    "# 5개의 변수가 남을 때까지 변수 선택\n",
    "rfe=RFE(estimator=model, n_features_to_select=5).fit(df_p_x, df_p_y)\n",
    "# 선택된 변수\n",
    "selected_cols=df_p_x.columns[rfe.support_]\n",
    "# 제거된 변수\n",
    "removed_cols=df_p_x.columns[~rfe.support_]\n",
    "\n",
    "print(\"Selected Variables: {}\".format(selected_cols))\n",
    "print(\"Removed Variables: {}\".format(removed_cols))\n",
    "\n",
    "# BMI와 ABDOMEN 모두 선택됨"
   ]
  },
  {
   "cell_type": "code",
   "execution_count": 91,
   "metadata": {},
   "outputs": [
    {
     "name": "stdout",
     "output_type": "stream",
     "text": [
      "                            OLS Regression Results                            \n",
      "==============================================================================\n",
      "Dep. Variable:                    FAT   R-squared:                       0.738\n",
      "Model:                            OLS   Adj. R-squared:                  0.732\n",
      "Method:                 Least Squares   F-statistic:                     136.3\n",
      "Date:                Tue, 04 Feb 2020   Prob (F-statistic):           2.81e-68\n",
      "Time:                        22:20:02   Log-Likelihood:                -710.23\n",
      "No. Observations:                 248   AIC:                             1432.\n",
      "Df Residuals:                     242   BIC:                             1454.\n",
      "Df Model:                           5                                         \n",
      "Covariance Type:            nonrobust                                         \n",
      "==============================================================================\n",
      "                 coef    std err          t      P>|t|      [0.025      0.975]\n",
      "------------------------------------------------------------------------------\n",
      "Intercept      3.1061      7.027      0.442      0.659     -10.736      16.949\n",
      "NECK          -0.4303      0.213     -2.021      0.044      -0.850      -0.011\n",
      "ABDOMEN        0.8551      0.071     12.102      0.000       0.716       0.994\n",
      "HIP           -0.2944      0.091     -3.225      0.001      -0.474      -0.115\n",
      "WRIST         -1.5460      0.449     -3.446      0.001      -2.430      -0.662\n",
      "BMI            0.4313      0.225      1.916      0.056      -0.012       0.875\n",
      "==============================================================================\n",
      "Omnibus:                        5.296   Durbin-Watson:                   2.071\n",
      "Prob(Omnibus):                  0.071   Jarque-Bera (JB):                3.649\n",
      "Skew:                           0.142   Prob(JB):                        0.161\n",
      "Kurtosis:                       2.478   Cond. No.                     3.74e+03\n",
      "==============================================================================\n",
      "\n",
      "Warnings:\n",
      "[1] Standard Errors assume that the covariance matrix of the errors is correctly specified.\n",
      "[2] The condition number is large, 3.74e+03. This might indicate that there are\n",
      "strong multicollinearity or other numerical problems.\n"
     ]
    }
   ],
   "source": [
    "# 후진제거법을 이용한 모델 생성\n",
    "rfe_reg_model=smf.ols(formula=\"FAT ~ NECK+ABDOMEN+HIP+WRIST+BMI\", data=df_p)\n",
    "rfe_reg_result=rfe_reg_model.fit()\n",
    "print(rfe_reg_result.summary())\n",
    "# R^2는 0.738로 모형은 데이터의 약 74%를 설명함\n",
    "# F 통계량 P-VALUE를 고려할 때 모형은 유의함\n",
    "# 복부, 엉덩이, 손목이 유의함\n",
    "# 복부는 지방 증가에 유의한 양의 영향을, 엉덩이와 손목은 음의 영향을 미친다. "
   ]
  },
  {
   "cell_type": "code",
   "execution_count": 93,
   "metadata": {},
   "outputs": [
    {
     "data": {
      "text/html": [
       "<div>\n",
       "<style scoped>\n",
       "    .dataframe tbody tr th:only-of-type {\n",
       "        vertical-align: middle;\n",
       "    }\n",
       "\n",
       "    .dataframe tbody tr th {\n",
       "        vertical-align: top;\n",
       "    }\n",
       "\n",
       "    .dataframe thead th {\n",
       "        text-align: right;\n",
       "    }\n",
       "</style>\n",
       "<table border=\"1\" class=\"dataframe\">\n",
       "  <thead>\n",
       "    <tr style=\"text-align: right;\">\n",
       "      <th></th>\n",
       "      <th>variable</th>\n",
       "      <th>VIF</th>\n",
       "    </tr>\n",
       "  </thead>\n",
       "  <tbody>\n",
       "    <tr>\n",
       "      <td>4</td>\n",
       "      <td>WRIST</td>\n",
       "      <td>2.271</td>\n",
       "    </tr>\n",
       "    <tr>\n",
       "      <td>1</td>\n",
       "      <td>NECK</td>\n",
       "      <td>3.205</td>\n",
       "    </tr>\n",
       "    <tr>\n",
       "      <td>3</td>\n",
       "      <td>HIP</td>\n",
       "      <td>4.669</td>\n",
       "    </tr>\n",
       "    <tr>\n",
       "      <td>2</td>\n",
       "      <td>ABDOMEN</td>\n",
       "      <td>7.021</td>\n",
       "    </tr>\n",
       "    <tr>\n",
       "      <td>5</td>\n",
       "      <td>BMI</td>\n",
       "      <td>7.535</td>\n",
       "    </tr>\n",
       "    <tr>\n",
       "      <td>0</td>\n",
       "      <td>const</td>\n",
       "      <td>664.325</td>\n",
       "    </tr>\n",
       "  </tbody>\n",
       "</table>\n",
       "</div>"
      ],
      "text/plain": [
       "  variable      VIF\n",
       "4    WRIST    2.271\n",
       "1     NECK    3.205\n",
       "3      HIP    4.669\n",
       "2  ABDOMEN    7.021\n",
       "5      BMI    7.535\n",
       "0    const  664.325"
      ]
     },
     "execution_count": 93,
     "metadata": {},
     "output_type": "execute_result"
    }
   ],
   "source": [
    "# 선택된 설명변수의 다중공선성 재진단\n",
    "df_p_x_rfe=df_p_x[selected_cols]\n",
    "df_p_x_rfe_const=add_constant(df_p_x_rfe)\n",
    "\n",
    "# 다중공선성 저장\n",
    "df_rfe_vif=pd.DataFrame()\n",
    "df_rfe_vif[\"variable\"]=df_p_x_rfe_const.columns\n",
    "df_rfe_vif[\"VIF\"]=[variance_inflation_factor(df_p_x_rfe_const.values, i) for i in range(df_p_x_rfe_const.shape[1])]\n",
    "df_rfe_vif.sort_values(\"VIF\", inplace=True)\n",
    "df_rfe_vif.round(3)\n",
    "\n",
    "# VIF가 10이 넘는 변수가 없음. 다중공선성 문제가 없음."
   ]
  },
  {
   "cell_type": "code",
   "execution_count": 94,
   "metadata": {},
   "outputs": [
    {
     "data": {
      "text/plain": [
       "<matplotlib.axes._subplots.AxesSubplot at 0x7ff818b53cd0>"
      ]
     },
     "execution_count": 94,
     "metadata": {},
     "output_type": "execute_result"
    },
    {
     "data": {
      "image/png": "[encoded data removed]",
      "text/plain": [
       "<Figure size 432x288 with 1 Axes>"
      ]
     },
     "metadata": {
      "needs_background": "light"
     },
     "output_type": "display_data"
    }
   ],
   "source": [
    "# 비표준화 회귀계수 산출\n",
    "df_reg_coef=pd.DataFrame({\"Coef\": rfe_reg_result.params.values[1:]}, index=selected_cols)\n",
    "df_reg_coef.plot.barh(y=\"Coef\", legend=False)"
   ]
  },
  {
   "cell_type": "code",
   "execution_count": 110,
   "metadata": {},
   "outputs": [
    {
     "name": "stdout",
     "output_type": "stream",
     "text": [
      "                            OLS Regression Results                            \n",
      "==============================================================================\n",
      "Dep. Variable:                    FAT   R-squared:                       0.021\n",
      "Model:                            OLS   Adj. R-squared:                  0.000\n",
      "Method:                 Least Squares   F-statistic:                     1.021\n",
      "Date:                Tue, 04 Feb 2020   Prob (F-statistic):              0.406\n",
      "Time:                        23:11:56   Log-Likelihood:                -861.31\n",
      "No. Observations:                 244   AIC:                             1735.\n",
      "Df Residuals:                     238   BIC:                             1756.\n",
      "Df Model:                           5                                         \n",
      "Covariance Type:            nonrobust                                         \n",
      "==============================================================================\n",
      "                 coef    std err          t      P>|t|      [0.025      0.975]\n",
      "------------------------------------------------------------------------------\n",
      "Intercept     19.0241      0.535     35.535      0.000      17.969      20.079\n",
      "NECK           0.4545      0.956      0.476      0.635      -1.428       2.337\n",
      "ABDOMEN       -1.0640      1.431     -0.744      0.458      -3.883       1.755\n",
      "HIP            2.0739      1.154      1.798      0.074      -0.199       4.347\n",
      "WRIST         -0.8945      0.803     -1.114      0.266      -2.477       0.688\n",
      "BMI           -1.1823      1.470     -0.804      0.422      -4.078       1.714\n",
      "==============================================================================\n",
      "Omnibus:                        1.796   Durbin-Watson:                   2.061\n",
      "Prob(Omnibus):                  0.407   Jarque-Bera (JB):                1.776\n",
      "Skew:                           0.141   Prob(JB):                        0.412\n",
      "Kurtosis:                       2.691   Cond. No.                         6.89\n",
      "==============================================================================\n",
      "\n",
      "Warnings:\n",
      "[1] Standard Errors assume that the covariance matrix of the errors is correctly specified.\n"
     ]
    }
   ],
   "source": [
    "# 표준화 회귀계수를 이용한 변수 중요도 확인\n",
    "scaler=StandardScaler()\n",
    "cols=df_p_x.columns\n",
    "np_scaled=scaler.fit_transform(df_p_x)\n",
    "df_scaled=pd.DataFrame(np_scaled, columns=cols)\n",
    "df_scaled[\"FAT\"]=df_p[\"FAT\"]\n",
    "reg_model_scaled=smf.ols(formula=\"FAT ~ NECK+ABDOMEN+HIP+WRIST+BMI\", data=df_scaled)\n",
    "reg_result_scaled=reg_model_scaled.fit()\n",
    "print(reg_result_scaled.summary())"
   ]
  },
  {
   "cell_type": "code",
   "execution_count": 111,
   "metadata": {},
   "outputs": [
    {
     "data": {
      "text/plain": [
       "<matplotlib.axes._subplots.AxesSubplot at 0x7ff8188146d0>"
      ]
     },
     "execution_count": 111,
     "metadata": {},
     "output_type": "execute_result"
    },
    {
     "data": {
      "image/png": "[encoded data removed]",
      "text/plain": [
       "<Figure size 432x288 with 1 Axes>"
      ]
     },
     "metadata": {
      "needs_background": "light"
     },
     "output_type": "display_data"
    }
   ],
   "source": [
    "# 표준화 회귀계수 산출\n",
    "df_reg_coef_std=pd.DataFrame({\"Coef\":reg_result_scaled.params.values[1:]}, index=selected_cols)\n",
    "df_reg_coef_std.plot.barh(y=\"Coef\", legend=False)"
   ]
  },
  {
   "cell_type": "code",
   "execution_count": 99,
   "metadata": {},
   "outputs": [
    {
     "data": {
      "text/plain": [
       "<matplotlib.lines.Line2D at 0x7ff818a62810>"
      ]
     },
     "execution_count": 99,
     "metadata": {},
     "output_type": "execute_result"
    },
    {
     "data": {
      "image/png": "[encoded data removed]",
      "text/plain": [
       "<Figure size 432x288 with 1 Axes>"
      ]
     },
     "metadata": {
      "needs_background": "light"
     },
     "output_type": "display_data"
    }
   ],
   "source": [
    "x"
   ]
  },
  {
   "cell_type": "code",
   "execution_count": 100,
   "metadata": {
    "scrolled": true
   },
   "outputs": [
    {
     "data": {
      "text/plain": [
       "NormaltestResult(statistic=2.2462775095699214, pvalue=0.3252572878948326)"
      ]
     },
     "execution_count": 100,
     "metadata": {},
     "output_type": "execute_result"
    },
    {
     "data": {
      "image/png": "[encoded data removed]",
      "text/plain": [
       "<Figure size 432x288 with 1 Axes>"
      ]
     },
     "metadata": {
      "needs_background": "light"
     },
     "output_type": "display_data"
    }
   ],
   "source": [
    "qqplot(reg_result.resid, line=\"q\")\n",
    "from statsmodels.stats.stattools import omni_normtest\n",
    "omni_normtest(reg_result.resid, axis=0)\n",
    "# 정규분포 직선(적색 선)을 중심으로 분포하고 검정통계량이 귀무가설을 채택하므로 정규분포를 따름"
   ]
  },
  {
   "cell_type": "code",
   "execution_count": 2,
   "metadata": {},
   "outputs": [
    {
     "ename": "FileNotFoundError",
     "evalue": "[Errno 2] File b'mfile_model4.csv' does not exist: b'mfile_model4.csv'",
     "output_type": "error",
     "traceback": [
      "\u001b[0;31m---------------------------------------------------------------------------\u001b[0m",
      "\u001b[0;31mFileNotFoundError\u001b[0m                         Traceback (most recent call last)",
      "\u001b[0;32m<ipython-input-2-f9d1065d459f>\u001b[0m in \u001b[0;36m<module>\u001b[0;34m\u001b[0m\n\u001b[1;32m      1\u001b[0m \u001b[0;32mimport\u001b[0m \u001b[0mpandas\u001b[0m \u001b[0;32mas\u001b[0m \u001b[0mpd\u001b[0m\u001b[0;34m\u001b[0m\u001b[0;34m\u001b[0m\u001b[0m\n\u001b[0;32m----> 2\u001b[0;31m \u001b[0mmfile_model4\u001b[0m\u001b[0;34m=\u001b[0m\u001b[0mpd\u001b[0m\u001b[0;34m.\u001b[0m\u001b[0mread_csv\u001b[0m\u001b[0;34m(\u001b[0m\u001b[0;34m\"mfile_model4.csv\"\u001b[0m\u001b[0;34m)\u001b[0m\u001b[0;34m\u001b[0m\u001b[0;34m\u001b[0m\u001b[0m\n\u001b[0m",
      "\u001b[0;32m~/anaconda3/lib/python3.7/site-packages/pandas/io/parsers.py\u001b[0m in \u001b[0;36mparser_f\u001b[0;34m(filepath_or_buffer, sep, delimiter, header, names, index_col, usecols, squeeze, prefix, mangle_dupe_cols, dtype, engine, converters, true_values, false_values, skipinitialspace, skiprows, skipfooter, nrows, na_values, keep_default_na, na_filter, verbose, skip_blank_lines, parse_dates, infer_datetime_format, keep_date_col, date_parser, dayfirst, cache_dates, iterator, chunksize, compression, thousands, decimal, lineterminator, quotechar, quoting, doublequote, escapechar, comment, encoding, dialect, error_bad_lines, warn_bad_lines, delim_whitespace, low_memory, memory_map, float_precision)\u001b[0m\n\u001b[1;32m    683\u001b[0m         )\n\u001b[1;32m    684\u001b[0m \u001b[0;34m\u001b[0m\u001b[0m\n\u001b[0;32m--> 685\u001b[0;31m         \u001b[0;32mreturn\u001b[0m \u001b[0m_read\u001b[0m\u001b[0;34m(\u001b[0m\u001b[0mfilepath_or_buffer\u001b[0m\u001b[0;34m,\u001b[0m \u001b[0mkwds\u001b[0m\u001b[0;34m)\u001b[0m\u001b[0;34m\u001b[0m\u001b[0;34m\u001b[0m\u001b[0m\n\u001b[0m\u001b[1;32m    686\u001b[0m \u001b[0;34m\u001b[0m\u001b[0m\n\u001b[1;32m    687\u001b[0m     \u001b[0mparser_f\u001b[0m\u001b[0;34m.\u001b[0m\u001b[0m__name__\u001b[0m \u001b[0;34m=\u001b[0m \u001b[0mname\u001b[0m\u001b[0;34m\u001b[0m\u001b[0;34m\u001b[0m\u001b[0m\n",
      "\u001b[0;32m~/anaconda3/lib/python3.7/site-packages/pandas/io/parsers.py\u001b[0m in \u001b[0;36m_read\u001b[0;34m(filepath_or_buffer, kwds)\u001b[0m\n\u001b[1;32m    455\u001b[0m \u001b[0;34m\u001b[0m\u001b[0m\n\u001b[1;32m    456\u001b[0m     \u001b[0;31m# Create the parser.\u001b[0m\u001b[0;34m\u001b[0m\u001b[0;34m\u001b[0m\u001b[0;34m\u001b[0m\u001b[0m\n\u001b[0;32m--> 457\u001b[0;31m     \u001b[0mparser\u001b[0m \u001b[0;34m=\u001b[0m \u001b[0mTextFileReader\u001b[0m\u001b[0;34m(\u001b[0m\u001b[0mfp_or_buf\u001b[0m\u001b[0;34m,\u001b[0m \u001b[0;34m**\u001b[0m\u001b[0mkwds\u001b[0m\u001b[0;34m)\u001b[0m\u001b[0;34m\u001b[0m\u001b[0;34m\u001b[0m\u001b[0m\n\u001b[0m\u001b[1;32m    458\u001b[0m \u001b[0;34m\u001b[0m\u001b[0m\n\u001b[1;32m    459\u001b[0m     \u001b[0;32mif\u001b[0m \u001b[0mchunksize\u001b[0m \u001b[0;32mor\u001b[0m \u001b[0miterator\u001b[0m\u001b[0;34m:\u001b[0m\u001b[0;34m\u001b[0m\u001b[0;34m\u001b[0m\u001b[0m\n",
      "\u001b[0;32m~/anaconda3/lib/python3.7/site-packages/pandas/io/parsers.py\u001b[0m in \u001b[0;36m__init__\u001b[0;34m(self, f, engine, **kwds)\u001b[0m\n\u001b[1;32m    893\u001b[0m             \u001b[0mself\u001b[0m\u001b[0;34m.\u001b[0m\u001b[0moptions\u001b[0m\u001b[0;34m[\u001b[0m\u001b[0;34m\"has_index_names\"\u001b[0m\u001b[0;34m]\u001b[0m \u001b[0;34m=\u001b[0m \u001b[0mkwds\u001b[0m\u001b[0;34m[\u001b[0m\u001b[0;34m\"has_index_names\"\u001b[0m\u001b[0;34m]\u001b[0m\u001b[0;34m\u001b[0m\u001b[0;34m\u001b[0m\u001b[0m\n\u001b[1;32m    894\u001b[0m \u001b[0;34m\u001b[0m\u001b[0m\n\u001b[0;32m--> 895\u001b[0;31m         \u001b[0mself\u001b[0m\u001b[0;34m.\u001b[0m\u001b[0m_make_engine\u001b[0m\u001b[0;34m(\u001b[0m\u001b[0mself\u001b[0m\u001b[0;34m.\u001b[0m\u001b[0mengine\u001b[0m\u001b[0;34m)\u001b[0m\u001b[0;34m\u001b[0m\u001b[0;34m\u001b[0m\u001b[0m\n\u001b[0m\u001b[1;32m    896\u001b[0m \u001b[0;34m\u001b[0m\u001b[0m\n\u001b[1;32m    897\u001b[0m     \u001b[0;32mdef\u001b[0m \u001b[0mclose\u001b[0m\u001b[0;34m(\u001b[0m\u001b[0mself\u001b[0m\u001b[0;34m)\u001b[0m\u001b[0;34m:\u001b[0m\u001b[0;34m\u001b[0m\u001b[0;34m\u001b[0m\u001b[0m\n",
      "\u001b[0;32m~/anaconda3/lib/python3.7/site-packages/pandas/io/parsers.py\u001b[0m in \u001b[0;36m_make_engine\u001b[0;34m(self, engine)\u001b[0m\n\u001b[1;32m   1133\u001b[0m     \u001b[0;32mdef\u001b[0m \u001b[0m_make_engine\u001b[0m\u001b[0;34m(\u001b[0m\u001b[0mself\u001b[0m\u001b[0;34m,\u001b[0m \u001b[0mengine\u001b[0m\u001b[0;34m=\u001b[0m\u001b[0;34m\"c\"\u001b[0m\u001b[0;34m)\u001b[0m\u001b[0;34m:\u001b[0m\u001b[0;34m\u001b[0m\u001b[0;34m\u001b[0m\u001b[0m\n\u001b[1;32m   1134\u001b[0m         \u001b[0;32mif\u001b[0m \u001b[0mengine\u001b[0m \u001b[0;34m==\u001b[0m \u001b[0;34m\"c\"\u001b[0m\u001b[0;34m:\u001b[0m\u001b[0;34m\u001b[0m\u001b[0;34m\u001b[0m\u001b[0m\n\u001b[0;32m-> 1135\u001b[0;31m             \u001b[0mself\u001b[0m\u001b[0;34m.\u001b[0m\u001b[0m_engine\u001b[0m \u001b[0;34m=\u001b[0m \u001b[0mCParserWrapper\u001b[0m\u001b[0;34m(\u001b[0m\u001b[0mself\u001b[0m\u001b[0;34m.\u001b[0m\u001b[0mf\u001b[0m\u001b[0;34m,\u001b[0m \u001b[0;34m**\u001b[0m\u001b[0mself\u001b[0m\u001b[0;34m.\u001b[0m\u001b[0moptions\u001b[0m\u001b[0;34m)\u001b[0m\u001b[0;34m\u001b[0m\u001b[0;34m\u001b[0m\u001b[0m\n\u001b[0m\u001b[1;32m   1136\u001b[0m         \u001b[0;32melse\u001b[0m\u001b[0;34m:\u001b[0m\u001b[0;34m\u001b[0m\u001b[0;34m\u001b[0m\u001b[0m\n\u001b[1;32m   1137\u001b[0m             \u001b[0;32mif\u001b[0m \u001b[0mengine\u001b[0m \u001b[0;34m==\u001b[0m \u001b[0;34m\"python\"\u001b[0m\u001b[0;34m:\u001b[0m\u001b[0;34m\u001b[0m\u001b[0;34m\u001b[0m\u001b[0m\n",
      "\u001b[0;32m~/anaconda3/lib/python3.7/site-packages/pandas/io/parsers.py\u001b[0m in \u001b[0;36m__init__\u001b[0;34m(self, src, **kwds)\u001b[0m\n\u001b[1;32m   1915\u001b[0m         \u001b[0mkwds\u001b[0m\u001b[0;34m[\u001b[0m\u001b[0;34m\"usecols\"\u001b[0m\u001b[0;34m]\u001b[0m \u001b[0;34m=\u001b[0m \u001b[0mself\u001b[0m\u001b[0;34m.\u001b[0m\u001b[0musecols\u001b[0m\u001b[0;34m\u001b[0m\u001b[0;34m\u001b[0m\u001b[0m\n\u001b[1;32m   1916\u001b[0m \u001b[0;34m\u001b[0m\u001b[0m\n\u001b[0;32m-> 1917\u001b[0;31m         \u001b[0mself\u001b[0m\u001b[0;34m.\u001b[0m\u001b[0m_reader\u001b[0m \u001b[0;34m=\u001b[0m \u001b[0mparsers\u001b[0m\u001b[0;34m.\u001b[0m\u001b[0mTextReader\u001b[0m\u001b[0;34m(\u001b[0m\u001b[0msrc\u001b[0m\u001b[0;34m,\u001b[0m \u001b[0;34m**\u001b[0m\u001b[0mkwds\u001b[0m\u001b[0;34m)\u001b[0m\u001b[0;34m\u001b[0m\u001b[0;34m\u001b[0m\u001b[0m\n\u001b[0m\u001b[1;32m   1918\u001b[0m         \u001b[0mself\u001b[0m\u001b[0;34m.\u001b[0m\u001b[0munnamed_cols\u001b[0m \u001b[0;34m=\u001b[0m \u001b[0mself\u001b[0m\u001b[0;34m.\u001b[0m\u001b[0m_reader\u001b[0m\u001b[0;34m.\u001b[0m\u001b[0munnamed_cols\u001b[0m\u001b[0;34m\u001b[0m\u001b[0;34m\u001b[0m\u001b[0m\n\u001b[1;32m   1919\u001b[0m \u001b[0;34m\u001b[0m\u001b[0m\n",
      "\u001b[0;32mpandas/_libs/parsers.pyx\u001b[0m in \u001b[0;36mpandas._libs.parsers.TextReader.__cinit__\u001b[0;34m()\u001b[0m\n",
      "\u001b[0;32mpandas/_libs/parsers.pyx\u001b[0m in \u001b[0;36mpandas._libs.parsers.TextReader._setup_parser_source\u001b[0;34m()\u001b[0m\n",
      "\u001b[0;31mFileNotFoundError\u001b[0m: [Errno 2] File b'mfile_model4.csv' does not exist: b'mfile_model4.csv'"
     ]
    }
   ],
   "source": [
    "import pandas as pd\n",
    "mfile_model4=pd.read_csv(\"mfile_model4.csv\")"
   ]
  },
  {
   "cell_type": "code",
   "execution_count": null,
   "metadata": {},
   "outputs": [],
   "source": []
  }
 ],
 "metadata": {
  "kernelspec": {
   "display_name": "Python 3",
   "language": "python",
   "name": "python3"
  },
  "language_info": {
   "codemirror_mode": {
    "name": "ipython",
    "version": 3
   },
   "file_extension": ".py",
   "mimetype": "text/x-python",
   "name": "python",
   "nbconvert_exporter": "python",
   "pygments_lexer": "ipython3",
   "version": "3.7.4"
  }
 },
 "nbformat": 4,
 "nbformat_minor": 2
}
