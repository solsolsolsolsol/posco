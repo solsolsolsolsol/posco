{
 "cells": [
  {
   "cell_type": "markdown",
   "metadata": {},
   "source": [
    "## set 구현"
   ]
  },
  {
   "cell_type": "code",
   "execution_count": 102,
   "metadata": {},
   "outputs": [],
   "source": [
    "class Set:\n",
    "    def __init__(self, member=[]):\n",
    "        self.member=member\n",
    "\n",
    "    def append(self, a):\n",
    "        if a in self.member:\n",
    "            return self.member\n",
    "        else:\n",
    "            added=self.member.append(a)\n",
    "            return added\n",
    "        \n",
    "    def delete(self, a):\n",
    "        if a in self.member:\n",
    "            delet=self.member.remove(a)\n",
    "            return delet\n",
    "        else:\n",
    "            print(\"a is non-existant\")\n",
    "        \n",
    "    def union(self, s2):\n",
    "        selfs2=self.member+s2.member\n",
    "        for v in self.member:\n",
    "            if v in s2.member:\n",
    "                selfs2.remove(v)\n",
    "        return selfs2    \n",
    "\n",
    "                    \n",
    "    def intersection(self, s2):\n",
    "        inter=[]\n",
    "        for v in self.member:\n",
    "            if v in s2.member:\n",
    "                inter.append(v)               \n",
    "        return inter\n",
    "    \n",
    "    def difference(self, s2):\n",
    "        inter=self.intersection(s2)\n",
    "        import copy\n",
    "        differ = copy.deepcopy(self.member)\n",
    "\n",
    "        for v in inter:\n",
    "            if v in self.member:\n",
    "                differ.remove(v)      \n",
    "        return differ\n",
    "           \n",
    "    def __repr__(self):\n",
    "        return str(self.member)\n",
    "\n",
    "    def __add__(self, s2):\n",
    "        runion=Set.union(self, s2)\n",
    "        return runion\n",
    "\n",
    "    def __sub__(self, s2):\n",
    "        rdiff=Set.difference(self, s2)\n",
    "        return rdiff\n",
    "\n",
    "    def __truediv__(self, s2):\n",
    "        rint=Set.intersection(self, s2)\n",
    "        return rint\n"
   ]
  },
  {
   "cell_type": "code",
   "execution_count": 103,
   "metadata": {
    "scrolled": true
   },
   "outputs": [
    {
     "name": "stdout",
     "output_type": "stream",
     "text": [
      "[1, 2, 3, 4]\n",
      "[1]\n",
      "[2, 3]\n"
     ]
    }
   ],
   "source": [
    "a = Set([1, 2, 3])\n",
    "b = Set([2, 3, 4])\n",
    "\n",
    "c = a.union(b)\n",
    "print(c)\n",
    "d = a.difference(b)\n",
    "print(d)\n",
    "e = a.intersection(b)\n",
    "print(e)"
   ]
  },
  {
   "cell_type": "code",
   "execution_count": 104,
   "metadata": {},
   "outputs": [],
   "source": [
    "#  another method\n",
    "# if i in self.member:\n",
    "#     if i not in s2.member:\n",
    "#         ls.append(i)"
   ]
  },
  {
   "cell_type": "markdown",
   "metadata": {},
   "source": [
    "## 연산자 오버로딩"
   ]
  },
  {
   "cell_type": "code",
   "execution_count": 105,
   "metadata": {},
   "outputs": [
    {
     "name": "stdout",
     "output_type": "stream",
     "text": [
      "[1, 2, 3, 4]\n",
      "[1]\n",
      "[2, 3]\n"
     ]
    }
   ],
   "source": [
    "a = Set([1, 2, 3])\n",
    "b = Set([2, 3, 4])\n",
    "c = a + b\n",
    "print(c)\n",
    "d = a - b\n",
    "print(d)\n",
    "e = a / b\n",
    "print(e)"
   ]
  }
 ],
 "metadata": {
  "kernelspec": {
   "display_name": "Python 3",
   "language": "python",
   "name": "python3"
  },
  "language_info": {
   "codemirror_mode": {
    "name": "ipython",
    "version": 3
   },
   "file_extension": ".py",
   "mimetype": "text/x-python",
   "name": "python",
   "nbconvert_exporter": "python",
   "pygments_lexer": "ipython3",
   "version": "3.7.4"
  }
 },
 "nbformat": 4,
 "nbformat_minor": 2
}
