{
 "cells": [
  {
   "cell_type": "code",
   "execution_count": 18,
   "metadata": {},
   "outputs": [],
   "source": [
    "import numpy as np\n",
    "from scipy import stats\n",
    "import scipy.stats\n",
    "import pandas as pd\n",
    "import statsmodels.api as sm\n",
    "import matplotlib.pyplot as plt\n",
    "import seaborn as sns\n",
    "from statsmodels.stats.proportion import proportions_ztest"
   ]
  },
  {
   "cell_type": "markdown",
   "metadata": {},
   "source": [
    "#### 모평균 추정(모표준편차 아는 경우)"
   ]
  },
  {
   "cell_type": "code",
   "execution_count": 3,
   "metadata": {},
   "outputs": [
    {
     "name": "stdout",
     "output_type": "stream",
     "text": [
      "신뢰구간: ([17.83], [21.17])\n"
     ]
    }
   ],
   "source": [
    "# 함수를 사용한 풀이\n",
    "df=pd.DataFrame({\"sample\": [18,18,20,21,20,23,19,18,17,21,22,20,20,21,20,19,19,18,17,19]})\n",
    "lower,upper=stats.norm.interval(0.95, loc=np.mean(df), scale=3.8/np.sqrt(20))\n",
    "print(\"신뢰구간: ({0}, {1})\".format(lower.round(2), upper.round(2)))"
   ]
  },
  {
   "cell_type": "code",
   "execution_count": 11,
   "metadata": {},
   "outputs": [
    {
     "name": "stdout",
     "output_type": "stream",
     "text": [
      "[sample    69.834607\n",
      "dtype: float64, sample    73.165393\n",
      "dtype: float64]\n"
     ]
    }
   ],
   "source": [
    "# 손코딩\n",
    "z_stat=stats.norm.ppf(0.975)\n",
    "lower=np.mean(df)-z_stat*3.8/np.sqrt(20)\n",
    "upper=np.mean(df)+z_stat*3.8/np.sqrt(20)\n",
    "confidence_interval=[lower, upper]\n",
    "print(confidence_interval)"
   ]
  },
  {
   "cell_type": "markdown",
   "metadata": {},
   "source": [
    "###### => 모 표준 편차를 알고 있을 때 새 품종 감자의 무게 모평균은 95%의 신뢰수준에서 17.83g와 21.17g 사이에 위치한다."
   ]
  },
  {
   "cell_type": "markdown",
   "metadata": {},
   "source": [
    "#### 모평균 추정(모표준편차 모르는 경우)"
   ]
  },
  {
   "cell_type": "code",
   "execution_count": 7,
   "metadata": {},
   "outputs": [
    {
     "name": "stdout",
     "output_type": "stream",
     "text": [
      "신뢰구간: ([70.6], [72.4])\n"
     ]
    }
   ],
   "source": [
    "# 함수를 사용한 풀이\n",
    "df=pd.DataFrame({\"sample\": [73, 71, 74, 69, 70, 73, 70, 68, 75, 72, 70, 72, 73, 70, 70, 72, 71, 70, 75, 72]})\n",
    "lower,upper=stats.t.interval(0.95, len(df)-1, loc=np.mean(df), scale=scipy.stats.sem(df))\n",
    "print(\"신뢰구간: ({0}, {1})\".format(lower.round(2), upper.round(2)))"
   ]
  },
  {
   "cell_type": "code",
   "execution_count": 12,
   "metadata": {},
   "outputs": [
    {
     "name": "stdout",
     "output_type": "stream",
     "text": [
      "[sample    70.595285\n",
      "dtype: float64, sample    72.404715\n",
      "dtype: float64]\n"
     ]
    }
   ],
   "source": [
    "# 손코딩\n",
    "t_stat=stats.t.ppf(0.975, len(df)-1)\n",
    "lower=np.mean(df)-t_stat*scipy.stats.sem(df)\n",
    "upper=np.mean(df)+t_stat*scipy.stats.sem(df)\n",
    "confidence_interval=[lower, upper]\n",
    "print(confidence_interval)"
   ]
  },
  {
   "cell_type": "markdown",
   "metadata": {},
   "source": [
    "#### 평균 검정(모집단 표준편차를 모르는 경우)"
   ]
  },
  {
   "cell_type": "code",
   "execution_count": 21,
   "metadata": {},
   "outputs": [
    {
     "data": {
      "text/plain": [
       "(0.8473219275474548, 0.053975414484739304)"
      ]
     },
     "execution_count": 21,
     "metadata": {},
     "output_type": "execute_result"
    }
   ],
   "source": [
    "from scipy.stats import shapiro\n",
    "df=pd.DataFrame({'sample': [85.0, 79.0, 79.1, 79.9, 81.6,78.6,85.4,83.4,78.1,79.2]})\n",
    "data=df['sample']\n",
    "shapiro(data)\n",
    "#p-value가 0.054로 0.05보다 커서 정규 분포라는 귀무가설이 기각되지 않았음."
   ]
  },
  {
   "cell_type": "code",
   "execution_count": 22,
   "metadata": {},
   "outputs": [
    {
     "name": "stdout",
     "output_type": "stream",
     "text": [
      "1-Sample t-test\n",
      "t통계량: [3.379]\n",
      "p-value : [0.008]\n"
     ]
    }
   ],
   "source": [
    "t_result=stats.ttest_1samp(df, 78.0)\n",
    "t, p=t_result.statistic.round(3), t_result.pvalue.round(3)\n",
    "print(\"1-Sample t-test\")\n",
    "print(\"t통계량: {}\".format(t))\n",
    "print(\"p-value : {}\".format(p))"
   ]
  },
  {
   "cell_type": "code",
   "execution_count": null,
   "metadata": {},
   "outputs": [],
   "source": [
    "# 귀무가설: 개선활동이 만족도를 변화시키지 않았다.\n",
    "# 대립가설: 개선활동이 만족도를 변화시켰다.\n",
    "# 유의 수준: 0.05\n",
    "# 검정통계량: 3.379\n",
    "# p-value: 0.008\n",
    "# p-value가 유의 수준 0.05보다 작으므로 귀무가설을 기각한다.\n",
    "# 따라서 95% 신뢰수준에서 개선활동은 만족도를 변화시켰다고 할 수 있다."
   ]
  }
 ],
 "metadata": {
  "kernelspec": {
   "display_name": "Python 3",
   "language": "python",
   "name": "python3"
  },
  "language_info": {
   "codemirror_mode": {
    "name": "ipython",
    "version": 3
   },
   "file_extension": ".py",
   "mimetype": "text/x-python",
   "name": "python",
   "nbconvert_exporter": "python",
   "pygments_lexer": "ipython3",
   "version": "3.7.4"
  }
 },
 "nbformat": 4,
 "nbformat_minor": 2
}
