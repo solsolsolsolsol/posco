{
 "cells": [
  {
   "cell_type": "code",
   "execution_count": 1,
   "metadata": {},
   "outputs": [],
   "source": [
    "f=open(\"students.txt\", \"r\")\n",
    "stu_dic={}\n",
    "\n",
    "for i in f:\n",
    "    a,b,c,d = i.split('\\t')\n",
    "    d=d[:-1] # 줄바꿈 삭제\n",
    "    stu_dic[a]=[a,b,c,d]\n",
    "    \n"
   ]
  },
  {
   "cell_type": "code",
   "execution_count": 2,
   "metadata": {},
   "outputs": [],
   "source": [
    "def averaging(mid, fin):\n",
    "    avg='%.1f'\n",
    "    avg=(mid+fin)/2     \n",
    "    return avg\n",
    "\n",
    "def grading(avg):\n",
    "    if avg>=90:\n",
    "        grade='A'\n",
    "    elif avg>=80:\n",
    "        grade='B'\n",
    "    elif avg>=70:\n",
    "        grade='C'\n",
    "    elif avg>=60:\n",
    "        grade='D'\n",
    "    else:\n",
    "        grade='F'\n",
    "    return grade\n",
    "\n",
    "# attach average and grade\n",
    "for key in stu_dic:\n",
    "    stu_dic[key][2]=int(stu_dic[key][2])\n",
    "    stu_dic[key][3]=int(stu_dic[key][3])\n",
    "    avg=averaging(stu_dic[key][2], stu_dic[key][3])\n",
    "    grd=grading(avg)\n",
    "    stu_dic[key].append(avg)\n",
    "    stu_dic[key].append(grd)\n",
    "\n",
    "varname='Student'+'\\t'+'\\t'+'Name'+'\\t'+'\\t'+'Midterm'+'\\t'+'Final'+'\\t'+'Average'+'\\t'+'Grade'\n",
    "cutline=\"---------------------------------------------------------------\"\n",
    "\n",
    "def tostring(ls):\n",
    "    for i in range(len(ls)):\n",
    "        ls[i]=str(ls[i])\n",
    "    return(ls)\n"
   ]
  },
  {
   "cell_type": "code",
   "execution_count": 4,
   "metadata": {},
   "outputs": [
    {
     "name": "stdout",
     "output_type": "stream",
     "text": [
      "Student\t\tName\t\tMidterm\tFinal\tAverage\tGrade\n",
      "---------------------------------------------------------------\n",
      "20180002\tLee Jieun\t92\t89\t90.5\tA\n",
      "20180009\tLee Yeonghee\t81\t84\t82.5\tB\n",
      "20180001\tHong Gildong\t84\t73\t78.5\tC\n",
      "20180011\tHa Donghun\t58\t68\t63.0\tD\n",
      "20180007\tKim Cheolsu\t57\t62\t59.5\tF\n"
     ]
    }
   ],
   "source": [
    "def show():\n",
    "    print(varname)\n",
    "    print(cutline)\n",
    "    # sort by average\n",
    "    for key in stu_dic:\n",
    "        stu_dic[key][4]=round(float(stu_dic[key][4]),1)    # 소수점 한 자리 표시\n",
    "    sorted_dic=sorted(stu_dic.items(), key=lambda a: -a[1][4])\n",
    "    for i in range(len(sorted_dic)):\n",
    "        score=sorted_dic[i][1]\n",
    "        score=tostring(score)\n",
    "        line='\\t'.join(score)\n",
    "        print(line)\n",
    "\n",
    "def partshow(stuid):\n",
    "    stuid=str(stuid)\n",
    "    print(varname)\n",
    "    print(cutline)\n",
    "    score=stu_dic[stuid]\n",
    "    score=tostring(score)\n",
    "    line='\\t'.join(score)\n",
    "    print(line)\n",
    "    \n",
    "    \n",
    "    \n",
    "def search():\n",
    "    stuid=input(\"Student ID: \")\n",
    "    if stuid not in stu_dic.keys():\n",
    "        print(\"NO SUCH PERSON.\")\n",
    "    else:                                  \n",
    "        line=stu_dic[stuid]\n",
    "        line=tostring(line)\n",
    "        sline='\\t'.join(line)\n",
    "        print(varname)\n",
    "        print(cutline)\n",
    "        print(sline)\n",
    "          \n",
    "show()"
   ]
  },
  {
   "cell_type": "code",
   "execution_count": 5,
   "metadata": {},
   "outputs": [],
   "source": [
    "def changescore():\n",
    "    \n",
    "    stuid=input(\"Student ID: \")\n",
    "    \n",
    "    if stuid not in stu_dic.keys():\n",
    "        print(\"NO SUCH PERSON.\")\n",
    "        stuid=input(\"Student ID: \")  \n",
    "        \n",
    "    else:\n",
    "        mf=input(\"Mid/Final? \")\n",
    "    \n",
    "        if mf!='mid' and mf!='final':\n",
    "            mf=input(\"Mid/Final? \")      \n",
    "        \n",
    "        else: \n",
    "            if mf=='mid':\n",
    "                nscore=int(input(\"Input new score: \"))\n",
    "                if nscore>=0 and nscore<=100:\n",
    "                    # 기존 점수 프린트\n",
    "                    partshow(stuid)\n",
    "                    print(\"Score changed.\")\n",
    "                    # 새 점수 프린트\n",
    "                    stu_dic[stuid][2]=nscore\n",
    "                    stu_dic[stuid][3]=int(stu_dic[stuid][3])\n",
    "                    stu_dic[stuid][4]=averaging(stu_dic[stuid][2], stu_dic[stuid][3])\n",
    "                    stu_dic[stuid][5]=grading(stu_dic[stuid][4])\n",
    "                    partshow(stuid)\n",
    "               \n",
    "            if mf=='final':\n",
    "                nscore=int(input(\"Input new score: \"))\n",
    "                if nscore>=0 and nscore<=100:\n",
    "                    # 여기서 학번을 받을 수 있는 show를 실행하면 좋을텐데...클래스 같은!\n",
    "                    # 기존 점수 프린트\n",
    "                    partshow(stuid)\n",
    "                    print(\"Score changed.\")\n",
    "                    # 새 점수 프린트\n",
    "                    stu_dic[stuid][3]=nscore\n",
    "                    stu_dic[stuid][2]=int(stu_dic[stuid][2])\n",
    "                    stu_dic[stuid][4]=averaging(stu_dic[stuid][2], stu_dic[stuid][3])\n",
    "                    stu_dic[stuid][5]=grading(stu_dic[stuid][4])\n",
    "                    line=stu_dic[stuid]\n",
    "                    partshow(stuid)\n",
    "                "
   ]
  },
  {
   "cell_type": "code",
   "execution_count": null,
   "metadata": {},
   "outputs": [],
   "source": [
    "\n",
    "\n",
    "while True: \n",
    "    command=input(\"#\")\n",
    "    command=command.lower() \n",
    "\n",
    "    if command=='show':\n",
    "        show()\n",
    "    if command=='search':\n",
    "        search()\n",
    "    if command=='changescore':\n",
    "        changescore()\n",
    "    if command=='add':\n",
    "        changescore()\n",
    "    if command=='searchgrade':\n",
    "        changescore()\n",
    "    if command=='remove':\n",
    "        remove()\n",
    "    if command=='quit':\n",
    "        quit()\n"
   ]
  },
  {
   "cell_type": "code",
   "execution_count": null,
   "metadata": {},
   "outputs": [],
   "source": [
    "def add():\n",
    "    stuid=input(\"Student ID: \")\n",
    "    if stuid in stu_dic.keys():\n",
    "        print(\"ALREADY EXISTS\")\n",
    "    else:\n",
    "        stuname=input(\"Name: \")\n",
    "        mscore=int(input(\"Midterm Score: \"))\n",
    "        fscore=int(input(\"Final Score: \"))\n",
    "        print(\"Student added.\")\n",
    "        avg=averaging(mscore, fscore)\n",
    "        grd=grading(avg)\n",
    "        stu_dic[stuid]=[stuid, stuname, mscore, fscore, avg, grd]\n",
    "        \n",
    "add()"
   ]
  },
  {
   "cell_type": "code",
   "execution_count": null,
   "metadata": {},
   "outputs": [],
   "source": [
    "show()"
   ]
  },
  {
   "cell_type": "code",
   "execution_count": null,
   "metadata": {},
   "outputs": [],
   "source": [
    "def searchgrade():\n",
    "    grd=input(\"Grade to search: \")\n",
    "    temp=0\n",
    "    if grd not in ['A', 'B', 'C', 'D', 'F']:\n",
    "        print(\"NO RESULTS\")\n",
    "    else:\n",
    "        ls=[varname, cutline]\n",
    "        for key in stu_dic.keys():\n",
    "            if grd==stu_dic[key][5]:\n",
    "                score=stu_dic[key] # 해당 키의 값을 score에 할당\n",
    "                score=tostring(score)\n",
    "                line='\\t'.join(score)\n",
    "                ls.append(line)\n",
    "            else:\n",
    "                temp+=1\n",
    "                if temp==len(stu_dic):\n",
    "                    print(\"NO RESULTS.\")\n",
    "        for var in ls:\n",
    "            print(var)\n"
   ]
  },
  {
   "cell_type": "code",
   "execution_count": null,
   "metadata": {},
   "outputs": [],
   "source": [
    "def remove():\n",
    "    rm=input(\"Student ID: \")\n",
    "    if rm not in stu_dic.keys():\n",
    "        print(\"NO SUCH PERSON.\")\n",
    "    elif stu_dic.keys()==[]:\n",
    "        print(\"List is empty.\")\n",
    "    else:\n",
    "        del stu_dic[rm]\n",
    "        "
   ]
  },
  {
   "cell_type": "code",
   "execution_count": 7,
   "metadata": {},
   "outputs": [],
   "source": [
    "def quit():\n",
    "    save=input(\"Save data?[yes/no] \")\n",
    "    if save=='yes':\n",
    "        fname=input(\"File name: \")\n",
    "        f=open(fname, \"w\")\n",
    "        data=sorted(stu_dic.items(), key=lambda a: a[1][4])\n",
    "        for var in data:\n",
    "            a='\\t'.join(var[1])\n",
    "            a+='\\n'\n",
    "            f.write(a)\n",
    "        f.close()\n",
    "    else:\n",
    "        f.close()\n"
   ]
  },
  {
   "cell_type": "code",
   "execution_count": 8,
   "metadata": {},
   "outputs": [
    {
     "name": "stdout",
     "output_type": "stream",
     "text": [
      "Save data?[yes/no] yes\n",
      "File name: sol.txt\n"
     ]
    }
   ],
   "source": [
    "quit()\n",
    "# yes 대문자로 써도 인식 가능하게\n",
    "# 파일 이름에 txt 꼭 붙이게"
   ]
  },
  {
   "cell_type": "code",
   "execution_count": 6,
   "metadata": {},
   "outputs": [],
   "source": [
    "def searchgrade():\n",
    "    grd=input(\"Grade to search: \").upper()\n",
    "    temp=0\n",
    "    if grd in ['A', 'B', 'C', 'D', 'F']:\n",
    "        ls=[varname, cutline]\n",
    "        for key in stu_dic.keys():\n",
    "            if grd==stu_dic[key][5]:\n",
    "                score=stu_dic[key] # 해당 키의 값을 score에 할당\n",
    "                score=tostring(score)\n",
    "                line='\\t'.join(score)\n",
    "                ls.append(line)\n",
    "            else:\n",
    "                temp+=1\n",
    "                if temp==len(stu_dic):\n",
    "                    del ls\n",
    "                    print(\"NO RESULTS.\")\n",
    "        for var in ls:\n",
    "            print(var)"
   ]
  },
  {
   "cell_type": "code",
   "execution_count": 8,
   "metadata": {},
   "outputs": [
    {
     "name": "stdout",
     "output_type": "stream",
     "text": [
      "Student ID: 20180002\n",
      "Mid/Final? mid\n",
      "Input new score: 50\n",
      "Student\t\tName\t\tMidterm\tFinal\tAverage\tGrade\n",
      "---------------------------------------------------------------\n",
      "20180002\tLee Jieun\t92\t89\t90.5\tA\n",
      "Score changed.\n",
      "Student\t\tName\t\tMidterm\tFinal\tAverage\tGrade\n",
      "---------------------------------------------------------------\n",
      "20180002\tLee Jieun\t50\t89\t69.5\tD\n"
     ]
    }
   ],
   "source": [
    "changescore()"
   ]
  },
  {
   "cell_type": "code",
   "execution_count": 9,
   "metadata": {},
   "outputs": [
    {
     "name": "stdout",
     "output_type": "stream",
     "text": [
      "Grade to search: a\n",
      "NO RESULTS.\n"
     ]
    }
   ],
   "source": [
    "searchgrade()"
   ]
  },
  {
   "cell_type": "code",
   "execution_count": null,
   "metadata": {},
   "outputs": [],
   "source": []
  }
 ],
 "metadata": {
  "kernelspec": {
   "display_name": "Python 3",
   "language": "python",
   "name": "python3"
  },
  "language_info": {
   "codemirror_mode": {
    "name": "ipython",
    "version": 3
   },
   "file_extension": ".py",
   "mimetype": "text/x-python",
   "name": "python",
   "nbconvert_exporter": "python",
   "pygments_lexer": "ipython3",
   "version": "3.7.4"
  }
 },
 "nbformat": 4,
 "nbformat_minor": 2
}
