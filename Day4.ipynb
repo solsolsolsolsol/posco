{
 "cells": [
  {
   "cell_type": "code",
   "execution_count": 3,
   "metadata": {},
   "outputs": [
    {
     "name": "stdout",
     "output_type": "stream",
     "text": [
      "16시간 4분 54초\n"
     ]
    }
   ],
   "source": [
    "def hour_min_sec(second):\n",
    "    seco=second%60\n",
    "    minute=(second//60)%60 ### check again\n",
    "    hour=second//(60*60)\n",
    "    return hour, minute, seco\n",
    "\n",
    "hour, minute, sec=hour_min_sec(57894)\n",
    "print(\"%d시간 %d분 %d초\" %(hour, minute, sec))"
   ]
  },
  {
   "cell_type": "code",
   "execution_count": 7,
   "metadata": {},
   "outputs": [
    {
     "name": "stdout",
     "output_type": "stream",
     "text": [
      "1\n",
      "9\n",
      "[3, 5, 2]\n"
     ]
    }
   ],
   "source": [
    "def get_min_max(l):\n",
    "    mini=min(l)\n",
    "    maxi=max(l)\n",
    "    l.remove(mini)\n",
    "    l.remove(maxi)\n",
    "    return mini, maxi\n",
    "\n",
    "l=[3,5,9,1,2]\n",
    "(min_val, max_val)=get_min_max(l)\n",
    "print(min_val)\n",
    "print(max_val)\n",
    "print(l)"
   ]
  },
  {
   "cell_type": "code",
   "execution_count": null,
   "metadata": {},
   "outputs": [],
   "source": [
    "def minimum(x):\n",
    "    mini = x[0]\n",
    "    for i in x[0:]:\n",
    "        if i < mini:\n",
    "            mini = i\n",
    "    return mini"
   ]
  },
  {
   "cell_type": "markdown",
   "metadata": {},
   "source": [
    "## 소수 판단 함수"
   ]
  },
  {
   "cell_type": "code",
   "execution_count": 15,
   "metadata": {},
   "outputs": [
    {
     "name": "stdout",
     "output_type": "stream",
     "text": [
      "True\n"
     ]
    }
   ],
   "source": [
    "def check_prime(num):\n",
    "    for i in range(1,int(num)+1):\n",
    "        if (int(num)%i==0) and (i!=1) and (i!=int(num)):\n",
    "            return False\n",
    "        else:\n",
    "            return True\n",
    "        \n",
    "isprime=check_prime(7)\n",
    "print(isprime)"
   ]
  },
  {
   "cell_type": "code",
   "execution_count": null,
   "metadata": {},
   "outputs": [],
   "source": [
    "def dot_product(da,db):\n",
    "    res=0\n",
    "    for k in da:    # for k in v1.keys():\n",
    "        if k in db: # if k in v2.keys():\n",
    "            res+=da[k]*db[k]"
   ]
  },
  {
   "cell_type": "code",
   "execution_count": null,
   "metadata": {},
   "outputs": [],
   "source": [
    "for k in set(v1).intersect(set(v2))\n",
    "for k in set(v1)&(set(v2):\n",
    "                  res+=v1[i]"
   ]
  },
  {
   "cell_type": "code",
   "execution_count": null,
   "metadata": {},
   "outputs": [],
   "source": [
    "for k in v1:\n",
    "    try:\n",
    "        res+=v1[k]*v2[k]\n",
    "        except KeyError:\n",
    "            pass\n",
    "        except: # 그 밖의 모든 에러\n",
    "            pass\n",
    "        return res"
   ]
  },
  {
   "cell_type": "code",
   "execution_count": null,
   "metadata": {},
   "outputs": [],
   "source": [
    "return sum([v1[k]*v2[k] for k in v1 if k in v2)"
   ]
  },
  {
   "cell_type": "code",
   "execution_count": 20,
   "metadata": {},
   "outputs": [
    {
     "name": "stdout",
     "output_type": "stream",
     "text": [
      "[2, 1, 4, 3, 5]\n"
     ]
    }
   ],
   "source": [
    "import random\n",
    "r=[1,2,3,4,5]\n",
    "random.shuffle(r)\n",
    "print(r)"
   ]
  },
  {
   "cell_type": "markdown",
   "metadata": {},
   "source": [
    "### 로또 추첨(번호 중복 안됨)"
   ]
  },
  {
   "cell_type": "code",
   "execution_count": 35,
   "metadata": {
    "scrolled": true
   },
   "outputs": [
    {
     "name": "stdout",
     "output_type": "stream",
     "text": [
      "[7, 39, 11, 34, 27, 18]\n"
     ]
    }
   ],
   "source": [
    "import random\n",
    "number=range(1,46)\n",
    "lotto=random.sample(number, 6)\n",
    "print(lotto)\n"
   ]
  },
  {
   "cell_type": "code",
   "execution_count": 31,
   "metadata": {},
   "outputs": [
    {
     "name": "stdout",
     "output_type": "stream",
     "text": [
      "range(1, 46)\n"
     ]
    },
    {
     "ename": "TypeError",
     "evalue": "sample() missing 1 required positional argument: 'k'",
     "output_type": "error",
     "traceback": [
      "\u001b[0;31m---------------------------------------------------------------------------\u001b[0m",
      "\u001b[0;31mTypeError\u001b[0m                                 Traceback (most recent call last)",
      "\u001b[0;32m<ipython-input-31-34f68d36aa7c>\u001b[0m in \u001b[0;36m<module>\u001b[0;34m\u001b[0m\n\u001b[1;32m      3\u001b[0m \u001b[0;31m#     number[i].append=i+1\u001b[0m\u001b[0;34m\u001b[0m\u001b[0;34m\u001b[0m\u001b[0;34m\u001b[0m\u001b[0m\n\u001b[1;32m      4\u001b[0m \u001b[0;34m\u001b[0m\u001b[0m\n\u001b[0;32m----> 5\u001b[0;31m \u001b[0mrandom\u001b[0m\u001b[0;34m.\u001b[0m\u001b[0msample\u001b[0m\u001b[0;34m(\u001b[0m\u001b[0mrange\u001b[0m\u001b[0;34m(\u001b[0m\u001b[0;36m1\u001b[0m\u001b[0;34m,\u001b[0m\u001b[0;36m46\u001b[0m\u001b[0;34m)\u001b[0m\u001b[0;34m)\u001b[0m\u001b[0;34m\u001b[0m\u001b[0;34m\u001b[0m\u001b[0m\n\u001b[0m",
      "\u001b[0;31mTypeError\u001b[0m: sample() missing 1 required positional argument: 'k'"
     ]
    }
   ],
   "source": [
    "\n",
    "print(number)\n",
    "# for i in range(0, 45):\n",
    "#     number[i].append=i+1\n",
    "\n",
    "random.sample(range(1,46))"
   ]
  },
  {
   "cell_type": "code",
   "execution_count": 38,
   "metadata": {},
   "outputs": [
    {
     "name": "stdout",
     "output_type": "stream",
     "text": [
      "['p', 'y', 't', 'h', 'o', 'n', ' ', 'i', 's', ' ', 'f', 'u', 'n', '!']\n"
     ]
    }
   ],
   "source": [
    "def letter_dict(str):\n",
    "    lstr=list(str)\n",
    "    print(lstr)\n",
    "    \n",
    "    \n",
    "letter_dict(\"python is fun!\")\n"
   ]
  },
  {
   "cell_type": "markdown",
   "metadata": {},
   "source": [
    "## OOP"
   ]
  },
  {
   "cell_type": "code",
   "execution_count": null,
   "metadata": {},
   "outputs": [],
   "source": []
  },
  {
   "cell_type": "code",
   "execution_count": 86,
   "metadata": {
    "scrolled": true
   },
   "outputs": [],
   "source": [
    "class Account:\n",
    "# 계좌의 속성(Attribute)\n",
    "    num_acc = 0 # account의 변수\n",
    "    number = 'OOOO-OOO-OOOOOO'\n",
    "    balance = 0\n",
    "    rate = 1.0\n",
    "\n",
    "# def __init__(self): Default 생성자\n",
    "    def __init__(self, num='OOO-OOO-OOOOO', amnt=0, rate=1.0):\n",
    "        self.number = num\n",
    "        self.balance = amnt\n",
    "        self.rate = rate\n",
    "        Account.num_acc += 1\n",
    "# 계좌의 기능(Method)\n",
    "    def deposit(self, money): #입금\n",
    "        self.balance += money \n",
    "    def withdraw(self, money): #인출\n",
    "        self.balance -= money\n",
    "    def obtain_interest(self): #이자 획득\n",
    "        self.balance += self.balance*(self.rate/100)\n",
    "    def __add__(self, another): #두 계좌 통합 기능\n",
    "        new_acc=Account(amnt=self.balance+another.balance, rate=self.rate)\n",
    "        return new_acc\n",
    "    def get_balance(self):\n",
    "        return self.balance\n",
    "    def set_balance(self, amnt):\n",
    "        self.balance = amnt\n",
    "    def transfer(self, another, amnt):\n",
    "         \n",
    "        if self.withdraw(amnt):\n",
    "            another.balance+=amnt\n",
    "            Account.withdraw(self, amnt)\n",
    "\n",
    "        \n",
    "class MinBalanceAccount(Account): #Account 클래스를 상속받음\n",
    "    def __init__(self, min_balance, num='OOOO-OOO-OOOOO', amnt=0, rate=1.0):\n",
    "        Account.__init__(self, num=num, amnt=amnt,rate=rate)\n",
    "        #self.number = num \n",
    "        #self.balance = amnt\n",
    "        #self.rate = rate 를 쓴 것과 같은 효과\n",
    "        Account.num_acc += 1\n",
    "        self.minimum_balance = min_balance\n",
    "        self.bonus_rate = 1.0\n",
    " \n",
    "    def withdraw(self, amnt): # 인출 기능 !!수정!! method overriding\n",
    "        if self.balance - amnt < self.minimum_balance:\n",
    "            print('Sorry, minimum balance must be maintained')\n",
    "            return False\n",
    "        else:\n",
    "#           Account.withdraw(self, amnt)\n",
    "            return True\n",
    "        \n",
    "    def obtain_interest(self): #보너스 이율 반영\n",
    "        self.balance +=(self.balance)*((self.rate+self.bonus_rate)/100.0)\n",
    "        \n",
    "    \n",
    "        "
   ]
  },
  {
   "cell_type": "code",
   "execution_count": 87,
   "metadata": {},
   "outputs": [
    {
     "name": "stdout",
     "output_type": "stream",
     "text": [
      "400\n",
      "1100\n"
     ]
    },
    {
     "data": {
      "text/plain": [
       "400"
      ]
     },
     "execution_count": 87,
     "metadata": {},
     "output_type": "execute_result"
    }
   ],
   "source": [
    "acc1= MinBalanceAccount(min_balance=0)\n",
    "acc1.set_balance(500)\n",
    "acc2= MinBalanceAccount(min_balance=0)\n",
    "acc2.set_balance(1000)\n",
    "acc1.transfer(acc2,100) # acc1에서 acc2로 100원\n",
    "print(acc1.get_balance()) # 400\n",
    "print(acc2.get_balance()) # 1100\n",
    "acc1.withdraw(100)\n",
    "acc1.get_balance()"
   ]
  },
  {
   "cell_type": "code",
   "execution_count": null,
   "metadata": {},
   "outputs": [],
   "source": [
    "    def transfer(self, another, amnt):\n",
    "        MinBalanceAccount.withdraw(self, amnt)\n",
    "        if self.withdraw에서 else가 실행되면:\n",
    "            another.balance+=amnt"
   ]
  },
  {
   "cell_type": "code",
   "execution_count": 63,
   "metadata": {},
   "outputs": [
    {
     "name": "stdout",
     "output_type": "stream",
     "text": [
      "500\n",
      "1000\n",
      "0\n",
      "3\n",
      "1000\n",
      "1010.0\n"
     ]
    },
    {
     "ename": "AttributeError",
     "evalue": "'Account' object has no attribute 'get_balance'",
     "output_type": "error",
     "traceback": [
      "\u001b[0;31m---------------------------------------------------------------------------\u001b[0m",
      "\u001b[0;31mAttributeError\u001b[0m                            Traceback (most recent call last)",
      "\u001b[0;32m<ipython-input-63-f9eaeccfe42d>\u001b[0m in \u001b[0;36m<module>\u001b[0;34m\u001b[0m\n\u001b[1;32m     19\u001b[0m \u001b[0;34m\u001b[0m\u001b[0m\n\u001b[1;32m     20\u001b[0m \u001b[0macc3\u001b[0m\u001b[0;34m=\u001b[0m\u001b[0macc1\u001b[0m\u001b[0;34m+\u001b[0m\u001b[0macc2\u001b[0m\u001b[0;34m\u001b[0m\u001b[0;34m\u001b[0m\u001b[0m\n\u001b[0;32m---> 21\u001b[0;31m \u001b[0mprint\u001b[0m\u001b[0;34m(\u001b[0m\u001b[0macc3\u001b[0m\u001b[0;34m.\u001b[0m\u001b[0mget_balance\u001b[0m\u001b[0;34m(\u001b[0m\u001b[0;34m)\u001b[0m\u001b[0;34m)\u001b[0m\u001b[0;34m\u001b[0m\u001b[0;34m\u001b[0m\u001b[0m\n\u001b[0m\u001b[1;32m     22\u001b[0m \u001b[0;34m\u001b[0m\u001b[0m\n\u001b[1;32m     23\u001b[0m \u001b[0macc1\u001b[0m\u001b[0;34m=\u001b[0m \u001b[0mMinBalanceAccount\u001b[0m\u001b[0;34m(\u001b[0m\u001b[0mmin_balance\u001b[0m\u001b[0;34m=\u001b[0m\u001b[0;36m0\u001b[0m\u001b[0;34m)\u001b[0m\u001b[0;34m\u001b[0m\u001b[0;34m\u001b[0m\u001b[0m\n",
      "\u001b[0;31mAttributeError\u001b[0m: 'Account' object has no attribute 'get_balance'"
     ]
    }
   ],
   "source": [
    "acc1 = Account()\n",
    "acc2 = Account()\n",
    "acc3 = Account()\n",
    "\n",
    "acc1.deposit(500)\n",
    "acc2.deposit(1000)\n",
    "\n",
    "print(acc1.balance)\n",
    "print(acc2.balance)\n",
    "print(acc3.balance)\n",
    "\n",
    "\n",
    "print(acc1.num_acc)\n",
    "\n",
    "acc1.deposit(500)\n",
    "acc2.obtain_interest()\n",
    "print(acc1.balance)\n",
    "print(acc2.balance)\n",
    "\n",
    "acc3=acc1+acc2\n",
    "print(acc3.get_balance())\n",
    "\n",
    "acc1= MinBalanceAccount(min_balance=0)\n",
    "acc1.set_balance(500)\n",
    "acc2= MinBalanceAccount(min_balance=0)\n",
    "acc2.set_balance(1000)\n",
    "acc1.transfer(acc2, 100) # acc1에서 acc2로 100원\n",
    "print(acc1.get_balance()) # 400\n",
    "print(acc2.get_balance()) # 1100"
   ]
  },
  {
   "cell_type": "code",
   "execution_count": 54,
   "metadata": {},
   "outputs": [
    {
     "ename": "NameError",
     "evalue": "name 'balance' is not defined",
     "output_type": "error",
     "traceback": [
      "\u001b[0;31m---------------------------------------------------------------------------\u001b[0m",
      "\u001b[0;31mNameError\u001b[0m                                 Traceback (most recent call last)",
      "\u001b[0;32m<ipython-input-54-e492f0a56567>\u001b[0m in \u001b[0;36m<module>\u001b[0;34m\u001b[0m\n\u001b[1;32m      8\u001b[0m \u001b[0mAccount\u001b[0m\u001b[0;34m.\u001b[0m\u001b[0mdeposit\u001b[0m\u001b[0;34m(\u001b[0m\u001b[0macc1\u001b[0m\u001b[0;34m,\u001b[0m \u001b[0;36m500\u001b[0m\u001b[0;34m)\u001b[0m\u001b[0;34m\u001b[0m\u001b[0;34m\u001b[0m\u001b[0m\n\u001b[1;32m      9\u001b[0m \u001b[0;34m\u001b[0m\u001b[0m\n\u001b[0;32m---> 10\u001b[0;31m \u001b[0mprint\u001b[0m\u001b[0;34m(\u001b[0m\u001b[0macc1\u001b[0m\u001b[0;34m,\u001b[0m \u001b[0mbalance\u001b[0m\u001b[0;34m)\u001b[0m\u001b[0;34m\u001b[0m\u001b[0;34m\u001b[0m\u001b[0m\n\u001b[0m",
      "\u001b[0;31mNameError\u001b[0m: name 'balance' is not defined"
     ]
    }
   ],
   "source": [
    "class MinBalanceAccount(Account): #Account 클래스를 상속받음\n",
    "    def __init__(self, min_balance, num='OOOO-OOO-OOOOO', amnt=0, rate=1.0):\n",
    "        Account.__init__(self, num=num, amnt=amnt,rate=rate)\n",
    "        self.minimum_balance = min_balance\n",
    "        self.bonus_rate = 1.0\n",
    "        \n",
    "acc1.deposit(500) # ==Account.deposit(acc1, 500)\n",
    "Account.deposit(acc1, 500)\n",
    "\n",
    "print(acc1, balance)"
   ]
  },
  {
   "cell_type": "code",
   "execution_count": null,
   "metadata": {},
   "outputs": [],
   "source": [
    "# 연습문제1 힌트: transfer 함수를 account 밑에 만들되, \n",
    "# account로 생성된 instance와 minbalanceaccount로 생성된 instance가 있음\n",
    "# 재정의를 안해주면 account로 생성된 instance로 transfer될 것\n",
    "# transfer가 일어날 때 minbalance 조건이 고려되도록\n",
    "트랜스퍼 자체가 함수인데, 어카운트 밑에 정의하시오.\n",
    "특성을 반영해라=미니멈 밸런스인지 확인해서 빼라. 아니면 그냥 빼라\n",
    "빼는 거에 대한 조건이 붙고 안 붙고의 차이고, 빼는 것에 대한 함수를 이미 정의 해놓음. 두 클래스의 withdraw가 서로 다름.\n",
    "과제1: 멤버 말고 객체를 리턴"
   ]
  },
  {
   "cell_type": "code",
   "execution_count": 60,
   "metadata": {},
   "outputs": [
    {
     "name": "stdout",
     "output_type": "stream",
     "text": [
      "[1, 2, 3, 4, 5]\n",
      "[1, 2, 3, 4, 5]\n",
      "[1, 4, 9, 16, 25]\n"
     ]
    },
    {
     "data": {
      "text/plain": [
       "[5, 7, 9]"
      ]
     },
     "execution_count": 60,
     "metadata": {},
     "output_type": "execute_result"
    }
   ],
   "source": [
    "ls=[]\n",
    "for i in range(1,6):\n",
    "    ls.append(i)\n",
    "    \n",
    "print(ls)\n",
    "\n",
    "#리스트 축약 list comprehensions-빠르다\n",
    "\n",
    "ls=[i for i in range(1,6)]\n",
    "print(ls)\n",
    "\n",
    "ls=[i**2 for i in range(1,6)]\n",
    "print(ls)\n",
    "\n",
    "#이중 리스트\n",
    "l1=[1,2,3]\n",
    "l2=[4,5,6]\n",
    "[x*y for x in l1 for y in l2]\n",
    "\n",
    "#딕셔너리도 축약 가능\n",
    "#enumerate, zip 알아둘 것\n",
    "\n",
    "[sum(x) for x in zip((1,2,3), (4,5,6))]\n",
    "\n",
    "L1=['one', 'two', ]\n",
    "l2=[1,2,3,4]\n",
    "d={k:v for k, v in zip(L1, L2)}\n",
    "print(d)"
   ]
  },
  {
   "cell_type": "code",
   "execution_count": null,
   "metadata": {},
   "outputs": [],
   "source": [
    "txt = \"welcome to the jungle\"\n",
    "ls=[]\n",
    "# for i in txt:\n",
    "#     ls.append(i)\n",
    "[ls.append(i) for i in txt]\n",
    "print(ls)\n",
    "# x,y,z,v = txt.split()\n",
    "\n",
    "# print(x+' '+y+z+v)"
   ]
  },
  {
   "cell_type": "code",
   "execution_count": 92,
   "metadata": {},
   "outputs": [
    {
     "name": "stdout",
     "output_type": "stream",
     "text": [
      "[(0, 'red'), (1, 'green'), (2, 'blue')]\n"
     ]
    }
   ],
   "source": [
    "colors = ['red', 'green', 'blue']\n",
    "e=list(enumerate(colors))\n",
    "print(e)"
   ]
  },
  {
   "cell_type": "code",
   "execution_count": 94,
   "metadata": {},
   "outputs": [
    {
     "name": "stdout",
     "output_type": "stream",
     "text": [
      "[('one', 1), ('two', 2), ('three', 3), ('four', 4)]\n"
     ]
    }
   ],
   "source": [
    "L1 = ['one', 'two', 'three', 'four']\n",
    "L2 = [1, 2, 3, 4]\n",
    "e=list(zip(L1, L2))\n",
    "print(e)"
   ]
  },
  {
   "cell_type": "code",
   "execution_count": null,
   "metadata": {},
   "outputs": [],
   "source": [
    "[(1,4), (2,5), (3,6)]\n",
    "[5, 7, 9]"
   ]
  },
  {
   "cell_type": "code",
   "execution_count": 95,
   "metadata": {},
   "outputs": [
    {
     "data": {
      "text/plain": [
       "[5, 7, 9]"
      ]
     },
     "execution_count": 95,
     "metadata": {},
     "output_type": "execute_result"
    }
   ],
   "source": [
    " [sum(x) for x in zip((1,2,3), (4,5,6))]"
   ]
  },
  {
   "cell_type": "code",
   "execution_count": 96,
   "metadata": {},
   "outputs": [
    {
     "name": "stdout",
     "output_type": "stream",
     "text": [
      "one,two,three\n"
     ]
    }
   ],
   "source": [
    "ls=['one', 'two', 'three']\n",
    "a=','.join(ls)\n",
    "print(a)"
   ]
  },
  {
   "cell_type": "code",
   "execution_count": null,
   "metadata": {},
   "outputs": [],
   "source": []
  }
 ],
 "metadata": {
  "kernelspec": {
   "display_name": "Python 3",
   "language": "python",
   "name": "python3"
  },
  "language_info": {
   "codemirror_mode": {
    "name": "ipython",
    "version": 3
   },
   "file_extension": ".py",
   "mimetype": "text/x-python",
   "name": "python",
   "nbconvert_exporter": "python",
   "pygments_lexer": "ipython3",
   "version": "3.7.4"
  }
 },
 "nbformat": 4,
 "nbformat_minor": 2
}
