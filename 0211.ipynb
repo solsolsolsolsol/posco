{
 "cells": [
  {
   "cell_type": "code",
   "execution_count": 1,
   "metadata": {},
   "outputs": [],
   "source": [
    "import matplotlib\n",
    "\n",
    "import matplotlib.font_manager as fm\n",
    "\n",
    "font_location = '/usr/share/fonts/truetype/nanum/NanumGothic.ttf'\n",
    "\n",
    "font_name = fm.FontProperties(fname = font_location).get_name()\n",
    "\n",
    "matplotlib.rc('font',family = font_name)"
   ]
  },
  {
   "cell_type": "code",
   "execution_count": 2,
   "metadata": {},
   "outputs": [],
   "source": [
    "import pandas as pd\n",
    "\n",
    "import matplotlib.pyplot as plt\n",
    "import matplotlib\n",
    "\n",
    "from sklearn.preprocessing import StandardScaler\n",
    "from sklearn.model_selection import train_test_split\n",
    "\n",
    "from sklearn.svm import SVC\n",
    "\n",
    "from sklearn.model_selection import GridSearchCV\n",
    "\n",
    "from sklearn.metrics import confusion_matrix"
   ]
  },
  {
   "cell_type": "code",
   "execution_count": 3,
   "metadata": {},
   "outputs": [
    {
     "data": {
      "text/html": [
       "<div>\n",
       "<style scoped>\n",
       "    .dataframe tbody tr th:only-of-type {\n",
       "        vertical-align: middle;\n",
       "    }\n",
       "\n",
       "    .dataframe tbody tr th {\n",
       "        vertical-align: top;\n",
       "    }\n",
       "\n",
       "    .dataframe thead th {\n",
       "        text-align: right;\n",
       "    }\n",
       "</style>\n",
       "<table border=\"1\" class=\"dataframe\">\n",
       "  <thead>\n",
       "    <tr style=\"text-align: right;\">\n",
       "      <th></th>\n",
       "      <th>BAD</th>\n",
       "      <th>LOAN</th>\n",
       "      <th>MORTDUE</th>\n",
       "      <th>VALUE</th>\n",
       "      <th>REASON</th>\n",
       "      <th>JOB</th>\n",
       "      <th>YOJ</th>\n",
       "      <th>DEROG</th>\n",
       "      <th>DELINQ</th>\n",
       "      <th>CLAGE</th>\n",
       "      <th>NINQ</th>\n",
       "      <th>CLNO</th>\n",
       "      <th>DEBTINC</th>\n",
       "    </tr>\n",
       "  </thead>\n",
       "  <tbody>\n",
       "    <tr>\n",
       "      <td>0</td>\n",
       "      <td>1</td>\n",
       "      <td>1700</td>\n",
       "      <td>30548</td>\n",
       "      <td>40320.0</td>\n",
       "      <td>HomeImp</td>\n",
       "      <td>Other</td>\n",
       "      <td>9.0</td>\n",
       "      <td>0</td>\n",
       "      <td>0.0</td>\n",
       "      <td>101.466002</td>\n",
       "      <td>1.0</td>\n",
       "      <td>8</td>\n",
       "      <td>37.113614</td>\n",
       "    </tr>\n",
       "    <tr>\n",
       "      <td>1</td>\n",
       "      <td>1</td>\n",
       "      <td>1800</td>\n",
       "      <td>28502</td>\n",
       "      <td>43034.0</td>\n",
       "      <td>HomeImp</td>\n",
       "      <td>Other</td>\n",
       "      <td>11.0</td>\n",
       "      <td>0</td>\n",
       "      <td>0.0</td>\n",
       "      <td>88.766030</td>\n",
       "      <td>0.0</td>\n",
       "      <td>8</td>\n",
       "      <td>36.884894</td>\n",
       "    </tr>\n",
       "    <tr>\n",
       "      <td>2</td>\n",
       "      <td>0</td>\n",
       "      <td>2300</td>\n",
       "      <td>102370</td>\n",
       "      <td>120953.0</td>\n",
       "      <td>HomeImp</td>\n",
       "      <td>Office</td>\n",
       "      <td>2.0</td>\n",
       "      <td>0</td>\n",
       "      <td>0.0</td>\n",
       "      <td>90.992533</td>\n",
       "      <td>0.0</td>\n",
       "      <td>13</td>\n",
       "      <td>31.588503</td>\n",
       "    </tr>\n",
       "    <tr>\n",
       "      <td>3</td>\n",
       "      <td>1</td>\n",
       "      <td>2400</td>\n",
       "      <td>34863</td>\n",
       "      <td>47471.0</td>\n",
       "      <td>HomeImp</td>\n",
       "      <td>Mgr</td>\n",
       "      <td>12.0</td>\n",
       "      <td>0</td>\n",
       "      <td>0.0</td>\n",
       "      <td>70.491080</td>\n",
       "      <td>1.0</td>\n",
       "      <td>21</td>\n",
       "      <td>38.263601</td>\n",
       "    </tr>\n",
       "    <tr>\n",
       "      <td>4</td>\n",
       "      <td>0</td>\n",
       "      <td>2400</td>\n",
       "      <td>98449</td>\n",
       "      <td>117195.0</td>\n",
       "      <td>HomeImp</td>\n",
       "      <td>Office</td>\n",
       "      <td>4.0</td>\n",
       "      <td>0</td>\n",
       "      <td>0.0</td>\n",
       "      <td>93.811775</td>\n",
       "      <td>0.0</td>\n",
       "      <td>13</td>\n",
       "      <td>29.681827</td>\n",
       "    </tr>\n",
       "  </tbody>\n",
       "</table>\n",
       "</div>"
      ],
      "text/plain": [
       "   BAD  LOAN  MORTDUE     VALUE   REASON     JOB   YOJ  DEROG  DELINQ  \\\n",
       "0    1  1700    30548   40320.0  HomeImp   Other   9.0      0     0.0   \n",
       "1    1  1800    28502   43034.0  HomeImp   Other  11.0      0     0.0   \n",
       "2    0  2300   102370  120953.0  HomeImp  Office   2.0      0     0.0   \n",
       "3    1  2400    34863   47471.0  HomeImp     Mgr  12.0      0     0.0   \n",
       "4    0  2400    98449  117195.0  HomeImp  Office   4.0      0     0.0   \n",
       "\n",
       "        CLAGE  NINQ  CLNO    DEBTINC  \n",
       "0  101.466002   1.0     8  37.113614  \n",
       "1   88.766030   0.0     8  36.884894  \n",
       "2   90.992533   0.0    13  31.588503  \n",
       "3   70.491080   1.0    21  38.263601  \n",
       "4   93.811775   0.0    13  29.681827  "
      ]
     },
     "execution_count": 3,
     "metadata": {},
     "output_type": "execute_result"
    }
   ],
   "source": [
    "# 데이터 불러오기\n",
    "df_raw=pd.read_csv(\"HMEQ.csv\", engine=\"python\")\n",
    "df_raw.head()"
   ]
  },
  {
   "cell_type": "code",
   "execution_count": 4,
   "metadata": {},
   "outputs": [
    {
     "data": {
      "text/plain": [
       "BAD          0\n",
       "LOAN         0\n",
       "MORTDUE      0\n",
       "VALUE       14\n",
       "REASON       0\n",
       "JOB         81\n",
       "YOJ        205\n",
       "DEROG        0\n",
       "DELINQ      30\n",
       "CLAGE       37\n",
       "NINQ        56\n",
       "CLNO         0\n",
       "DEBTINC      0\n",
       "dtype: int64"
      ]
     },
     "execution_count": 4,
     "metadata": {},
     "output_type": "execute_result"
    }
   ],
   "source": [
    "# 데이터 전처리\n",
    "# 결측치 확인\n",
    "df_raw.isnull().sum(axis=0)"
   ]
  },
  {
   "cell_type": "code",
   "execution_count": 5,
   "metadata": {},
   "outputs": [],
   "source": [
    "# fillna:결측치 대체 함수\n",
    "\n",
    "# job 변수의 결측치는 other로 대체, inplace: fillna 함수 적용 후 df_Raw 데이터에 저장, false면 저장 안함\n",
    "df_raw[\"JOB\"].fillna(\"Other\", inplace=True)\n",
    "\n",
    "# 숫자형 변수의 결측치는 해당 변수의 평균값 입력: df_raw.mean() 각 변수별 평균 계산 후 결측치 대체\n",
    "df_raw.fillna(df_raw.mean(), inplace=True)"
   ]
  },
  {
   "cell_type": "code",
   "execution_count": 6,
   "metadata": {},
   "outputs": [
    {
     "data": {
      "text/plain": [
       "BAD               0\n",
       "LOAN              0\n",
       "MORTDUE           0\n",
       "VALUE             0\n",
       "YOJ               0\n",
       "DEROG             0\n",
       "DELINQ            0\n",
       "CLAGE             0\n",
       "NINQ              0\n",
       "CLNO              0\n",
       "DEBTINC           0\n",
       "REASON_DebtCon    0\n",
       "REASON_HomeImp    0\n",
       "JOB_Mgr           0\n",
       "JOB_Office        0\n",
       "JOB_Other         0\n",
       "JOB_ProfExe       0\n",
       "JOB_Sales         0\n",
       "JOB_Self          0\n",
       "dtype: int64"
      ]
     },
     "execution_count": 6,
     "metadata": {},
     "output_type": "execute_result"
    }
   ],
   "source": [
    "# 데이터 구성-더미변수 생성\n",
    "# get_dummies: 데이터와 문자형 변수에 대한 더미변수 생성\n",
    "df_raw_dummy=pd.get_dummies(df_raw)\n",
    "\n",
    "# 더미변수 생성된 데이터의 상위 5개 row를 확인\n",
    "df_raw_dummy.head()\n",
    "df_raw_dummy.isnull().sum(axis=0)"
   ]
  },
  {
   "cell_type": "code",
   "execution_count": 9,
   "metadata": {},
   "outputs": [
    {
     "name": "stdout",
     "output_type": "stream",
     "text": [
      "train data X size : (2623, 18)\n",
      "train data Y size : (2623,)\n",
      "test data X size : (1125, 18)\n",
      "test data Y size : (1125,)\n"
     ]
    }
   ],
   "source": [
    "# 목표변수, 설명변수 데이터 지정\n",
    "df_raw_y=df_raw_dummy[\"BAD\"]\n",
    "df_raw_x=df_raw_dummy.drop(\"BAD\", axis=1, inplace=False)\n",
    "\n",
    "#train_test_split(x: 설명변수 데이터, y: 목표변수 데이터, test_size=test 데이터 비율, random_state: random seed)\n",
    "df_train_x, df_test_x, df_train_y, df_test_y=train_test_split(df_raw_x, df_raw_y, test_size=0.3, random_state=1234)\n",
    "print(\"train data X size : {}\".format(df_train_x.shape))\n",
    "print(\"train data Y size : {}\".format(df_train_y.shape))\n",
    "print(\"test data X size : {}\".format(df_test_x.shape))\n",
    "print(\"test data Y size : {}\".format(df_test_y.shape))\n"
   ]
  },
  {
   "cell_type": "code",
   "execution_count": 10,
   "metadata": {},
   "outputs": [
    {
     "name": "stderr",
     "output_type": "stream",
     "text": [
      "/home/pirl/anaconda3/lib/python3.7/site-packages/sklearn/svm/base.py:193: FutureWarning: The default value of gamma will change from 'auto' to 'scale' in version 0.22 to account better for unscaled features. Set gamma explicitly to 'auto' or 'scale' to avoid this warning.\n",
      "  \"avoid this warning.\", FutureWarning)\n"
     ]
    },
    {
     "name": "stdout",
     "output_type": "stream",
     "text": [
      "Accuracy on training set: 1.000\n",
      "Accuracy on test set: 0.908\n"
     ]
    }
   ],
   "source": [
    "svm_uncustomized=SVC(random_state=1234)\n",
    "svm_uncustomized.fit(df_train_x, df_train_y)\n",
    "\n",
    "# train set 정확도\n",
    "print(\"Accuracy on training set: {:.3f}\".format(svm_uncustomized.score(df_train_x, df_train_y)))\n",
    "\n",
    "# test set 정확도\n",
    "print(\"Accuracy on test set: {:.3f}\".format(svm_uncustomized.score(df_test_x, df_test_y)))"
   ]
  },
  {
   "cell_type": "code",
   "execution_count": null,
   "metadata": {},
   "outputs": [],
   "source": [
    "# 120쪽\n",
    "# svc 모델 파라미터 변경\n",
    "# c 규제에 대한 강도 변경\n",
    "# train 및 test 정확도 결과 저장용\n",
    "train_accuracy=[]\n",
    "test_accuracy=[]\n",
    "\n",
    "# c: 규제(0.01, 0.1, 1, 10)\n",
    "para_c=[10**c for c in range(-2, 2)]\n",
    "\n",
    "for v_C in para_c:\n",
    "    svm=SVC(C=v_C, random_state=1234)\n",
    "    svm.fit(df_train_x, df_train_y)\n",
    "    train_accuracy.append(svm.score(df_train_x, df_train_y))\n",
    "    test_accuracy.append(svm.score(df_test_x, df_test_y))\n",
    "    \n",
    "# 데이터 테이블로 저장\n",
    "df_accuracy_c=pd.DataFrame()\n",
    "df_accuracy_c[\"C\"]=para_c\n",
    "df_accuracy_c[\"TrainAccuracy\"]=train_accuracy\n",
    "df_accuracy_c[\"TestAccuracy\"]=test_accuracy"
   ]
  },
  {
   "cell_type": "code",
   "execution_count": null,
   "metadata": {},
   "outputs": [],
   "source": [
    "# 121쪽\n",
    "# SVC 모델 파라미터 변경\n",
    "# C 규제에 대한 강도 변경 결과\n",
    "\n",
    "# C별 정확도 테이블\n",
    "df_accuracy_c.round(3)\n",
    "# 모델 정확도 그래프 확인\n",
    "plt.plot(para_c, train_accuracy, linestyle=\"-\", label=\"Train Accuracy\")\n",
    "plt.plot(para_c, test_accuracy, linestyle=\"--\", label=\"Test Accuracy\")\n",
    "plt.ylabel(\"accuracy\")\n",
    "plt.xlabel(\"C\")\n",
    "plt.legend()"
   ]
  },
  {
   "cell_type": "code",
   "execution_count": null,
   "metadata": {},
   "outputs": [],
   "source": [
    "# 122쪽\n",
    "# svc 모델 파라미터 변경\n",
    "# gamma 훈련 샘플이 미치는 영향의 범위를 변경\n",
    "# train 및  test 정확도 결과 저장용\n",
    "train_accuracy=[]\n",
    "test_accuracy=[]\n",
    "\n",
    "# gamma 규제(0.01, 0.1, 1, 10)\n",
    "para_gamma=[10**gamma for gamma in range(-2,2)]\n",
    "\n",
    "for v_gamma in para_gamma:\n",
    "    svm=SVC(gamma=v_gamma, C=0.1, random_state=1234)\n",
    "    svm.fit(df_train_x, df_train_y)\n",
    "    train_accuracy.append(svm.score(df_train_x, df_train_y))\n",
    "    test_accuracy.append(svm.score(df_test_x, df_test_y))\n",
    "    \n",
    "# 데이터 테이블로 저장\n",
    "df_accuracy_gamma=pd.DataFrame()\n",
    "df_accuracy_gamma[\"gamma\"]=para_gamma\n",
    "df_accuracy_gamma[\"TrainAccuracy\"]=train_accuracy\n",
    "df_accuracy_gamma[\"TestAccuracy\"]=test_accuracy"
   ]
  },
  {
   "cell_type": "code",
   "execution_count": null,
   "metadata": {},
   "outputs": [],
   "source": [
    "# 123쪽\n",
    "# svc 모델 파라미터 변경\n",
    "# gamma: 훈련 샘플이 미치는 영향의 범위를 변경 결과\n",
    "# gamma별 정확도 테이블\n",
    "df_accuracy_gamma.round(4)\n",
    "\n",
    "# 모델 정확도 그래프 확인\n",
    "plt.plot(para_gamma, train_accuracy, linestyle=\"-\", label=\"Train Accuracy\")\n",
    "plt.plot(para_gamma, test_accuracy, linestyle=\"--\", label=\"Test Accuracy\")\n",
    "plt.ylabel(\"accuracy\")\n",
    "plt.xlabel(\"gamma\")\n",
    "plt.legend()"
   ]
  },
  {
   "cell_type": "code",
   "execution_count": null,
   "metadata": {},
   "outputs": [],
   "source": [
    "# 124쪽\n",
    "# scale 변환\n",
    "# standardscaler 설명변수 값의 구간을 동일하게 변경\n",
    "\n",
    "# 변수명 저장\n",
    "v_feature_name=df_train_x.columns\n",
    "\n",
    "# StandardScaler 적용\n",
    "scaler=StandardScaler()\n",
    "df_scaled=scaler.fit_transform(df_raw_x)\n",
    "df_scaled=pd.DataFrame(df_scaled, columns=v_feature_name)\n",
    "df_scaled.head()\n"
   ]
  },
  {
   "cell_type": "code",
   "execution_count": 11,
   "metadata": {},
   "outputs": [],
   "source": [
    "# 데이터 분할"
   ]
  },
  {
   "cell_type": "code",
   "execution_count": 12,
   "metadata": {},
   "outputs": [
    {
     "ename": "NameError",
     "evalue": "name 'df_scaled_train_x' is not defined",
     "output_type": "error",
     "traceback": [
      "\u001b[0;31m---------------------------------------------------------------------------\u001b[0m",
      "\u001b[0;31mNameError\u001b[0m                                 Traceback (most recent call last)",
      "\u001b[0;32m<ipython-input-12-7b772dd6fabe>\u001b[0m in \u001b[0;36m<module>\u001b[0;34m\u001b[0m\n\u001b[1;32m      3\u001b[0m \u001b[0;31m# scale이 조정된 데이터로 새로운 모델 생성\u001b[0m\u001b[0;34m\u001b[0m\u001b[0;34m\u001b[0m\u001b[0;34m\u001b[0m\u001b[0m\n\u001b[1;32m      4\u001b[0m \u001b[0msvm_scaled\u001b[0m\u001b[0;34m=\u001b[0m\u001b[0mSVC\u001b[0m\u001b[0;34m(\u001b[0m\u001b[0mrandom_state\u001b[0m\u001b[0;34m=\u001b[0m\u001b[0;36m1234\u001b[0m\u001b[0;34m)\u001b[0m\u001b[0;34m\u001b[0m\u001b[0;34m\u001b[0m\u001b[0m\n\u001b[0;32m----> 5\u001b[0;31m \u001b[0msvm_scaled\u001b[0m\u001b[0;34m.\u001b[0m\u001b[0mfit\u001b[0m\u001b[0;34m(\u001b[0m\u001b[0mdf_scaled_train_x\u001b[0m\u001b[0;34m,\u001b[0m \u001b[0mdf_train_y\u001b[0m\u001b[0;34m)\u001b[0m\u001b[0;34m\u001b[0m\u001b[0;34m\u001b[0m\u001b[0m\n\u001b[0m\u001b[1;32m      6\u001b[0m \u001b[0;34m\u001b[0m\u001b[0m\n\u001b[1;32m      7\u001b[0m \u001b[0;31m# train set 정확도\u001b[0m\u001b[0;34m\u001b[0m\u001b[0;34m\u001b[0m\u001b[0;34m\u001b[0m\u001b[0m\n",
      "\u001b[0;31mNameError\u001b[0m: name 'df_scaled_train_x' is not defined"
     ]
    }
   ],
   "source": [
    "# 125쪽\n",
    "# scale 조절 후 SVC 모델 재실행\n",
    "# scale이 조정된 데이터로 새로운 모델 생성\n",
    "svm_scaled=SVC(random_state=1234)\n",
    "svm_scaled.fit(df_scaled_train_x, df_train_y)\n",
    "\n",
    "# train set 정확도\n",
    "print(\"Accuracy on training set: {:.3f}\".format(svm_scaled.score(df_scaled_train_x, df_train_y)))\n",
    "\n",
    "# test set 정확도\n",
    "print(\"Accuracy on test set: {:.3f}\".format(svm_scaled.score(df_scaled_test_x, df_test_y)))"
   ]
  },
  {
   "cell_type": "code",
   "execution_count": null,
   "metadata": {},
   "outputs": [],
   "source": [
    "# 126쪽\n",
    "# 새로운 svc 모델 파라미터 변경\n",
    "# c: 규제에 대한 강도 변경\n",
    "\n",
    "# train 및 test 정확도 결과 저장용\n",
    "train_accuracy=[]\n",
    "test_accuracy=[]\n",
    "\n",
    "# c 규제\n",
    "para_c=[10**c for c in range(-2, 2)]\n",
    "\n",
    "for v_C in para_c:\n",
    "    svm=SVC(C=v_C, random_state=1234)\n",
    "    svm.fit(df_scaled_train_x, df_train_y)\n",
    "    train_accuracy.append(svm.score(df_scaled_train_x, df_train_y))\n",
    "    test_accuracy.append(svm.score(df_scaled_test_x, df_test_y))\n",
    "    \n",
    "# 데이터 테이블로 저장\n",
    "df_accuracy_c=pd.DataFrame()\n",
    "df_accuracy_c[\"C\"]=para_c\n",
    "df_accuracy_c[\"TrainAccuracy\"]=train_accuracy\n",
    "df_accuracy_c[\"TestAccuracy\"]=test_accuracy"
   ]
  },
  {
   "cell_type": "code",
   "execution_count": null,
   "metadata": {},
   "outputs": [],
   "source": [
    "# 127쪽\n",
    "# 새로운 svc 모델 평가\n",
    "# c 규제에 대한 강도 변경\n",
    "# c 별 정확도 테이블\n",
    "df_accuracy_c.round(3)\n",
    "\n",
    "# 모델 정확도 그래프 확인\n",
    "plt.plot(para_c, train_accuracy, linestyle=\"-\", label=\"Train Accuracy\")\n",
    "plt.plot(para_c, test_accuracy, linestype=\"--\", label=\"Test Accuracy\")\n",
    "plt.ylabel(\"accuracy\")\n",
    "plt.xlabel(\"C\")\n",
    "plt.legend()"
   ]
  },
  {
   "cell_type": "code",
   "execution_count": null,
   "metadata": {},
   "outputs": [],
   "source": [
    "# 임의로 지정\n",
    "C=1"
   ]
  },
  {
   "cell_type": "code",
   "execution_count": null,
   "metadata": {},
   "outputs": [],
   "source": [
    "# 128쪽\n",
    "# 새로운 SVC 모델 PARAMETER 변경\n",
    "# 감마: 훈련 샘플이 미치는 영향의 범위를 변경 결과\n",
    "\n",
    "# TRAIN 및 TEST 정확도 결과 저장용\n",
    "train_accuracy=[]\n",
    "test_accuracy=[]\n",
    "\n",
    "# gamma 규제\n",
    "para_gamma=[10**gamma for gamma in range(-2, 2)]\n",
    "\n",
    "for v_gamma in para_gamma:\n",
    "    svm=SVC(gamma=v_gamma, C=1, random_state=1234)\n",
    "    svm.fit(df_scaled_train_x,, df_train_y)\n",
    "    train_accuracy.append(svm.score(df_scaled_train_x, df_train_y))\n",
    "    test_accuracy.append(svm.score(df_scaled_test_x, df_test_y))\n",
    "    \n",
    "# 데이터 테이블로 저장\n",
    "df_accuracy_gamma=pd.DataFrame()\n",
    "df_accuracy_gamma[\"gamma\"]=para_gamma\n",
    "df_accuracy_gamma[\"TrainAccuracy\"]=train_accuracy\n",
    "df_accuracy_gamma[\"TestAccuracy\"]=test_accuracy"
   ]
  },
  {
   "cell_type": "code",
   "execution_count": null,
   "metadata": {},
   "outputs": [],
   "source": [
    "# 새로운 SVC 모델 평가\n",
    "# GAMMA: 훈련 샘플이 미치는 영향의 범위를 변경 결롸\n",
    "# GAMMA 별 정확도 테이블\n",
    "df_accuracy_gamma.round(3)\n",
    "\n",
    "# gamma별 정확도 그래프로 확인\n",
    "plt.plot(para_gamma, train_accuracy, linestyle=\"-\", label=\"Train Accuracy\")\n",
    "plt.plot(para_gamma, test_accuracy, linestyle=\"--\", label=\"Test Accuracy\")\n",
    "plt.ylabel(\"accuracy\")\n",
    "plt.xlabel(\"gamma\")\n",
    "plt.legend()"
   ]
  },
  {
   "cell_type": "code",
   "execution_count": null,
   "metadata": {},
   "outputs": [],
   "source": [
    "# 임의로 지정\n",
    "gamma=0.1"
   ]
  },
  {
   "cell_type": "code",
   "execution_count": null,
   "metadata": {},
   "outputs": [],
   "source": [
    "# 결론 도출\n",
    "# 최종 모델 선택\n",
    "svc_final=SVC(gamma=0.1, C=1, random_state=1234)\n",
    "svc_final.fit(df_scaled_train_x, df_train_y)\n",
    "\n",
    "# 평가\n",
    "y_pred=svc_final.predict(df_scaled_test_x)\n",
    "\n",
    "# train set 정확도\n",
    "print(\"Accuracy on training set: {:.3f}\".format(svm_final.score(df_scaled_train_x, df_train_y)))\n",
    "\n",
    "# test set 정확도\n",
    "print(\"Accuracy on test set: {:.3f}\".format(svm_final.score(df_scaled_test_x, df_test_y)))\n",
    "\n",
    "# confusion matrix\n",
    "print(\"Confusion matrix: \\n{}\".format(confusion_matrix(df_test_y, y_pred)))"
   ]
  },
  {
   "cell_type": "code",
   "execution_count": null,
   "metadata": {},
   "outputs": [],
   "source": [
    "# 131쪽\n",
    "# 서포트 벡터 머신 파라미터 조정 추가\n",
    "# gridsearchcv 를 이용한 최적 파라미터 찾기\n",
    "estimator=SVC(random_state=1234)\n",
    "\n",
    "# 구하고자 하는 parameter와 범위\n",
    "param_grid={\"C\": para_c,\n",
    "           \"gamma\": para_gamma}\n",
    "\n",
    "# 정확도가 높은 최적 파라미터 찾기\n",
    "grid_rf=GridSearchCV(estimator, param_grid, scoring=\"accuracy\", n_jobs=-1)\n",
    "grid_rf.fir(df_scaled_train_x, df_train_y)\n",
    "print(\"best estimator model: \\n{}\".format(grid_rf.best_estimator_))\n",
    "print(\"\\nbest parameter: \\n{}\".format(grid_rf.best_params_))\n",
    "print(\"\\nbest score: \\n{}\".format(grid_rf.best_score_.round(3)))"
   ]
  },
  {
   "cell_type": "code",
   "execution_count": 17,
   "metadata": {},
   "outputs": [],
   "source": [
    "import pandas as pd\n",
    "\n",
    "import matplotlib.pyplot as plt\n",
    "import matplotlib\n",
    "\n",
    "from sklearn.preprocessing import StandardScaler\n",
    "from sklearn.model_selection import train_test_split\n",
    "\n",
    "from sklearn.neural_network import MLPClassifier\n",
    "\n",
    "from sklearn.model_selection import GridSearchCV\n",
    "\n",
    "from sklearn.metrics import confusion_matrix"
   ]
  },
  {
   "cell_type": "code",
   "execution_count": 20,
   "metadata": {},
   "outputs": [
    {
     "name": "stdout",
     "output_type": "stream",
     "text": [
      "Accuracy on training set: 0.910\n",
      "Accuracy on test set:0.909\n"
     ]
    },
    {
     "name": "stderr",
     "output_type": "stream",
     "text": [
      "/home/pirl/anaconda3/lib/python3.7/site-packages/sklearn/neural_network/multilayer_perceptron.py:566: ConvergenceWarning: Stochastic Optimizer: Maximum iterations (200) reached and the optimization hasn't converged yet.\n",
      "  % self.max_iter, ConvergenceWarning)\n"
     ]
    }
   ],
   "source": [
    "# 151쪽.\n",
    "# 기본 옵션\n",
    "nn_uncustomized=MLPClassifier(random_state=1234)\n",
    "\n",
    "# hidden_layer_sizes=(100,100)\n",
    "nn_uncustomized.fit(df_train_x, df_train_y)\n",
    "\n",
    "# train accuracy\n",
    "print(\"Accuracy on training set: {:.3f}\".format(nn_uncustomized.score(df_train_x, df_train_y)))\n",
    "\n",
    "# test accuracy\n",
    "print(\"Accuracy on test set:{:.3f}\".format(nn_uncustomized.score(df_test_x, df_test_y)))"
   ]
  },
  {
   "cell_type": "code",
   "execution_count": null,
   "metadata": {},
   "outputs": [],
   "source": [
    "#### 모델 정확"
   ]
  },
  {
   "cell_type": "code",
   "execution_count": 22,
   "metadata": {},
   "outputs": [
    {
     "name": "stderr",
     "output_type": "stream",
     "text": [
      "/home/pirl/anaconda3/lib/python3.7/site-packages/sklearn/neural_network/multilayer_perceptron.py:566: ConvergenceWarning: Stochastic Optimizer: Maximum iterations (200) reached and the optimization hasn't converged yet.\n",
      "  % self.max_iter, ConvergenceWarning)\n",
      "/home/pirl/anaconda3/lib/python3.7/site-packages/sklearn/neural_network/multilayer_perceptron.py:566: ConvergenceWarning: Stochastic Optimizer: Maximum iterations (200) reached and the optimization hasn't converged yet.\n",
      "  % self.max_iter, ConvergenceWarning)\n",
      "/home/pirl/anaconda3/lib/python3.7/site-packages/sklearn/neural_network/multilayer_perceptron.py:566: ConvergenceWarning: Stochastic Optimizer: Maximum iterations (200) reached and the optimization hasn't converged yet.\n",
      "  % self.max_iter, ConvergenceWarning)\n",
      "/home/pirl/anaconda3/lib/python3.7/site-packages/sklearn/neural_network/multilayer_perceptron.py:566: ConvergenceWarning: Stochastic Optimizer: Maximum iterations (200) reached and the optimization hasn't converged yet.\n",
      "  % self.max_iter, ConvergenceWarning)\n",
      "/home/pirl/anaconda3/lib/python3.7/site-packages/sklearn/neural_network/multilayer_perceptron.py:566: ConvergenceWarning: Stochastic Optimizer: Maximum iterations (200) reached and the optimization hasn't converged yet.\n",
      "  % self.max_iter, ConvergenceWarning)\n",
      "/home/pirl/anaconda3/lib/python3.7/site-packages/sklearn/neural_network/multilayer_perceptron.py:566: ConvergenceWarning: Stochastic Optimizer: Maximum iterations (200) reached and the optimization hasn't converged yet.\n",
      "  % self.max_iter, ConvergenceWarning)\n",
      "/home/pirl/anaconda3/lib/python3.7/site-packages/sklearn/neural_network/multilayer_perceptron.py:566: ConvergenceWarning: Stochastic Optimizer: Maximum iterations (200) reached and the optimization hasn't converged yet.\n",
      "  % self.max_iter, ConvergenceWarning)\n",
      "/home/pirl/anaconda3/lib/python3.7/site-packages/sklearn/neural_network/multilayer_perceptron.py:566: ConvergenceWarning: Stochastic Optimizer: Maximum iterations (200) reached and the optimization hasn't converged yet.\n",
      "  % self.max_iter, ConvergenceWarning)\n"
     ]
    },
    {
     "data": {
      "text/html": [
       "<div>\n",
       "<style scoped>\n",
       "    .dataframe tbody tr th:only-of-type {\n",
       "        vertical-align: middle;\n",
       "    }\n",
       "\n",
       "    .dataframe tbody tr th {\n",
       "        vertical-align: top;\n",
       "    }\n",
       "\n",
       "    .dataframe thead th {\n",
       "        text-align: right;\n",
       "    }\n",
       "</style>\n",
       "<table border=\"1\" class=\"dataframe\">\n",
       "  <thead>\n",
       "    <tr style=\"text-align: right;\">\n",
       "      <th></th>\n",
       "      <th>HiddenLayer</th>\n",
       "      <th>TrainAccuracy</th>\n",
       "      <th>TestAccuracy</th>\n",
       "    </tr>\n",
       "  </thead>\n",
       "  <tbody>\n",
       "    <tr>\n",
       "      <td>0</td>\n",
       "      <td>20</td>\n",
       "      <td>0.909</td>\n",
       "      <td>0.904</td>\n",
       "    </tr>\n",
       "    <tr>\n",
       "      <td>1</td>\n",
       "      <td>40</td>\n",
       "      <td>0.910</td>\n",
       "      <td>0.912</td>\n",
       "    </tr>\n",
       "    <tr>\n",
       "      <td>2</td>\n",
       "      <td>60</td>\n",
       "      <td>0.910</td>\n",
       "      <td>0.908</td>\n",
       "    </tr>\n",
       "    <tr>\n",
       "      <td>3</td>\n",
       "      <td>80</td>\n",
       "      <td>0.907</td>\n",
       "      <td>0.904</td>\n",
       "    </tr>\n",
       "    <tr>\n",
       "      <td>4</td>\n",
       "      <td>100</td>\n",
       "      <td>0.910</td>\n",
       "      <td>0.909</td>\n",
       "    </tr>\n",
       "    <tr>\n",
       "      <td>5</td>\n",
       "      <td>120</td>\n",
       "      <td>0.129</td>\n",
       "      <td>0.123</td>\n",
       "    </tr>\n",
       "    <tr>\n",
       "      <td>6</td>\n",
       "      <td>140</td>\n",
       "      <td>0.910</td>\n",
       "      <td>0.909</td>\n",
       "    </tr>\n",
       "    <tr>\n",
       "      <td>7</td>\n",
       "      <td>160</td>\n",
       "      <td>0.910</td>\n",
       "      <td>0.909</td>\n",
       "    </tr>\n",
       "  </tbody>\n",
       "</table>\n",
       "</div>"
      ],
      "text/plain": [
       "   HiddenLayer  TrainAccuracy  TestAccuracy\n",
       "0           20          0.909         0.904\n",
       "1           40          0.910         0.912\n",
       "2           60          0.910         0.908\n",
       "3           80          0.907         0.904\n",
       "4          100          0.910         0.909\n",
       "5          120          0.129         0.123\n",
       "6          140          0.910         0.909\n",
       "7          160          0.910         0.909"
      ]
     },
     "execution_count": 22,
     "metadata": {},
     "output_type": "execute_result"
    }
   ],
   "source": [
    "# 152쪽\n",
    "# hidden layer: 은닉층 변경\n",
    "# train 및 test 정확도 결과 저장용\n",
    "train_accuracy=[]\n",
    "test_accuracy=[]\n",
    "\n",
    "# hidden_layer_sizes: 은닉층 변경\n",
    "para_hidden=[20*hidden for hidden in range(1,9)]\n",
    "\n",
    "for v_hidden in para_hidden:\n",
    "    nn=MLPClassifier(hidden_layer_sizes=v_hidden, random_state=1234)\n",
    "    \n",
    "# nn=MLPClassifier(hidden_layer_sizes=(v_hidden, v_hidden), random_state=1234)\n",
    "    nn.fit(df_train_x, df_train_y)\n",
    "    train_accuracy.append(nn.score(df_train_x, df_train_y))\n",
    "    test_accuracy.append(nn.score(df_test_x, df_test_y))\n",
    "    \n",
    "# 데이터 테이블로 저장\n",
    "df_accuracy_hidden=pd.DataFrame()\n",
    "df_accuracy_hidden[\"HiddenLayer\"]=para_hidden\n",
    "df_accuracy_hidden[\"TrainAccuracy\"]=train_accuracy\n",
    "df_accuracy_hidden[\"TestAccuracy\"]=test_accuracy\n",
    "\n",
    "# 은닉층별 정화곧 테이블\n",
    "df_accuracy_hidden.round(3)"
   ]
  },
  {
   "cell_type": "code",
   "execution_count": 23,
   "metadata": {},
   "outputs": [
    {
     "data": {
      "text/plain": [
       "<matplotlib.legend.Legend at 0x7ff8540b5910>"
      ]
     },
     "execution_count": 23,
     "metadata": {},
     "output_type": "execute_result"
    },
    {
     "data": {
      "image/png": "[encoded data removed]",
      "text/plain": [
       "<Figure size 432x288 with 1 Axes>"
      ]
     },
     "metadata": {
      "needs_background": "light"
     },
     "output_type": "display_data"
    }
   ],
   "source": [
    "#153쪽\n",
    "# 모델 정확도 그래프 확인\n",
    "plt.plot(para_hidden, train_accuracy, linestyle=\"-\", label=\"Train Accuracy\")\n",
    "plt.plot(para_hidden, test_accuracy, linestyle=\"--\", label=\"Test Accuracy\")\n",
    "plt.ylabel(\"accuracy\")\n",
    "plt.xlabel(\"Hidden Layer\")\n",
    "plt.legend()"
   ]
  },
  {
   "cell_type": "code",
   "execution_count": 25,
   "metadata": {},
   "outputs": [
    {
     "name": "stderr",
     "output_type": "stream",
     "text": [
      "/home/pirl/anaconda3/lib/python3.7/site-packages/sklearn/neural_network/multilayer_perceptron.py:566: ConvergenceWarning: Stochastic Optimizer: Maximum iterations (200) reached and the optimization hasn't converged yet.\n",
      "  % self.max_iter, ConvergenceWarning)\n"
     ]
    },
    {
     "data": {
      "text/html": [
       "<div>\n",
       "<style scoped>\n",
       "    .dataframe tbody tr th:only-of-type {\n",
       "        vertical-align: middle;\n",
       "    }\n",
       "\n",
       "    .dataframe tbody tr th {\n",
       "        vertical-align: top;\n",
       "    }\n",
       "\n",
       "    .dataframe thead th {\n",
       "        text-align: right;\n",
       "    }\n",
       "</style>\n",
       "<table border=\"1\" class=\"dataframe\">\n",
       "  <thead>\n",
       "    <tr style=\"text-align: right;\">\n",
       "      <th></th>\n",
       "      <th>ActivationFunction</th>\n",
       "      <th>TrainAccuracy</th>\n",
       "      <th>TestAccuracy</th>\n",
       "    </tr>\n",
       "  </thead>\n",
       "  <tbody>\n",
       "    <tr>\n",
       "      <td>0</td>\n",
       "      <td>logistic</td>\n",
       "      <td>0.908</td>\n",
       "      <td>0.908</td>\n",
       "    </tr>\n",
       "    <tr>\n",
       "      <td>1</td>\n",
       "      <td>tanh</td>\n",
       "      <td>0.908</td>\n",
       "      <td>0.908</td>\n",
       "    </tr>\n",
       "    <tr>\n",
       "      <td>2</td>\n",
       "      <td>relu</td>\n",
       "      <td>0.910</td>\n",
       "      <td>0.909</td>\n",
       "    </tr>\n",
       "  </tbody>\n",
       "</table>\n",
       "</div>"
      ],
      "text/plain": [
       "  ActivationFunction  TrainAccuracy  TestAccuracy\n",
       "0           logistic          0.908         0.908\n",
       "1               tanh          0.908         0.908\n",
       "2               relu          0.910         0.909"
      ]
     },
     "execution_count": 25,
     "metadata": {},
     "output_type": "execute_result"
    }
   ],
   "source": [
    "# 154쪽.\n",
    "# train 및 test 정확도 결과 저장용\n",
    "train_accuracy=[]\n",
    "test_accuracy=[]\n",
    "\n",
    "# activation 변경\n",
    "para_function=[\"logistic\", \"tanh\", \"relu\"]\n",
    "\n",
    "for v_function in para_function:\n",
    "    nn=MLPClassifier(activation=v_function, random_state=1234)\n",
    "    nn.fit(df_train_x, df_train_y)\n",
    "    train_accuracy.append(nn.score(df_train_x, df_train_y))\n",
    "    test_accuracy.append(nn.score(df_test_x, df_test_y))\n",
    "    \n",
    "# 데이터 테이블로 저장\n",
    "df_accuracy_function=pd.DataFrame()\n",
    "df_accuracy_function[\"ActivationFunction\"]=para_function\n",
    "df_accuracy_function[\"TrainAccuracy\"]=train_accuracy\n",
    "df_accuracy_function[\"TestAccuracy\"]=test_accuracy\n",
    "\n",
    "# activation function별 정확도 테이블\n",
    "df_accuracy_function.round(3)"
   ]
  },
  {
   "cell_type": "code",
   "execution_count": 28,
   "metadata": {},
   "outputs": [
    {
     "data": {
      "text/plain": [
       "<matplotlib.legend.Legend at 0x7ff84c846ed0>"
      ]
     },
     "execution_count": 28,
     "metadata": {},
     "output_type": "execute_result"
    },
    {
     "data": {
      "image/png": "[encoded data removed]",
      "text/plain": [
       "<Figure size 432x288 with 1 Axes>"
      ]
     },
     "metadata": {
      "needs_background": "light"
     },
     "output_type": "display_data"
    }
   ],
   "source": [
    "# 모델 정확도 그래프 확인\n",
    "plt.plot(para_function, train_accuracy, linestyle=\"-\", label=\"Train Accuracy\")\n",
    "plt.plot(para_function, test_accuracy, linestyle=\"--\", label=\"Test Accuracy\")\n",
    "plt.ylabel(\"accuracy\")\n",
    "plt.xlabel(\"Activation FUnction\")\n",
    "plt.legend()"
   ]
  },
  {
   "cell_type": "code",
   "execution_count": 29,
   "metadata": {},
   "outputs": [
    {
     "data": {
      "text/html": [
       "<div>\n",
       "<style scoped>\n",
       "    .dataframe tbody tr th:only-of-type {\n",
       "        vertical-align: middle;\n",
       "    }\n",
       "\n",
       "    .dataframe tbody tr th {\n",
       "        vertical-align: top;\n",
       "    }\n",
       "\n",
       "    .dataframe thead th {\n",
       "        text-align: right;\n",
       "    }\n",
       "</style>\n",
       "<table border=\"1\" class=\"dataframe\">\n",
       "  <thead>\n",
       "    <tr style=\"text-align: right;\">\n",
       "      <th></th>\n",
       "      <th>LOAN</th>\n",
       "      <th>MORTDUE</th>\n",
       "      <th>VALUE</th>\n",
       "      <th>YOJ</th>\n",
       "      <th>DEROG</th>\n",
       "      <th>DELINQ</th>\n",
       "      <th>CLAGE</th>\n",
       "      <th>NINQ</th>\n",
       "      <th>CLNO</th>\n",
       "      <th>DEBTINC</th>\n",
       "      <th>REASON_DebtCon</th>\n",
       "      <th>REASON_HomeImp</th>\n",
       "      <th>JOB_Mgr</th>\n",
       "      <th>JOB_Office</th>\n",
       "      <th>JOB_Other</th>\n",
       "      <th>JOB_ProfExe</th>\n",
       "      <th>JOB_Sales</th>\n",
       "      <th>JOB_Self</th>\n",
       "    </tr>\n",
       "  </thead>\n",
       "  <tbody>\n",
       "    <tr>\n",
       "      <td>0</td>\n",
       "      <td>-1.559587</td>\n",
       "      <td>-0.993626</td>\n",
       "      <td>-1.224910</td>\n",
       "      <td>-0.017563</td>\n",
       "      <td>-0.267462</td>\n",
       "      <td>-0.342558</td>\n",
       "      <td>-0.967342</td>\n",
       "      <td>-0.018776</td>\n",
       "      <td>-1.428350</td>\n",
       "      <td>0.356347</td>\n",
       "      <td>-1.548549</td>\n",
       "      <td>1.548549</td>\n",
       "      <td>-0.381873</td>\n",
       "      <td>-0.446497</td>\n",
       "      <td>1.207355</td>\n",
       "      <td>-0.574064</td>\n",
       "      <td>-0.131804</td>\n",
       "      <td>-0.189556</td>\n",
       "    </tr>\n",
       "    <tr>\n",
       "      <td>1</td>\n",
       "      <td>-1.550817</td>\n",
       "      <td>-1.039240</td>\n",
       "      <td>-1.174897</td>\n",
       "      <td>0.251809</td>\n",
       "      <td>-0.267462</td>\n",
       "      <td>-0.342558</td>\n",
       "      <td>-1.122053</td>\n",
       "      <td>-0.666629</td>\n",
       "      <td>-1.428350</td>\n",
       "      <td>0.329025</td>\n",
       "      <td>-1.548549</td>\n",
       "      <td>1.548549</td>\n",
       "      <td>-0.381873</td>\n",
       "      <td>-0.446497</td>\n",
       "      <td>1.207355</td>\n",
       "      <td>-0.574064</td>\n",
       "      <td>-0.131804</td>\n",
       "      <td>-0.189556</td>\n",
       "    </tr>\n",
       "    <tr>\n",
       "      <td>2</td>\n",
       "      <td>-1.506968</td>\n",
       "      <td>0.607570</td>\n",
       "      <td>0.260973</td>\n",
       "      <td>-0.960364</td>\n",
       "      <td>-0.267462</td>\n",
       "      <td>-0.342558</td>\n",
       "      <td>-1.094930</td>\n",
       "      <td>-0.666629</td>\n",
       "      <td>-0.905133</td>\n",
       "      <td>-0.303684</td>\n",
       "      <td>-1.548549</td>\n",
       "      <td>1.548549</td>\n",
       "      <td>-0.381873</td>\n",
       "      <td>2.239654</td>\n",
       "      <td>-0.828257</td>\n",
       "      <td>-0.574064</td>\n",
       "      <td>-0.131804</td>\n",
       "      <td>-0.189556</td>\n",
       "    </tr>\n",
       "    <tr>\n",
       "      <td>3</td>\n",
       "      <td>-1.498198</td>\n",
       "      <td>-0.897428</td>\n",
       "      <td>-1.093133</td>\n",
       "      <td>0.386495</td>\n",
       "      <td>-0.267462</td>\n",
       "      <td>-0.342558</td>\n",
       "      <td>-1.344679</td>\n",
       "      <td>-0.018776</td>\n",
       "      <td>-0.067985</td>\n",
       "      <td>0.493725</td>\n",
       "      <td>-1.548549</td>\n",
       "      <td>1.548549</td>\n",
       "      <td>2.618672</td>\n",
       "      <td>-0.446497</td>\n",
       "      <td>-0.828257</td>\n",
       "      <td>-0.574064</td>\n",
       "      <td>-0.131804</td>\n",
       "      <td>-0.189556</td>\n",
       "    </tr>\n",
       "    <tr>\n",
       "      <td>4</td>\n",
       "      <td>-1.498198</td>\n",
       "      <td>0.520156</td>\n",
       "      <td>0.191721</td>\n",
       "      <td>-0.690992</td>\n",
       "      <td>-0.267462</td>\n",
       "      <td>-0.342558</td>\n",
       "      <td>-1.060586</td>\n",
       "      <td>-0.666629</td>\n",
       "      <td>-0.905133</td>\n",
       "      <td>-0.531456</td>\n",
       "      <td>-1.548549</td>\n",
       "      <td>1.548549</td>\n",
       "      <td>-0.381873</td>\n",
       "      <td>2.239654</td>\n",
       "      <td>-0.828257</td>\n",
       "      <td>-0.574064</td>\n",
       "      <td>-0.131804</td>\n",
       "      <td>-0.189556</td>\n",
       "    </tr>\n",
       "  </tbody>\n",
       "</table>\n",
       "</div>"
      ],
      "text/plain": [
       "       LOAN   MORTDUE     VALUE       YOJ     DEROG    DELINQ     CLAGE  \\\n",
       "0 -1.559587 -0.993626 -1.224910 -0.017563 -0.267462 -0.342558 -0.967342   \n",
       "1 -1.550817 -1.039240 -1.174897  0.251809 -0.267462 -0.342558 -1.122053   \n",
       "2 -1.506968  0.607570  0.260973 -0.960364 -0.267462 -0.342558 -1.094930   \n",
       "3 -1.498198 -0.897428 -1.093133  0.386495 -0.267462 -0.342558 -1.344679   \n",
       "4 -1.498198  0.520156  0.191721 -0.690992 -0.267462 -0.342558 -1.060586   \n",
       "\n",
       "       NINQ      CLNO   DEBTINC  REASON_DebtCon  REASON_HomeImp   JOB_Mgr  \\\n",
       "0 -0.018776 -1.428350  0.356347       -1.548549        1.548549 -0.381873   \n",
       "1 -0.666629 -1.428350  0.329025       -1.548549        1.548549 -0.381873   \n",
       "2 -0.666629 -0.905133 -0.303684       -1.548549        1.548549 -0.381873   \n",
       "3 -0.018776 -0.067985  0.493725       -1.548549        1.548549  2.618672   \n",
       "4 -0.666629 -0.905133 -0.531456       -1.548549        1.548549 -0.381873   \n",
       "\n",
       "   JOB_Office  JOB_Other  JOB_ProfExe  JOB_Sales  JOB_Self  \n",
       "0   -0.446497   1.207355    -0.574064  -0.131804 -0.189556  \n",
       "1   -0.446497   1.207355    -0.574064  -0.131804 -0.189556  \n",
       "2    2.239654  -0.828257    -0.574064  -0.131804 -0.189556  \n",
       "3   -0.446497  -0.828257    -0.574064  -0.131804 -0.189556  \n",
       "4    2.239654  -0.828257    -0.574064  -0.131804 -0.189556  "
      ]
     },
     "execution_count": 29,
     "metadata": {},
     "output_type": "execute_result"
    }
   ],
   "source": [
    "# 156쪽\n",
    "# standardscaler 설명변수 scale 변경\n",
    "# 변수명 저장\n",
    "v_feature_name=df_train_x.columns\n",
    "\n",
    "# standardscaler 적용\n",
    "scaler=StandardScaler()\n",
    "df_scaled=scaler.fit_transform(df_raw_x)\n",
    "df_scaled=pd.DataFrame(df_scaled, columns=v_feature_name)\n",
    "df_scaled.head()"
   ]
  },
  {
   "cell_type": "code",
   "execution_count": 30,
   "metadata": {},
   "outputs": [
    {
     "name": "stdout",
     "output_type": "stream",
     "text": [
      "train data X size : (2623, 18)\n",
      "test data X size: (1125, 18)\n"
     ]
    }
   ],
   "source": [
    "# 데이터 분할\n",
    "df_scaled_train_x, df_scaled_test_x=train_test_split(df_scaled, test_size=0.3, random_state=1234)\n",
    "print(\"train data X size : {}\".format(df_scaled_train_x.shape))\n",
    "print(\"test data X size: {}\".format(df_scaled_test_x.shape))"
   ]
  },
  {
   "cell_type": "code",
   "execution_count": 31,
   "metadata": {},
   "outputs": [
    {
     "name": "stdout",
     "output_type": "stream",
     "text": [
      "Accuracy on training set: 0.971\n",
      "Accuracy on test set: 0.943\n"
     ]
    },
    {
     "name": "stderr",
     "output_type": "stream",
     "text": [
      "/home/pirl/anaconda3/lib/python3.7/site-packages/sklearn/neural_network/multilayer_perceptron.py:566: ConvergenceWarning: Stochastic Optimizer: Maximum iterations (200) reached and the optimization hasn't converged yet.\n",
      "  % self.max_iter, ConvergenceWarning)\n"
     ]
    }
   ],
   "source": [
    "# 157쪽\n",
    "# scale 조절 후 SVC 모델 재실행\n",
    "# scale이 조정된 데이터로 새로운 모델 생성\n",
    "nn_scaled=MLPClassifier(random_state=1234)\n",
    "nn_scaled.fit(df_scaled_train_x, df_train_y)\n",
    "\n",
    "# train set 정확도\n",
    "print(\"Accuracy on training set: {:.3f}\".format(nn_scaled.score(df_scaled_train_x, df_train_y)))\n",
    "\n",
    "# test set 정확도\n",
    "print(\"Accuracy on test set: {:.3f}\".format(nn_scaled.score(df_scaled_test_x, df_test_y)))"
   ]
  },
  {
   "cell_type": "code",
   "execution_count": 32,
   "metadata": {},
   "outputs": [
    {
     "name": "stderr",
     "output_type": "stream",
     "text": [
      "/home/pirl/anaconda3/lib/python3.7/site-packages/sklearn/neural_network/multilayer_perceptron.py:566: ConvergenceWarning: Stochastic Optimizer: Maximum iterations (200) reached and the optimization hasn't converged yet.\n",
      "  % self.max_iter, ConvergenceWarning)\n",
      "/home/pirl/anaconda3/lib/python3.7/site-packages/sklearn/neural_network/multilayer_perceptron.py:566: ConvergenceWarning: Stochastic Optimizer: Maximum iterations (200) reached and the optimization hasn't converged yet.\n",
      "  % self.max_iter, ConvergenceWarning)\n",
      "/home/pirl/anaconda3/lib/python3.7/site-packages/sklearn/neural_network/multilayer_perceptron.py:566: ConvergenceWarning: Stochastic Optimizer: Maximum iterations (200) reached and the optimization hasn't converged yet.\n",
      "  % self.max_iter, ConvergenceWarning)\n",
      "/home/pirl/anaconda3/lib/python3.7/site-packages/sklearn/neural_network/multilayer_perceptron.py:566: ConvergenceWarning: Stochastic Optimizer: Maximum iterations (200) reached and the optimization hasn't converged yet.\n",
      "  % self.max_iter, ConvergenceWarning)\n",
      "/home/pirl/anaconda3/lib/python3.7/site-packages/sklearn/neural_network/multilayer_perceptron.py:566: ConvergenceWarning: Stochastic Optimizer: Maximum iterations (200) reached and the optimization hasn't converged yet.\n",
      "  % self.max_iter, ConvergenceWarning)\n",
      "/home/pirl/anaconda3/lib/python3.7/site-packages/sklearn/neural_network/multilayer_perceptron.py:566: ConvergenceWarning: Stochastic Optimizer: Maximum iterations (200) reached and the optimization hasn't converged yet.\n",
      "  % self.max_iter, ConvergenceWarning)\n"
     ]
    }
   ],
   "source": [
    "# 158쪽\n",
    "# hidden layer: 은닉층 변경\n",
    "\n",
    "# train 및 test 정확도 결과 저장용\n",
    "train_accuracy=[]\n",
    "test_accuracy=[]\n",
    "\n",
    "# hidden_layer_size: 은닉층 변경\n",
    "para_hidden=[20*hidden for hidden in range(1,11)]\n",
    "\n",
    "for v_hidden in para_hidden:\n",
    "    # nn=MLPClassifier(hidden_layer_size=v_hidden, random_state=1234)\n",
    "    nn=MLPClassifier(hidden_layer_sizes=(v_hidden, v_hidden), random_state=1234)\n",
    "    nn.fit(df_scaled_train_x, df_train_y)\n",
    "    train_accuracy.append(nn.score(df_scaled_train_x, df_train_y))\n",
    "    test_accuracy.append(nn.score(df_scaled_test_x, df_test_y))\\\n",
    "    \n",
    "# 데이터 테이블로 저장\n",
    "df_accuracy_hidden=pd.DataFrame()\n",
    "df_accuracy_hidden[\"HiddenLayer\"]=para_hidden\n",
    "df_accuracy_hidden[\"TrainAccuracy\"]=train_accuracy\n",
    "df_accuracy_hidden[\"TestAccuracy\"]=test_accuracy"
   ]
  },
  {
   "cell_type": "code",
   "execution_count": 33,
   "metadata": {},
   "outputs": [
    {
     "data": {
      "text/plain": [
       "<matplotlib.legend.Legend at 0x7ff84c7aaa50>"
      ]
     },
     "execution_count": 33,
     "metadata": {},
     "output_type": "execute_result"
    },
    {
     "data": {
      "image/png": "[encoded data removed]",
      "text/plain": [
       "<Figure size 432x288 with 1 Axes>"
      ]
     },
     "metadata": {
      "needs_background": "light"
     },
     "output_type": "display_data"
    }
   ],
   "source": [
    "# 159쪽\n",
    "# hidden layer: 은닉층 변경 결과\n",
    "# 은닉층별 정확도 테이블\n",
    "df_accuracy_hidden.round(3)\n",
    "# 모델 정확도 그래프 확인\n",
    "plt.plot(para_hidden, train_accuracy, linestyle=\"-\", label=\"Train Accuracy\")\n",
    "plt.plot(para_hidden, test_accuracy, linestyle=\"--\", label=\"Test Accuracy\")\n",
    "plt.ylabel(\"accuracy\")\n",
    "plt.xlabel(\"Hidden Layer\")\n",
    "plt.legend()"
   ]
  },
  {
   "cell_type": "code",
   "execution_count": 34,
   "metadata": {},
   "outputs": [
    {
     "name": "stderr",
     "output_type": "stream",
     "text": [
      "/home/pirl/anaconda3/lib/python3.7/site-packages/sklearn/neural_network/multilayer_perceptron.py:566: ConvergenceWarning: Stochastic Optimizer: Maximum iterations (200) reached and the optimization hasn't converged yet.\n",
      "  % self.max_iter, ConvergenceWarning)\n",
      "/home/pirl/anaconda3/lib/python3.7/site-packages/sklearn/neural_network/multilayer_perceptron.py:566: ConvergenceWarning: Stochastic Optimizer: Maximum iterations (200) reached and the optimization hasn't converged yet.\n",
      "  % self.max_iter, ConvergenceWarning)\n",
      "/home/pirl/anaconda3/lib/python3.7/site-packages/sklearn/neural_network/multilayer_perceptron.py:566: ConvergenceWarning: Stochastic Optimizer: Maximum iterations (200) reached and the optimization hasn't converged yet.\n",
      "  % self.max_iter, ConvergenceWarning)\n"
     ]
    }
   ],
   "source": [
    "# 160쪽\n",
    "# activation 활성화 함수 변수\n",
    "\n",
    "# train 및 test 정확도 결과 저장용\n",
    "train_accuracy=[]\n",
    "test_accuracy=[]\n",
    "# activation 변경\n",
    "para_function=[\"logistic\", \"tanh\", \"relu\"]\n",
    "\n",
    "for v_function in para_function:\n",
    "    nn=MLPClassifier(activation=v_function, hidden_layer_sizes=(80,80), random_state=1234)\n",
    "    nn.fit(df_scaled_train_x, df_train_y)\n",
    "    train_accuracy.append(nn.score(df_scaled_train_x, df_train_y))\n",
    "    test_accuracy.append(nn.score(df_scaled_test_x, df_test_y))\n",
    "    \n",
    "# 데이터 테이블로 저장\n",
    "df_accuracy_function=pd.DataFrame()\n",
    "df_accuracy_function[\"ActivationFunction\"]=para_function\n",
    "df_accuracy_function[\"TrainAccuracy\"]=train_accuracy\n",
    "df_accuracy_function[\"TestAccuracy\"]=test_accuracy"
   ]
  },
  {
   "cell_type": "code",
   "execution_count": 35,
   "metadata": {},
   "outputs": [
    {
     "data": {
      "text/plain": [
       "<matplotlib.legend.Legend at 0x7ff84e9f55d0>"
      ]
     },
     "execution_count": 35,
     "metadata": {},
     "output_type": "execute_result"
    },
    {
     "data": {
      "image/png": "[encoded data removed]",
      "text/plain": [
       "<Figure size 432x288 with 1 Axes>"
      ]
     },
     "metadata": {
      "needs_background": "light"
     },
     "output_type": "display_data"
    }
   ],
   "source": [
    "# 161쪽\n",
    "# activation function 별 정확도 테이블\n",
    "df_accuracy_function.round(3)\n",
    "#Activation function별 정확도 그래프로 확인\n",
    "plt.plot(para_function, train_accuracy, linestyle=\"-\", label=\"Train Accuracy\")\n",
    "plt.plot(para_function, test_accuracy, linestyle=\"--\", label=\"Test Accuracy\")\n",
    "plt.ylabel(\"accuracy\")\n",
    "plt.xlabel(\"Activation Function\")\n",
    "plt.legend()"
   ]
  },
  {
   "cell_type": "code",
   "execution_count": 37,
   "metadata": {},
   "outputs": [
    {
     "name": "stderr",
     "output_type": "stream",
     "text": [
      "/home/pirl/anaconda3/lib/python3.7/site-packages/sklearn/neural_network/multilayer_perceptron.py:566: ConvergenceWarning: Stochastic Optimizer: Maximum iterations (200) reached and the optimization hasn't converged yet.\n",
      "  % self.max_iter, ConvergenceWarning)\n",
      "/home/pirl/anaconda3/lib/python3.7/site-packages/sklearn/neural_network/multilayer_perceptron.py:566: ConvergenceWarning: Stochastic Optimizer: Maximum iterations (200) reached and the optimization hasn't converged yet.\n",
      "  % self.max_iter, ConvergenceWarning)\n"
     ]
    }
   ],
   "source": [
    "# 162쪽\n",
    "# solver: 가중치 최적화 변경\n",
    "# train 및 test 정확도 결과 저장용\n",
    "train_accuracy=[]\n",
    "test_accuracy=[]\n",
    "# solver 변경\n",
    "para_solver=[\"lbfgs\", \"sgd\", \"adam\"]\n",
    "\n",
    "for v_solver in para_solver:\n",
    "    nn=MLPClassifier(solver=v_solver, activation=\"relu\", hidden_layer_sizes=(80,80), random_state=1234)\n",
    "    nn.fit(df_scaled_train_x, df_train_y)\n",
    "    train_accuracy.append(nn.score(df_scaled_train_x, df_train_y))\n",
    "    test_accuracy.append(nn.score(df_scaled_test_x, df_test_y))\n",
    "    \n",
    "# 데이터 테이블로 저장\n",
    "df_accuracy_solver=pd.DataFrame()\n",
    "df_accuracy_solver[\"Solver\"]=para_solver\n",
    "df_accuracy_solver[\"TrainAccuracy\"]=train_accuracy\n",
    "df_accuracy_solver[\"TestAccuracy\"]=test_accuracy\n"
   ]
  },
  {
   "cell_type": "code",
   "execution_count": 38,
   "metadata": {},
   "outputs": [
    {
     "data": {
      "text/plain": [
       "<matplotlib.legend.Legend at 0x7ff84e9555d0>"
      ]
     },
     "execution_count": 38,
     "metadata": {},
     "output_type": "execute_result"
    },
    {
     "data": {
      "image/png": "[encoded data removed]",
      "text/plain": [
       "<Figure size 432x288 with 1 Axes>"
      ]
     },
     "metadata": {
      "needs_background": "light"
     },
     "output_type": "display_data"
    }
   ],
   "source": [
    "# 163쪽\n",
    "# 새로운 MLPClassifier 모델 평가\n",
    "# Solver: 가중치 최적화 변경 결과\n",
    "\n",
    "# solver별 정확도 테이블\n",
    "df_accuracy_solver.round(3)\n",
    "\n",
    "# 정확도 그래프 표현\n",
    "plt.plot(para_solver, train_accuracy, linestyle=\"-\", label=\"Train Accuracy\")\n",
    "plt.plot(para_solver, test_accuracy, linestyle=\"--\", label=\"Test Accuracy\")\n",
    "plt.ylabel(\"accuracy\")\n",
    "plt.xlabel(\"Solver\")\n",
    "plt.legend()"
   ]
  },
  {
   "cell_type": "code",
   "execution_count": 39,
   "metadata": {},
   "outputs": [
    {
     "name": "stderr",
     "output_type": "stream",
     "text": [
      "/home/pirl/anaconda3/lib/python3.7/site-packages/sklearn/neural_network/multilayer_perceptron.py:566: ConvergenceWarning: Stochastic Optimizer: Maximum iterations (200) reached and the optimization hasn't converged yet.\n",
      "  % self.max_iter, ConvergenceWarning)\n",
      "/home/pirl/anaconda3/lib/python3.7/site-packages/sklearn/neural_network/multilayer_perceptron.py:566: ConvergenceWarning: Stochastic Optimizer: Maximum iterations (200) reached and the optimization hasn't converged yet.\n",
      "  % self.max_iter, ConvergenceWarning)\n",
      "/home/pirl/anaconda3/lib/python3.7/site-packages/sklearn/neural_network/multilayer_perceptron.py:566: ConvergenceWarning: Stochastic Optimizer: Maximum iterations (200) reached and the optimization hasn't converged yet.\n",
      "  % self.max_iter, ConvergenceWarning)\n",
      "/home/pirl/anaconda3/lib/python3.7/site-packages/sklearn/neural_network/multilayer_perceptron.py:566: ConvergenceWarning: Stochastic Optimizer: Maximum iterations (200) reached and the optimization hasn't converged yet.\n",
      "  % self.max_iter, ConvergenceWarning)\n"
     ]
    }
   ],
   "source": [
    "# 164쪽\n",
    "# 새로운 MLPClassifier 모델 평가\n",
    "# Mini Batch 변경\n",
    "\n",
    "# train 및 test 정확도 결과 저장용\n",
    "train_accuracy=[]\n",
    "test_accuracy=[]\n",
    "\n",
    "# mini batch 변경\n",
    "para_batch=[20*batch for batch in range(1,10)]\n",
    "\n",
    "for v_batch in para_batch:\n",
    "    nn=MLPClassifier(batch_size=v_batch, solver=\"adam\", activation=\"relu\",\n",
    "                    hidden_layer_sizes=(80,80), random_state=1234)\n",
    "    nn.fit(df_scaled_train_x, df_train_y)\n",
    "    train_accuracy.append(nn.score(df_scaled_train_x, df_train_y))\n",
    "    test_accuracy.append(nn.score(df_scaled_test_x, df_test_y))\n",
    "    \n",
    "# 데이터 테이블로 저장\n",
    "df_accuracy_batch=pd.DataFrame()\n",
    "df_accuracy_batch[\"Mini Batch\"]=para_batch\n",
    "df_accuracy_batch[\"TrainAccuracy\"]=train_accuracy\n",
    "df_accuracy_batch[\"TestAccuracy\"]=test_accuracy"
   ]
  },
  {
   "cell_type": "code",
   "execution_count": 40,
   "metadata": {},
   "outputs": [
    {
     "data": {
      "text/plain": [
       "<matplotlib.legend.Legend at 0x7ff84e926d90>"
      ]
     },
     "execution_count": 40,
     "metadata": {},
     "output_type": "execute_result"
    },
    {
     "data": {
      "image/png": "[encoded data removed]",
      "text/plain": [
       "<Figure size 432x288 with 1 Axes>"
      ]
     },
     "metadata": {
      "needs_background": "light"
     },
     "output_type": "display_data"
    }
   ],
   "source": [
    "# 165쪽\n",
    "# 새로운 MLPClassifier 모델 평가\n",
    "# Mini Batch 변경 결과\n",
    "\n",
    "# Mini Batch Size별 정확도 테이블\n",
    "df_accuracy_batch.round(3)\n",
    "\n",
    "# 정확도 그래프 표현\n",
    "plt.plot(para_batch, train_accuracy, linestyle=\"-\", label=\"Train Accuracy\")\n",
    "plt.plot(para_batch, test_accuracy, linestyle=\"--\", label=\"Test Accuracy\")\n",
    "plt.ylabel(\"accuracy\")\n",
    "plt.xlabel(\"MIni Batch Size\")\n",
    "plt.legend()"
   ]
  },
  {
   "cell_type": "code",
   "execution_count": 41,
   "metadata": {},
   "outputs": [
    {
     "name": "stdout",
     "output_type": "stream",
     "text": [
      "Accuracy on training set: 1.000\n",
      "Accuracy on test set: 0.952\n",
      "\n",
      "COnfusion matrix: \n",
      "[[1018    3]\n",
      " [  51   53]]\n"
     ]
    }
   ],
   "source": [
    "# 166쪽\n",
    "# 결론 도출\n",
    "# 최종 모델 선택\n",
    "\n",
    "nn_final=MLPClassifier(hidden_layer_sizes=(80,80), activation=\"relu\", solver=\"adam\",\n",
    "                       batch_size=100, random_state=1234)\n",
    "nn_final.fit(df_scaled_train_x, df_train_y)\n",
    "\n",
    "# 평가\n",
    "y_pred=nn_final.predict(df_scaled_test_x)\n",
    "# train 데이터 셋 정확도\n",
    "print(\"Accuracy on training set: {:.3f}\".format(nn_final.score(df_scaled_train_x, df_train_y)))\n",
    "# test 데이터 셋 정확도\n",
    "print(\"Accuracy on test set: {:.3f}\\n\".format(nn_final.score(df_scaled_test_x, df_test_y)))\n",
    "# confusion matrix\n",
    "print(\"COnfusion matrix: \\n{}\".format(confusion_matrix(df_test_y, y_pred)))"
   ]
  },
  {
   "cell_type": "code",
   "execution_count": 43,
   "metadata": {},
   "outputs": [],
   "source": [
    "import pandas as pd\n",
    "\n",
    "import matplotlib.pyplot as plt\n",
    "import matplotlib\n",
    "\n",
    "from sklearn.preprocessing import StandardScaler\n",
    "from sklearn.model_selection import train_test_split\n",
    "\n",
    "from sklearn.neighbors import KNeighborsClassifier\n",
    "\n",
    "from sklearn.model_selection import GridSearchCV\n",
    "\n",
    "from sklearn.metrics import confusion_matrix"
   ]
  },
  {
   "cell_type": "code",
   "execution_count": 44,
   "metadata": {},
   "outputs": [
    {
     "data": {
      "text/html": [
       "<div>\n",
       "<style scoped>\n",
       "    .dataframe tbody tr th:only-of-type {\n",
       "        vertical-align: middle;\n",
       "    }\n",
       "\n",
       "    .dataframe tbody tr th {\n",
       "        vertical-align: top;\n",
       "    }\n",
       "\n",
       "    .dataframe thead th {\n",
       "        text-align: right;\n",
       "    }\n",
       "</style>\n",
       "<table border=\"1\" class=\"dataframe\">\n",
       "  <thead>\n",
       "    <tr style=\"text-align: right;\">\n",
       "      <th></th>\n",
       "      <th>BAD</th>\n",
       "      <th>LOAN</th>\n",
       "      <th>MORTDUE</th>\n",
       "      <th>VALUE</th>\n",
       "      <th>REASON</th>\n",
       "      <th>JOB</th>\n",
       "      <th>YOJ</th>\n",
       "      <th>DEROG</th>\n",
       "      <th>DELINQ</th>\n",
       "      <th>CLAGE</th>\n",
       "      <th>NINQ</th>\n",
       "      <th>CLNO</th>\n",
       "      <th>DEBTINC</th>\n",
       "    </tr>\n",
       "  </thead>\n",
       "  <tbody>\n",
       "    <tr>\n",
       "      <td>0</td>\n",
       "      <td>1</td>\n",
       "      <td>1700</td>\n",
       "      <td>30548</td>\n",
       "      <td>40320.0</td>\n",
       "      <td>HomeImp</td>\n",
       "      <td>Other</td>\n",
       "      <td>9.0</td>\n",
       "      <td>0</td>\n",
       "      <td>0.0</td>\n",
       "      <td>101.466002</td>\n",
       "      <td>1.0</td>\n",
       "      <td>8</td>\n",
       "      <td>37.113614</td>\n",
       "    </tr>\n",
       "    <tr>\n",
       "      <td>1</td>\n",
       "      <td>1</td>\n",
       "      <td>1800</td>\n",
       "      <td>28502</td>\n",
       "      <td>43034.0</td>\n",
       "      <td>HomeImp</td>\n",
       "      <td>Other</td>\n",
       "      <td>11.0</td>\n",
       "      <td>0</td>\n",
       "      <td>0.0</td>\n",
       "      <td>88.766030</td>\n",
       "      <td>0.0</td>\n",
       "      <td>8</td>\n",
       "      <td>36.884894</td>\n",
       "    </tr>\n",
       "    <tr>\n",
       "      <td>2</td>\n",
       "      <td>0</td>\n",
       "      <td>2300</td>\n",
       "      <td>102370</td>\n",
       "      <td>120953.0</td>\n",
       "      <td>HomeImp</td>\n",
       "      <td>Office</td>\n",
       "      <td>2.0</td>\n",
       "      <td>0</td>\n",
       "      <td>0.0</td>\n",
       "      <td>90.992533</td>\n",
       "      <td>0.0</td>\n",
       "      <td>13</td>\n",
       "      <td>31.588503</td>\n",
       "    </tr>\n",
       "    <tr>\n",
       "      <td>3</td>\n",
       "      <td>1</td>\n",
       "      <td>2400</td>\n",
       "      <td>34863</td>\n",
       "      <td>47471.0</td>\n",
       "      <td>HomeImp</td>\n",
       "      <td>Mgr</td>\n",
       "      <td>12.0</td>\n",
       "      <td>0</td>\n",
       "      <td>0.0</td>\n",
       "      <td>70.491080</td>\n",
       "      <td>1.0</td>\n",
       "      <td>21</td>\n",
       "      <td>38.263601</td>\n",
       "    </tr>\n",
       "    <tr>\n",
       "      <td>4</td>\n",
       "      <td>0</td>\n",
       "      <td>2400</td>\n",
       "      <td>98449</td>\n",
       "      <td>117195.0</td>\n",
       "      <td>HomeImp</td>\n",
       "      <td>Office</td>\n",
       "      <td>4.0</td>\n",
       "      <td>0</td>\n",
       "      <td>0.0</td>\n",
       "      <td>93.811775</td>\n",
       "      <td>0.0</td>\n",
       "      <td>13</td>\n",
       "      <td>29.681827</td>\n",
       "    </tr>\n",
       "  </tbody>\n",
       "</table>\n",
       "</div>"
      ],
      "text/plain": [
       "   BAD  LOAN  MORTDUE     VALUE   REASON     JOB   YOJ  DEROG  DELINQ  \\\n",
       "0    1  1700    30548   40320.0  HomeImp   Other   9.0      0     0.0   \n",
       "1    1  1800    28502   43034.0  HomeImp   Other  11.0      0     0.0   \n",
       "2    0  2300   102370  120953.0  HomeImp  Office   2.0      0     0.0   \n",
       "3    1  2400    34863   47471.0  HomeImp     Mgr  12.0      0     0.0   \n",
       "4    0  2400    98449  117195.0  HomeImp  Office   4.0      0     0.0   \n",
       "\n",
       "        CLAGE  NINQ  CLNO    DEBTINC  \n",
       "0  101.466002   1.0     8  37.113614  \n",
       "1   88.766030   0.0     8  36.884894  \n",
       "2   90.992533   0.0    13  31.588503  \n",
       "3   70.491080   1.0    21  38.263601  \n",
       "4   93.811775   0.0    13  29.681827  "
      ]
     },
     "execution_count": 44,
     "metadata": {},
     "output_type": "execute_result"
    }
   ],
   "source": [
    "# 데이터 불러오기\n",
    "df_raw=pd.read_csv(\"HMEQ.csv\", engine=\"python\")\n",
    "df_raw.head()"
   ]
  },
  {
   "cell_type": "code",
   "execution_count": 45,
   "metadata": {},
   "outputs": [
    {
     "data": {
      "text/plain": [
       "BAD          0\n",
       "LOAN         0\n",
       "MORTDUE      0\n",
       "VALUE       14\n",
       "REASON       0\n",
       "JOB         81\n",
       "YOJ        205\n",
       "DEROG        0\n",
       "DELINQ      30\n",
       "CLAGE       37\n",
       "NINQ        56\n",
       "CLNO         0\n",
       "DEBTINC      0\n",
       "dtype: int64"
      ]
     },
     "execution_count": 45,
     "metadata": {},
     "output_type": "execute_result"
    }
   ],
   "source": [
    "# 데이터 전처리\n",
    "# 결측치 확인\n",
    "df_raw.isnull().sum(axis=0)"
   ]
  },
  {
   "cell_type": "code",
   "execution_count": 46,
   "metadata": {},
   "outputs": [],
   "source": [
    "# fillna:결측치 대체 함수\n",
    "\n",
    "# job 변수의 결측치는 other로 대체, inplace: fillna 함수 적용 후 df_Raw 데이터에 저장, false면 저장 안함\n",
    "df_raw[\"JOB\"].fillna(\"Other\", inplace=True)\n",
    "\n",
    "# 숫자형 변수의 결측치는 해당 변수의 평균값 입력: df_raw.mean() 각 변수별 평균 계산 후 결측치 대체\n",
    "df_raw.fillna(df_raw.mean(), inplace=True)"
   ]
  },
  {
   "cell_type": "code",
   "execution_count": 47,
   "metadata": {},
   "outputs": [
    {
     "data": {
      "text/plain": [
       "BAD               0\n",
       "LOAN              0\n",
       "MORTDUE           0\n",
       "VALUE             0\n",
       "YOJ               0\n",
       "DEROG             0\n",
       "DELINQ            0\n",
       "CLAGE             0\n",
       "NINQ              0\n",
       "CLNO              0\n",
       "DEBTINC           0\n",
       "REASON_DebtCon    0\n",
       "REASON_HomeImp    0\n",
       "JOB_Mgr           0\n",
       "JOB_Office        0\n",
       "JOB_Other         0\n",
       "JOB_ProfExe       0\n",
       "JOB_Sales         0\n",
       "JOB_Self          0\n",
       "dtype: int64"
      ]
     },
     "execution_count": 47,
     "metadata": {},
     "output_type": "execute_result"
    }
   ],
   "source": [
    "# 데이터 구성-더미변수 생성\n",
    "# get_dummies: 데이터와 문자형 변수에 대한 더미변수 생성\n",
    "df_raw_dummy=pd.get_dummies(df_raw)\n",
    "\n",
    "# 더미변수 생성된 데이터의 상위 5개 row를 확인\n",
    "df_raw_dummy.head()\n",
    "df_raw_dummy.isnull().sum(axis=0)"
   ]
  },
  {
   "cell_type": "code",
   "execution_count": 48,
   "metadata": {},
   "outputs": [
    {
     "data": {
      "text/plain": [
       "BAD               0\n",
       "LOAN              0\n",
       "MORTDUE           0\n",
       "VALUE             0\n",
       "YOJ               0\n",
       "DEROG             0\n",
       "DELINQ            0\n",
       "CLAGE             0\n",
       "NINQ              0\n",
       "CLNO              0\n",
       "DEBTINC           0\n",
       "REASON_DebtCon    0\n",
       "REASON_HomeImp    0\n",
       "JOB_Mgr           0\n",
       "JOB_Office        0\n",
       "JOB_Other         0\n",
       "JOB_ProfExe       0\n",
       "JOB_Sales         0\n",
       "JOB_Self          0\n",
       "dtype: int64"
      ]
     },
     "execution_count": 48,
     "metadata": {},
     "output_type": "execute_result"
    }
   ],
   "source": [
    "# 데이터 구성-더미변수 생성\n",
    "# get_dummies: 데이터와 문자형 변수에 대한 더미변수 생성\n",
    "df_raw_dummy=pd.get_dummies(df_raw)\n",
    "\n",
    "# 더미변수 생성된 데이터의 상위 5개 row를 확인\n",
    "df_raw_dummy.head()\n",
    "df_raw_dummy.isnull().sum(axis=0)"
   ]
  },
  {
   "cell_type": "code",
   "execution_count": 49,
   "metadata": {},
   "outputs": [
    {
     "name": "stdout",
     "output_type": "stream",
     "text": [
      "train data X size : (2623, 18)\n",
      "train data Y size : (2623,)\n",
      "test data X size : (1125, 18)\n",
      "test data Y size : (1125,)\n"
     ]
    }
   ],
   "source": [
    "# 목표변수, 설명변수 데이터 지정\n",
    "df_raw_y=df_raw_dummy[\"BAD\"]\n",
    "df_raw_x=df_raw_dummy.drop(\"BAD\", axis=1, inplace=False)\n",
    "\n",
    "#train_test_split(x: 설명변수 데이터, y: 목표변수 데이터, test_size=test 데이터 비율, random_state: random seed)\n",
    "df_train_x, df_test_x, df_train_y, df_test_y=train_test_split(df_raw_x, df_raw_y, test_size=0.3, random_state=1234)\n",
    "print(\"train data X size : {}\".format(df_train_x.shape))\n",
    "print(\"train data Y size : {}\".format(df_train_y.shape))\n",
    "print(\"test data X size : {}\".format(df_test_x.shape))\n",
    "print(\"test data Y size : {}\".format(df_test_y.shape))\n"
   ]
  },
  {
   "cell_type": "code",
   "execution_count": 51,
   "metadata": {},
   "outputs": [
    {
     "name": "stdout",
     "output_type": "stream",
     "text": [
      "Accuracy on training set: 0.916\n",
      "Accuracy on test set: 0.908\n"
     ]
    }
   ],
   "source": [
    "# 176쪽\n",
    "# 기본 옵션으로 모델 생성\n",
    "# knn 모델 생성\n",
    "knn_uncustomized=KNeighborsClassifier()\n",
    "knn_uncustomized.fit(df_train_x, df_train_y)\n",
    "\n",
    "# train 데이터 셋 정확도\n",
    "print(\"Accuracy on training set: {:.3f}\".format(knn_uncustomized.score(df_train_x, df_train_y)))\n",
    "\n",
    "# test set 정확도\n",
    "print(\"Accuracy on test set: {:.3f}\".format(knn_uncustomized.score(df_test_x, df_test_y)))"
   ]
  },
  {
   "cell_type": "code",
   "execution_count": 56,
   "metadata": {},
   "outputs": [
    {
     "data": {
      "text/html": [
       "<div>\n",
       "<style scoped>\n",
       "    .dataframe tbody tr th:only-of-type {\n",
       "        vertical-align: middle;\n",
       "    }\n",
       "\n",
       "    .dataframe tbody tr th {\n",
       "        vertical-align: top;\n",
       "    }\n",
       "\n",
       "    .dataframe thead th {\n",
       "        text-align: right;\n",
       "    }\n",
       "</style>\n",
       "<table border=\"1\" class=\"dataframe\">\n",
       "  <thead>\n",
       "    <tr style=\"text-align: right;\">\n",
       "      <th></th>\n",
       "      <th>Neighbors</th>\n",
       "      <th>TrainAccuracy</th>\n",
       "      <th>TestAccuracy</th>\n",
       "    </tr>\n",
       "  </thead>\n",
       "  <tbody>\n",
       "    <tr>\n",
       "      <td>0</td>\n",
       "      <td>1</td>\n",
       "      <td>1.000</td>\n",
       "      <td>0.877</td>\n",
       "    </tr>\n",
       "    <tr>\n",
       "      <td>1</td>\n",
       "      <td>2</td>\n",
       "      <td>0.928</td>\n",
       "      <td>0.912</td>\n",
       "    </tr>\n",
       "    <tr>\n",
       "      <td>2</td>\n",
       "      <td>3</td>\n",
       "      <td>0.929</td>\n",
       "      <td>0.913</td>\n",
       "    </tr>\n",
       "    <tr>\n",
       "      <td>3</td>\n",
       "      <td>4</td>\n",
       "      <td>0.916</td>\n",
       "      <td>0.914</td>\n",
       "    </tr>\n",
       "    <tr>\n",
       "      <td>4</td>\n",
       "      <td>5</td>\n",
       "      <td>0.916</td>\n",
       "      <td>0.908</td>\n",
       "    </tr>\n",
       "    <tr>\n",
       "      <td>5</td>\n",
       "      <td>6</td>\n",
       "      <td>0.913</td>\n",
       "      <td>0.911</td>\n",
       "    </tr>\n",
       "    <tr>\n",
       "      <td>6</td>\n",
       "      <td>7</td>\n",
       "      <td>0.913</td>\n",
       "      <td>0.912</td>\n",
       "    </tr>\n",
       "    <tr>\n",
       "      <td>7</td>\n",
       "      <td>8</td>\n",
       "      <td>0.910</td>\n",
       "      <td>0.912</td>\n",
       "    </tr>\n",
       "    <tr>\n",
       "      <td>8</td>\n",
       "      <td>9</td>\n",
       "      <td>0.911</td>\n",
       "      <td>0.913</td>\n",
       "    </tr>\n",
       "    <tr>\n",
       "      <td>9</td>\n",
       "      <td>10</td>\n",
       "      <td>0.909</td>\n",
       "      <td>0.910</td>\n",
       "    </tr>\n",
       "    <tr>\n",
       "      <td>10</td>\n",
       "      <td>11</td>\n",
       "      <td>0.909</td>\n",
       "      <td>0.910</td>\n",
       "    </tr>\n",
       "    <tr>\n",
       "      <td>11</td>\n",
       "      <td>12</td>\n",
       "      <td>0.909</td>\n",
       "      <td>0.910</td>\n",
       "    </tr>\n",
       "    <tr>\n",
       "      <td>12</td>\n",
       "      <td>13</td>\n",
       "      <td>0.910</td>\n",
       "      <td>0.910</td>\n",
       "    </tr>\n",
       "    <tr>\n",
       "      <td>13</td>\n",
       "      <td>14</td>\n",
       "      <td>0.909</td>\n",
       "      <td>0.909</td>\n",
       "    </tr>\n",
       "    <tr>\n",
       "      <td>14</td>\n",
       "      <td>15</td>\n",
       "      <td>0.910</td>\n",
       "      <td>0.909</td>\n",
       "    </tr>\n",
       "  </tbody>\n",
       "</table>\n",
       "</div>"
      ],
      "text/plain": [
       "    Neighbors  TrainAccuracy  TestAccuracy\n",
       "0           1          1.000         0.877\n",
       "1           2          0.928         0.912\n",
       "2           3          0.929         0.913\n",
       "3           4          0.916         0.914\n",
       "4           5          0.916         0.908\n",
       "5           6          0.913         0.911\n",
       "6           7          0.913         0.912\n",
       "7           8          0.910         0.912\n",
       "8           9          0.911         0.913\n",
       "9          10          0.909         0.910\n",
       "10         11          0.909         0.910\n",
       "11         12          0.909         0.910\n",
       "12         13          0.910         0.910\n",
       "13         14          0.909         0.909\n",
       "14         15          0.910         0.909"
      ]
     },
     "execution_count": 56,
     "metadata": {},
     "output_type": "execute_result"
    }
   ],
   "source": [
    "# 177쪽\n",
    "# 모델 생성\n",
    "# 이웃 수 증가에 따른 정확도 변화\n",
    "\n",
    "# train 및 test 정확도 결과 저장용\n",
    "train_accuracy=[]\n",
    "test_accuracy=[]\n",
    "\n",
    "# 최대 이웃 수: 1-15\n",
    "para_n_neighbors=[i for i in range(1,16)]\n",
    "\n",
    "\n",
    "for v_n_neighbors in para_n_neighbors:\n",
    "    knn=KNeighborsClassifier(n_neighbors=v_n_neighbors)\n",
    "    knn.fit(df_train_x, df_train_y)\n",
    "    train_accuracy.append(knn.score(df_train_x, df_train_y))\n",
    "    test_accuracy.append(knn.score(df_test_x, df_test_y))\n",
    "    \n",
    "# 데이터 테이블로 저장\n",
    "df_accuracy_neighbors=pd.DataFrame()\n",
    "df_accuracy_neighbors[\"Neighbors\"]=para_n_neighbors\n",
    "df_accuracy_neighbors[\"TrainAccuracy\"]=train_accuracy\n",
    "df_accuracy_neighbors[\"TestAccuracy\"]=test_accuracy\n",
    "df_accuracy_neighbors[\"TestAccuracy\"]=test_accuracy\n",
    "df_accuracy_neighbors.round(3)"
   ]
  },
  {
   "cell_type": "code",
   "execution_count": 57,
   "metadata": {},
   "outputs": [
    {
     "data": {
      "text/plain": [
       "<matplotlib.legend.Legend at 0x7ff84613b710>"
      ]
     },
     "execution_count": 57,
     "metadata": {},
     "output_type": "execute_result"
    },
    {
     "data": {
      "image/png": "[encoded data removed]",
      "text/plain": [
       "<Figure size 432x288 with 1 Axes>"
      ]
     },
     "metadata": {
      "needs_background": "light"
     },
     "output_type": "display_data"
    }
   ],
   "source": [
    "# 178쪽\n",
    "# 이웃 수 증가에 따른 정확도 변화\n",
    "# 모델 정확도 그래프 확인\n",
    "plt.plot(para_n_neighbors, train_accuracy, linestyle=\"-\", label=\"Train Accuracy\")\n",
    "plt.plot(para_n_neighbors, test_accuracy, linestyle=\"--\", label=\"Test Accuracy\")\n",
    "plt.ylabel(\"accuracy\")\n",
    "plt.xlabel(\"n_neighbors\")\n",
    "plt.legend()"
   ]
  },
  {
   "cell_type": "code",
   "execution_count": null,
   "metadata": {},
   "outputs": [],
   "source": [
    "# 179쪽\n",
    "# 가중치별 이웃 수 증가에 따른 정확도 변화\n",
    "\n",
    "# train 및 test 정확도 결과 저장용\n",
    "train_accuracy=[]\n",
    "test_accuracy=[]\n",
    "\n",
    "# 이웃 수\n",
    "para_n_neighbors=[i for i in range(1,11)]*2\n",
    "\n",
    "# 가중치\n",
    "para_weights=([\"uniform\"])*10+([\"distance\"]*10)\n",
    "\n",
    "for (v_n_neighbors, v_weights)"
   ]
  }
 ],
 "metadata": {
  "kernelspec": {
   "display_name": "Python 3",
   "language": "python",
   "name": "python3"
  },
  "language_info": {
   "codemirror_mode": {
    "name": "ipython",
    "version": 3
   },
   "file_extension": ".py",
   "mimetype": "text/x-python",
   "name": "python",
   "nbconvert_exporter": "python",
   "pygments_lexer": "ipython3",
   "version": "3.7.4"
  }
 },
 "nbformat": 4,
 "nbformat_minor": 2
}
