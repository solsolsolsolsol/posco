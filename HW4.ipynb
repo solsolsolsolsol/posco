{
 "cells": [
  {
   "cell_type": "markdown",
   "metadata": {},
   "source": [
    "### 실습1) 파일에 있는 각각의 단어 수 구하기"
   ]
  },
  {
   "cell_type": "code",
   "execution_count": 54,
   "metadata": {},
   "outputs": [
    {
     "name": "stdout",
     "output_type": "stream",
     "text": [
      "[('line', 3), ('first', 1), ('second', 1), ('third', 1)]\n"
     ]
    }
   ],
   "source": [
    "# 리스트로 읽어서 풀기\n",
    "\n",
    "f=open(\"test.txt\", \"r\")\n",
    "lines=f.readlines() #리스트로 읽음\n",
    "jlines=\"\".join(lines) #스트링으로 묶음\n",
    "slines=jlines.split() #띄어쓰기 간격으로 다시 리스트로 분리\n",
    "\n",
    "d={}\n",
    "for i in slines:\n",
    "    if i in d.keys():\n",
    "        d[i]+=1\n",
    "    else:\n",
    "        d[i]=1\n",
    "\n",
    "import operator\n",
    "print(sorted(d.items(), key=operator.itemgetter(1) , reverse=True))"
   ]
  },
  {
   "cell_type": "code",
   "execution_count": 59,
   "metadata": {},
   "outputs": [
    {
     "name": "stdout",
     "output_type": "stream",
     "text": [
      "first line\n",
      "second line\n",
      "third line\n",
      "['first', 'line', 'second', 'line', 'third', 'line']\n",
      "{'first': 1, 'line': 3, 'second': 1, 'third': 1}\n"
     ]
    }
   ],
   "source": [
    "# 문자열로 읽어서 풀기\n",
    "\n",
    "f=open(\"test.txt\", \"r\")\n",
    "data=f.read() #string으로 읽음\n",
    "sdata=data.split()\n",
    "\n",
    "d={}\n",
    "for i in sdata:\n",
    "    if i in d:\n",
    "        d[i]+=1\n",
    "    else:\n",
    "        d[i]=1\n",
    "print(d)"
   ]
  },
  {
   "cell_type": "markdown",
   "metadata": {},
   "source": [
    "### 실습2) 파일명을 입력 받아, 해당 파일을 한 줄씩 읽어 파일의 내용을 모두 대문자로 출력하는 프로그램을 작성하시오."
   ]
  },
  {
   "cell_type": "code",
   "execution_count": 73,
   "metadata": {},
   "outputs": [
    {
     "name": "stdout",
     "output_type": "stream",
     "text": [
      "Enter a file name: test.txt\n",
      "FIRST LINE\n",
      "\n",
      "SECOND LINE\n",
      "\n",
      "THIRD LINE\n",
      "\n"
     ]
    }
   ],
   "source": [
    "#한 줄씩 읽어서 해결\n",
    "filename=input(\"Enter a file name: \")\n",
    "f=open(filename, \"r\")\n",
    "while True:\n",
    "    line=f.readline()\n",
    "    uline=line.upper()\n",
    "    print(uline)\n",
    "    if line==\"\":\n",
    "        break\n",
    "f.close()"
   ]
  },
  {
   "cell_type": "code",
   "execution_count": 53,
   "metadata": {
    "scrolled": true
   },
   "outputs": [
    {
     "name": "stdout",
     "output_type": "stream",
     "text": [
      "Enter a file name: test.txt\n",
      "FIRST LINE\n",
      "SECOND LINE\n",
      "THIRD LINE\n"
     ]
    }
   ],
   "source": [
    "#한 번에 읽어서 해결\n",
    "filename=input(\"Enter a file name: \")\n",
    "f=open(filename, \"r\")\n",
    "data=f.read()\n",
    "up=data.upper()\n",
    "print(up)\n",
    "f.close()"
   ]
  },
  {
   "cell_type": "markdown",
   "metadata": {},
   "source": [
    "## 실습4) 아래의 score.txt를 읽어서 학생들의 성적을 처리하여 그 결과를 report.txt로 출력하는 프로그램을 작성하시오."
   ]
  },
  {
   "cell_type": "code",
   "execution_count": 76,
   "metadata": {},
   "outputs": [
    {
     "name": "stdout",
     "output_type": "stream",
     "text": [
      "201901 89 78 82(B)\n",
      "201902 76 84 80(B)\n",
      "201903 67 42 52(F)\n",
      "201904 66 88 79(C)\n",
      "201905 98 99 98(A)\n",
      "\n"
     ]
    }
   ],
   "source": [
    "f=open(\"score.txt\", \"r\")\n",
    "\n",
    "lines = f.readlines()\n",
    "for i in range(1, len(lines)+1):\n",
    "    \n",
    "    globals()['stu{}'.format(i)]=lines[i-1].split() # string에서 list로 변신\n",
    "\n",
    "    avg=0.4*int(globals()['stu{}'.format(i)][1])+0.6*int(globals()['stu{}'.format(i)][2])\n",
    "\n",
    "    if avg>=90:\n",
    "        grd='A'\n",
    "    elif avg>=80:\n",
    "        grd='B'\n",
    "    elif avg>=70:\n",
    "        grd='C'\n",
    "    elif avg>=60:\n",
    "        grd='D'\n",
    "    else:\n",
    "        grd='F'\n",
    "    \n",
    "    globals()['stu{}'.format(i)].append(\"%d(%s)\\n\" %(avg,grd)) #평균(학점) 생성 후 붙이기\n",
    "    globals()['sstu{}'.format(i)]=\" \".join(globals()['stu{}'.format(i)]) # 리스트를 스트링으로 바꾸기(파일쓰기를 위함)\n",
    "\n",
    "\n",
    "f=open(\"report.txt\", \"w\")\n",
    "\n",
    "for i in range(1, len(lines)+1):\n",
    "    f.write(globals()['sstu{}'.format(i)])\n",
    "\n",
    "f.close()\n",
    "\n",
    "f=open(\"report.txt\", \"r\")\n",
    "report=f.read()\n",
    "print(report)"
   ]
  },
  {
   "cell_type": "code",
   "execution_count": 77,
   "metadata": {},
   "outputs": [
    {
     "name": "stdout",
     "output_type": "stream",
     "text": [
      "['201901', '89', '78']\n"
     ]
    }
   ],
   "source": [
    "f=open(\"score.txt\", \"r\")\n",
    "\n",
    "\n",
    "line = f.readline() # 한 줄 읽기(스트링)\n",
    "sline=line.split() # 분리(리스트)\n",
    "print(sline) # "
   ]
  },
  {
   "cell_type": "code",
   "execution_count": null,
   "metadata": {},
   "outputs": [],
   "source": []
  }
 ],
 "metadata": {
  "kernelspec": {
   "display_name": "Python 3",
   "language": "python",
   "name": "python3"
  },
  "language_info": {
   "codemirror_mode": {
    "name": "ipython",
    "version": 3
   },
   "file_extension": ".py",
   "mimetype": "text/x-python",
   "name": "python",
   "nbconvert_exporter": "python",
   "pygments_lexer": "ipython3",
   "version": "3.7.4"
  }
 },
 "nbformat": 4,
 "nbformat_minor": 2
}
