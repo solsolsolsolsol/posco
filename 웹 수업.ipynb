{
 "cells": [
  {
   "cell_type": "code",
   "execution_count": null,
   "metadata": {},
   "outputs": [],
   "source": [
    "<html>\n",
    "  <head>\n",
    "    <title>PYSTOCK </title>\n",
    "  </head>\n",
    "  <body>\n",
    "  <table border=1>\n",
    "  <tr>\n",
    "    <th> 재무정보 </th>\n",
    "    <th> 2017 </th>\n",
    "    <th> 2018 </th>\n",
    "    <th> 2019 </th>\n",
    "  </tr>\n",
    "  <tr>\n",
    "    <td> 매출액 </td>\n",
    "    <td> 98,856 </td>\n",
    "    <td> 93,655 </td>\n",
    "    <td> 98,980 </td>\n",
    "  </tr>\n",
    "  \n",
    "  </body>\n",
    "</html>"
   ]
  },
  {
   "cell_type": "code",
   "execution_count": null,
   "metadata": {},
   "outputs": [],
   "source": [
    "html=\"\"\"\n",
    "<ul>\n",
    "<li> news </li>\n",
    "<li> fund </li>\n",
    "<li> dictionary </li>\n",
    "</ul>\n",
    "\"\"\"\n",
    "\n",
    "soup=BeautifulSoup(html, 'html5lib')\n",
    "result=soup.select(\"ul li\")\n",
    "print(result)\n",
    "\n",
    "for i in [html]:\n",
    "    print(i)\n",
    "    \n",
    "html='''\n",
    "<ul>\n",
    "    <li>1rytl</li>\n",
    "    <li>2rytl</li>\n",
    "</ul>\n",
    "\n",
    "<ol>\n",
    "    <li>3rytl</li>\n",
    "    <li>4rytl</li>\n",
    "</ol>"
   ]
  },
  {
   "cell_type": "code",
   "execution_count": null,
   "metadata": {},
   "outputs": [],
   "source": [
    "from bs4 import BeautifulSoup\n",
    "\n",
    "\n",
    "\n",
    "html='''\n",
    "<ul>\n",
    "    <li>1rytl</li>\n",
    "    <li>2rytl</li>\n",
    "</ul>\n",
    "\n",
    "<ol>\n",
    "    <li>3rytl</li>\n",
    "    <li>4rytl</li>\n",
    "</ol>'''\n",
    "\n",
    "soup=BeautifulSoup(html, 'html5lib')\n",
    "result=soup.select(\"ul li\")\n",
    "print(result)\n",
    "\n",
    "for i in result:\n",
    "    print(i.text)\n"
   ]
  },
  {
   "cell_type": "code",
   "execution_count": null,
   "metadata": {},
   "outputs": [],
   "source": [
    "import requests\n",
    "from bs4 import BeautifulSoup\n",
    "\n",
    "url=\"https://www.naver.com\"\n",
    "resp=requests.get(url)\n",
    "html=resp.text\n",
    "\n",
    "\n",
    "soup=BeautifulSoup(html, 'html5lib')\n",
    "result=soup.select(\"#PM_ID_serviceNavi > li:nth-of-type(4) > a > span.an_txt\")\n",
    "\n",
    "for r in result:\n",
    "    print(r.text)\n"
   ]
  },
  {
   "cell_type": "code",
   "execution_count": null,
   "metadata": {},
   "outputs": [],
   "source": [
    "import requests\n",
    "from bs4 import BeautifulSoup\n",
    "\n",
    "url=\"https://news.naver.com/\"\n",
    "resp=requests.get(url)\n",
    "html=resp.text\n",
    "\n",
    "\n",
    "soup=BeautifulSoup(html, 'html5lib')\n",
    "result=soup.select(\"#today_main_news > div.hdline_news > ul > li:nth-child(1) > div.hdline_article_tit > a\")\n",
    "result=soup.select(\"#today_main_news > div.hdline_news > ul > li:nth-child(2) > div.hdline_article_tit > a\")\n",
    "result=soup.select(\"#today_main_news > div.hdline_news > ul > li:nth-child(3) > div.hdline_article_tit > a\")\n",
    "result=soup.select(\"#today_main_news > div.hdline_news > ul > li > div.hdline_article_tit > a\")\n",
    "\n",
    "\n",
    "for r in result:\n",
    "    print(r.text.strip())\n",
    "\n",
    "for i in range(len(result)):\n",
    "    print(i, result[i].text.strip())"
   ]
  },
  {
   "cell_type": "code",
   "execution_count": null,
   "metadata": {},
   "outputs": [],
   "source": [
    "import selenium\n",
    "from selenium import webdriver\n",
    "\n",
    "driver=webdriver.Chrome('/home/pirl/chromedriver')\n",
    "driver.get('https://www.naver.com')\n",
    "\n",
    "selector=\"#PM_ID_serviceNavi > li:nth-child(4) > a\"\n",
    "ui=driver.find_element_by_css_selector(selector)\n",
    "\n",
    "ui.click()\n",
    "\n",
    "selector=\"#content > div.section_group > div.section_l > div.news.NE\\=a\\:tdn > h3 > a\"\n",
    "ui=driver.find_element_by_css_selector(selector)\n",
    "\n",
    "ui.click()"
   ]
  },
  {
   "cell_type": "code",
   "execution_count": null,
   "metadata": {},
   "outputs": [],
   "source": [
    "selector=\"#query\"\n",
    "ui=driver.find_element_by_css_selector(selector)\n",
    "ui.send_keys(\"bts\")\n",
    "driver.find_element_by_css_selector(\"#search_btn > span.ico_search_submit\").click()\n",
    "                                    "
   ]
  },
  {
   "cell_type": "code",
   "execution_count": null,
   "metadata": {},
   "outputs": [],
   "source": [
    "\n",
    "import selenium\n",
    "import time\n",
    "from selenium import webdriver\n",
    "\n",
    "driver=webdriver.Chrome('/home/pirl/chromedriver')\n",
    "driver.get('https://www.naver.com')\n",
    "\n",
    "\n",
    "                                    \n",
    "driver.get('http://ticket.interpark.com/')\n",
    "time.sleep(2)\n",
    "\n",
    "selector=\"#Nav_SearchWord\"\n",
    "ui=driver.find_element_by_css_selector(selector)\n",
    "ui.send_keys(\"iu\")\n",
    "\n",
    "selector=\"#AllSearch > fieldset > div.box > a\"\n",
    "ui=driver.find_element_by_css_selector(selector)\n",
    "ui.click()\n",
    "\n",
    "\n",
    "#selector=\"#playend_list > tr:nth-child(1) > td.info_Play > div > dl > dt > h4 > a\"\n",
    "#driver.find_element_by_css_selector(selector)\n",
    "                                    \n",
    "\n",
    "for i in [1,2,3,4,5]:\n",
    "    selector=f\"#playend_list > tr:nth-child( { i } ) > td.info_Play > div > dl > dt > h4 > a\"\n",
    "    ui=driver.find_element_by_css_selector(selector)\n",
    "    print(ui.text)\n",
    "    \n",
    "    \n",
    "total=10\n",
    "print(f\"hello my total wealth is {total}$\")\n"
   ]
  },
  {
   "cell_type": "code",
   "execution_count": null,
   "metadata": {},
   "outputs": [],
   "source": [
    "import requests\n",
    "while True:\n",
    "    url=\"https://api.bithumb.com/public/ticker/\"\n",
    "    resp=requests.get(url)\n",
    "    data=resp.json()\n",
    "    print(resp.text)\n",
    "    \n",
    "    print(data['data']['closing_price'])\n",
    "    time.sleep(1)"
   ]
  },
  {
   "cell_type": "code",
   "execution_count": 6,
   "metadata": {
    "scrolled": true
   },
   "outputs": [
    {
     "name": "stderr",
     "output_type": "stream",
     "text": [
      "findfont: Font family ['NanumGothicCoding'] not found. Falling back to DejaVu Sans.\n"
     ]
    },
    {
     "name": "stdout",
     "output_type": "stream",
     "text": [
      "['ESPRESSO', 'ESPRESSO', 'CON', 'PANNA', 'ESPRESSO', 'MACCHIATO']\n"
     ]
    },
    {
     "data": {
      "image/png": "[encoded data removed]",
      "text/plain": [
       "<Figure size 432x288 with 1 Axes>"
      ]
     },
     "metadata": {
      "needs_background": "light"
     },
     "output_type": "display_data"
    },
    {
     "name": "stdout",
     "output_type": "stream",
     "text": [
      "AxesSubplot(0.125,0.125;0.775x0.755)\n"
     ]
    }
   ],
   "source": [
    "import nltk\n",
    "from nltk.tokenize import RegexpTokenizer\n",
    "from nltk import FreqDist\n",
    "text = \"\"\"\n",
    "ESPRESSO\n",
    "caffeinated dreams espresso blend\n",
    "ESPRESSO CON PANNA\n",
    "double espresso + whipped cream\n",
    "ESPRESSO MACCHIATO\n",
    "double espresso + milk foam -traditional\n",
    "\"\"\"\n",
    "tokenizer = RegexpTokenizer(r'[A-Z]+')\n",
    "print(tokenizer.tokenize(text))\n",
    "fd = FreqDist(text.lower().split())\n",
    "print(fd.plot())\n"
   ]
  },
  {
   "cell_type": "code",
   "execution_count": null,
   "metadata": {},
   "outputs": [],
   "source": [
    "\n",
    "prob=fd.freq(r)\n",
    "print(f\"{r:15s} -> {prob:.4f}\")"
   ]
  },
  {
   "cell_type": "code",
   "execution_count": 13,
   "metadata": {},
   "outputs": [
    {
     "data": {
      "text/plain": [
       "<bound method FreqDist.plot of FreqDist({'and': 69, 'the': 64, 'of': 48, 'our': 48, 'will': 40, 'to': 37, 'we': 26, 'is': 21, 'are': 14, 'a': 14, ...})>"
      ]
     },
     "execution_count": 13,
     "metadata": {},
     "output_type": "execute_result"
    }
   ],
   "source": [
    "import selenium\n",
    "from selenium import webdriver\n",
    "import nltk\n",
    "from nltk.tokenize import RegexpTokenizer\n",
    "from nltk import FreqDist\n",
    "\n",
    "driver=webdriver.Chrome('/home/pirl/chromedriver')\n",
    "driver.get('https://www.whitehouse.gov/briefings-statements/the-inaugural-address/')\n",
    "text = \"\"\n",
    "\n",
    "for i in range(6,81):\n",
    "    selector=f\"#main-content > div.page-content > div > div > p:nth-child( {i} )\"\n",
    "    ui=driver.find_element_by_css_selector(selector)\n",
    "    text += ui.text\n",
    "    \n",
    "fd = FreqDist(text.lower().split())\n",
    "words = set(text.split())\n",
    "fd.plot"
   ]
  },
  {
   "cell_type": "code",
   "execution_count": 14,
   "metadata": {},
   "outputs": [
    {
     "name": "stdout",
     "output_type": "stream",
     "text": [
      "[('and', 69), ('the', 64), ('of', 48), ('our', 48), ('will', 40)]\n"
     ]
    }
   ],
   "source": [
    "print(fd.most_common(5))"
   ]
  },
  {
   "cell_type": "code",
   "execution_count": 15,
   "metadata": {},
   "outputs": [
    {
     "name": "stdout",
     "output_type": "stream",
     "text": [
      "['열심히', '코딩', '한', '당신', ',', '연휴', '에는', '여행', '을', '가봐요']\n",
      "['코딩', '당신', '연휴', '여행']\n"
     ]
    }
   ],
   "source": [
    "from konlpy.tag import Okt\n",
    "okt=Okt()\n",
    "\n",
    "text=\"열심히 코딩한 당신, 연휴에는 여행을 가봐요\"\n",
    "result=okt.morphs(text)\n",
    "print(result)\n",
    "print(okt.nouns(text))"
   ]
  },
  {
   "cell_type": "code",
   "execution_count": 18,
   "metadata": {},
   "outputs": [
    {
     "name": "stdout",
     "output_type": "stream",
     "text": [
      "[('학교', 'Noun'), ('에', 'Josa'), ('가기', 'Noun'), ('싫다', 'Adjective'), ('.', 'Punctuation'), ('집', 'Noun'), ('에', 'Josa'), ('가고', 'Verb'), ('싶다', 'Verb'), ('.', 'Punctuation')]\n",
      "['학교', '가기', '집']\n"
     ]
    }
   ],
   "source": [
    "okt=Okt()\n",
    "text=\"학교에 가기 싫다. 집에 가고 싶다.\"\n",
    "\n",
    "result=okt.pos(text)\n",
    "print(result)\n",
    "result=[ x[0] for x in result if x[1] == \"Noun\" ]\n",
    "print(result)\n"
   ]
  },
  {
   "cell_type": "code",
   "execution_count": 29,
   "metadata": {},
   "outputs": [
    {
     "name": "stdout",
     "output_type": "stream",
     "text": [
      "독서의 위기, 출판계의 불황 얘기가 나온 지 오래 됐지만 사정이 나아졌다는 소식은 들리지 않는다. 요즘 종이 책은 만권 정도만 팔리면 베스트셀러 목록에 오른다고 한다. 하지만 이와는 분위기가 사뭇 다른 곳이 있다. 스마트폰이나 PC로 읽는 웹 소설이다. 인기 웹 소설은 독자 수가 백만명을 가볍게 넘어선다.\n",
      "\n",
      "웹 소설은 '웹에서 처음 공개되는 소설'이다. 기존에 출판된 소설을 웹에 게재하는 경우를 웹 소설이라고 하지는 않는다. 웹 소설은 처음부터 웹에서의 연재를 겨냥하고 창작되는 것이다. 짧은 시간에 가볍게 읽기가 좋도록 나뉘어 연재되는 스낵 컬처(Snack culture)의 성격이 강하다. 그래서 웹 소설은 연재 매 회마다 긴장감과 흥미를 잃지 않고 스토리를 이어가는 게 중요하다. 인물 캐릭터와 대화 중심의 빠른 전개가 독자들의 호응을 얻기 쉽다.\n",
      "\n",
      "● 진입장벽 없어 작가 수 빠르게 늘어나\n",
      "\n",
      "웹 소설 작가가 되는 데는 진입장벽이 없다. 누구나 무료 웹 소설 플랫폼에 자신의 소설을 연재할 수 있다는 의미다. 무협. 판타지 전문 플랫폼인 <문피아>의 김환철 대표(필명 금강)는 \"커트라인을 둬서 괜찮은 것만 올리자는 의견도 있었지만 그러면 출판사와 다를 게 무엇인가. 모두가 올리고 독자가 바로 평가하도록 했다.\"고 말했다. 독자의 선택을 받아 인기를 얻으면 유료 판매를 통해 작가로서 수입을 낼 수 있다. 웹 소설에서는 생산자와 소비자의 경계가 허물어지고 있다. 그만큼 작가 수도 빠르게 늘고 있다. <문피아>만 해도 4만명의 작가가 활동하고 있고, 국내 전체적으로는 웹 소설 작가의 수가 20만명이 넘을 것으로 추정된다.\n",
      "\n",
      "이처럼 수십만 작가와 수백만 독자가 모여 함께 만드는 웹 소설 생태계에는 용광로와 같은 에너지가 넘친다. 진입장벽이 없는 대신 경쟁은 어느 곳보다도 치열하다. 작가들은 매회 연재할 때마다 조회수와 독자의 댓글을 살피면서 진검 승부를 펼친다. 김환철 문피아 대표는 \"매일 매일이 전쟁 같다. 그런 극심한 경쟁을 뚫고 살아남은 작가들은 글을 잘 쓸 수 밖에 없다\"고 말했다.\n",
      "\n",
      "● 환생, 회귀가 넘치는 까닭은?\n",
      "\n",
      "작가와 독자의 역동적인 상호작용을 거쳐 나오는 웹 소설은 독자의 마음과 사회의 분위기를 섬세하게 반영한다. 최근 수년간 웹 소설에서 유난히 많이 등장하는 단어가 회귀, 귀환, 환생이다. 이번 생에 실패한 사람이 현재의 기억을 갖고 과거로 돌아가서, 실수를 바로잡고 시원하게 복수를 하는 스토리다. 네이버나 카카오페이지, 조아라, 문피아 등 여러 웹 소설 플랫폼에서 최고의 인기를 얻은 작품의 상당수가 이런 스토리의 틀을 갖고 있다.\n",
      "\n",
      "김환철 문피아 대표는 \"길게 보면 10년 정도 된 트렌드인데, 이제는 대세가 되어서 수많은 작품에서 환생과 회귀가 일어나고 있다.\"면서 \"갈수록 각박하고 힘들어지는 세상, 젊은 세대의 좌절이 빨리 강해지고 쉽게 성공하는 판타지로 투영이 되는 것\"이라고 진단했다. 이진수 카카오페이지 대표는 \"웹 소설이나 웹툰 만큼 우리 사회 곳곳을 섬세하고 다양하게 표현하고 있는 매체가 없다.\"면서 \"대한민국의 기성 세대들이 지금의 10대와 20대를 가장 빠르게 이해할 수 있는 방법\"이라고 주장했다.\n",
      "\n",
      "● 작품성 뛰어난 웹 소설도 많은데 평론은…\n",
      "\n",
      "웹 소설 하면 스낵 컬처, 상업성, 중독성 등을 떠올리게 되지만 그런 가운데 뛰어난 작품성을 함께 성취한 명작들도 적지 않게 발견된다. 무협이나 판타지 스토리 속에 신화와 종교, 현대과학 등 다방면에 걸쳐 해박한 지식과 창의적인 세계관을 담아낸 작품을 만나면 필명으로 자신을 감추는 작가에 대한 궁금증이 들기도 한다. 이런 작품들은 매회 흥미와 긴장감을 유지해야 한다는 웹 소설의 문법을 벗어나기도 하지만 한번 마니아가 된 독자들은 작가의 고집을 긍정적으로 이해해주는 편이다.\n",
      "\n",
      "이와 관련해 장강명 작가는 \"굉장히 뛰어난 작품성을 보여주는 웹 소설들이 있는데, 그 작품성이 기존의 문단에서 얘기하는 작품성과는 조금 달라서 이걸 설명할 수 있는 언어가 있었으면 좋겠다는 작가와 독자들을 봤다\" 면서 \"웹 소설에 대해서도 평론이나 분석이 필요하다는 얘기인데, 아직은 비어있는 상황\"이라고 말했다.\n",
      "\n",
      "● 영화와 드라마의 원작으로 몸값 상승 중\n",
      "\n",
      "이야기 산업으로서의 웹 소설의 성장세는 폭발적이다. 지난 2016년 1,800억원 수준이던 국내 웹 소설 시장의 전체 규모는 2017년 2,700억원으로 급상승세를 보였다.\n",
      "\n",
      "수십만, 수백만 명의 검증을 거친 웹 소설은 영화와 드라마의 원작으로서 갈수록 몸값이 올라가고 있다. 이진수 카카오페이지 대표는 \"천문학적인 제작비라는 리스크를 안고 있는 영상시장에서 이미 검증된 시나리오와 그 이야기를 좋아하는 수십만, 수백만 명의 열성 독자층이 있는 경우에는 당연히 영상 시장에서 리스크를 많이 줄일 수 있는 요인이 된다'고 말했다\n",
      "\n",
      "웹 소설과 드라마의 선순환 구조를 보여준 최근의 사례가 '김 비서가 왜 그럴까' 이다. 카카오페이지에서 엄청난 독자를 모은 이 웹 소설은 드라마로 제작되어 높은 시청률을 기록했고, 이는 다시 원작 웹 소설과 웹툰의 인기 상승으로 이어졌다.\n",
      "\n",
      "정경윤 작가는 부산에서 약사를 하면서 틈틈이 이 소설을 썼다. 힘들지 않았느냐는 기자의 질문에 정 작가는 \"약국 일을 하다 보면 몸도 지치고 피곤한데 소설 쓰는 건 전혀 피곤하지 않고 재미있었다.\"며 \"나중에는 정말 미쳐서 밥 먹는 시간도, 자는 시간도, 쉬는 시간도 다 줄여서 전력을 다해서 썼는데 그게 취미이자 마음의 치유가 됐다\"고 말했다.\n",
      "\n",
      "또 선배 작가로서 작가 지망생들에게 조언을 해달라는 주문에 대해서는 \"아무리 시장이 커졌어도 좋아하는 마음 없이 그냥 생업으로 하기에는 너무 어려운 일인 것 같다. 너무 조급해하지 말고 즐기면서 천천히 여유 있게 썼으면 좋겠다\"고 말했다.\n",
      "\n",
      "한국콘텐츠진흥원 조사에 따르면 웹 소설 작가의 평균수입은 2016년 기준으로 3,275만원으로 나타났다. 연 수입이 억대에 이르는 작가도 많고, 정상급 인기 작가들의 경우는 10억원을 상회한다고 한다. 하지만 대다수 작가는 수입이 많지 않다. 작가 10명 중 4명 가까이가 연 수입 1천만원 미만으로 조사됐다.\n",
      "\n",
      "웹 소설은 웹툰과 함께 차세대 한류의 주역으로서도 주목된다. 네이버와 카카오페이지는 해외 웹툰 시장에 진출했고, 문피아도 해외진출을 모색하고 있다. 해외시장을 분석한 전문가들은 우리 작가들의 창의성과 스토리가 해외시장에서도 충분한 경쟁력을 갖고 있다고 본다.\n",
      "\n",
      "이렇게 웹 소설은 막대한 에너지를 품고 빠르게 영역을 넓히고 있다. 하지만 그에 비해서 우리 사회의 담론은 초기단계를 벗어나지 못하고 있다.\n",
      "\n",
      "● 웹 소설에 대한 진지한 담론 형성을 기대하며\n",
      "\n",
      "장강명 작가는 \"우리 사회에서 웹 소설을 얘기하는 맥락은 대부분 시장규모나 작가의 수입 같은 데 머물러 있고, 웹 소설의 새로운 작품성과 시대감각을 포착하려는 노력은 굉장히 드물다.\"면서 \"웹 소설 영역에 형성된 엄청난 기운을 좋은 방향으로 이끌기 위해 기존 문학계와 공공부문, 독자들이 모두 관심을 가질 때\"라고 말했다.\n",
      "\n",
      "웹 소설 생태계에서는 사회적 담론의 형성 방식도 기존의 출판 문학계와 다를 수 있다. 생산자와 소비자의 경계가 허물어진 만큼 비평의 영역도 열려 있다. 웹 소설의 끓어 넘치는 에너지가 우리 문화 전반에 가져올 파급효과를 감안한다면 플랫폼 업체나 공공 부문에서도 진지한 담론이 형성되는 공간을 마련하는 데 더 많은 관심을 기울여야 할 것으로 보인다. \n",
      "\n",
      "출처 : SBS 뉴스 \n",
      "원본 링크 : https://news.sbs.co.kr/news/endPage.do?news_id=N1004998444&plink=COPYPASTE&cooper=SBSNEWSEND\n",
      "\n"
     ]
    },
    {
     "ename": "NameError",
     "evalue": "name 're' is not defined",
     "output_type": "error",
     "traceback": [
      "\u001b[0;31m---------------------------------------------------------------------------\u001b[0m",
      "\u001b[0;31mNameError\u001b[0m                                 Traceback (most recent call last)",
      "\u001b[0;32m<ipython-input-29-5bb04f23650c>\u001b[0m in \u001b[0;36m<module>\u001b[0;34m\u001b[0m\n\u001b[1;32m      3\u001b[0m \u001b[0;34m\u001b[0m\u001b[0m\n\u001b[1;32m      4\u001b[0m \u001b[0mprint\u001b[0m\u001b[0;34m(\u001b[0m\u001b[0mcontent\u001b[0m\u001b[0;34m)\u001b[0m\u001b[0;34m\u001b[0m\u001b[0;34m\u001b[0m\u001b[0m\n\u001b[0;32m----> 5\u001b[0;31m \u001b[0mp\u001b[0m \u001b[0;34m=\u001b[0m \u001b[0mre\u001b[0m\u001b[0;34m.\u001b[0m\u001b[0mcompile\u001b[0m\u001b[0;34m(\u001b[0m\u001b[0;34m\"[\\Wa-zA-Z0-9_]+\"\u001b[0m\u001b[0;34m)\u001b[0m\u001b[0;34m\u001b[0m\u001b[0;34m\u001b[0m\u001b[0m\n\u001b[0m\u001b[1;32m      6\u001b[0m \u001b[0mcontent\u001b[0m \u001b[0;34m=\u001b[0m \u001b[0mre\u001b[0m\u001b[0;34m.\u001b[0m\u001b[0msub\u001b[0m\u001b[0;34m(\u001b[0m\u001b[0mp\u001b[0m\u001b[0;34m,\u001b[0m \u001b[0;34m\" \"\u001b[0m\u001b[0;34m,\u001b[0m \u001b[0mcontent\u001b[0m\u001b[0;34m)\u001b[0m\u001b[0;34m\u001b[0m\u001b[0;34m\u001b[0m\u001b[0m\n",
      "\u001b[0;31mNameError\u001b[0m: name 're' is not defined"
     ]
    }
   ],
   "source": [
    "with open('/home/pirl/test/code/day02/03_text_preprocessing/news.txt', 'r', encoding='utf8') as f:\n",
    "    content = f.read()\n",
    "\n",
    "print(content)\n",
    "p = re.compile(\"[\\Wa-zA-Z0-9_]+\")\n",
    "content = re.sub(p, \" \", content)"
   ]
  },
  {
   "cell_type": "code",
   "execution_count": null,
   "metadata": {},
   "outputs": [],
   "source": [
    "#한국어\n",
    "from collections import Count"
   ]
  },
  {
   "cell_type": "code",
   "execution_count": 28,
   "metadata": {},
   "outputs": [
    {
     "data": {
      "image/png": "[encoded data removed]",
      "text/plain": [
       "<Figure size 432x288 with 1 Axes>"
      ]
     },
     "metadata": {
      "needs_background": "light"
     },
     "output_type": "display_data"
    }
   ],
   "source": [
    "from wordcloud import WordCloud\n",
    "import matplotlib.pyplot as plt\n",
    "from os import path\n",
    "FONT_PATH = '/usr/share/fonts/truetype/nanum/NanumGothic.ttf'\n",
    "text = \"Boeing’s troubles run deep. The 737 Max, its newest and most important jet, has been grounded since March after two deadly crashes killed 346 people.\"\n",
    "wordcloud = WordCloud(max_font_size=50, max_words=30, background_color='white',\n",
    "relative_scaling=.5, font_path=FONT_PATH).generate(text)\n",
    "plt.figure()\n",
    "plt.imshow(wordcloud, interpolation='bilinear')\n",
    "plt.axis(\"off\")\n",
    "plt.show()"
   ]
  },
  {
   "cell_type": "code",
   "execution_count": 34,
   "metadata": {},
   "outputs": [
    {
     "name": "stdout",
     "output_type": "stream",
     "text": [
      "['나', '는', '자연어', '처리', '를', '배운다']\n",
      "{'나': 0, '는': 1, '자연어': 2, '처리': 3, '를': 4, '배운다': 5}\n"
     ]
    }
   ],
   "source": [
    "from konlpy.tag import Okt\n",
    "phrase = \"나는 자연어 처리를 배운다\"\n",
    "okt = Okt()\n",
    "token = okt.morphs(phrase)\n",
    "print(token)\n",
    "\n",
    "word_set = {}\n",
    "index = 0\n",
    "for t in token:\n",
    "    if t not in word_set:\n",
    "        word_set[t] = index\n",
    "        index += 1\n",
    "\n",
    "print(word_set)"
   ]
  },
  {
   "cell_type": "code",
   "execution_count": 35,
   "metadata": {},
   "outputs": [
    {
     "name": "stdout",
     "output_type": "stream",
     "text": [
      "{'나는': 3, '배가': 7, '고프다': 0, '내일': 4, '점심': 8, '뭐먹지': 6, '공부': 1, '해야겠다': 9, '먹고': 5, '공부해야지': 2}\n",
      "10\n"
     ]
    }
   ],
   "source": [
    "from sklearn.feature_extraction.text import CountVectorizer\n",
    "text_data = [\n",
    "'나는 배가 고프다',\n",
    "'내일 점심 뭐먹지',\n",
    "'내일 공부 해야겠다.',\n",
    "'점심 먹고 공부해야지'\n",
    "]\n",
    "# 단어 사전 구성\n",
    "count_vectorizer = CountVectorizer() # 객체 생성\n",
    "count_vectorizer.fit(text_data)\n",
    "# 단어 목록 생성\n",
    "print(count_vectorizer.vocabulary_)\n",
    "print(len(count_vectorizer.vocabulary_))"
   ]
  },
  {
   "cell_type": "code",
   "execution_count": 39,
   "metadata": {},
   "outputs": [
    {
     "ename": "SyntaxError",
     "evalue": "invalid syntax (<ipython-input-39-bca2a732328b>, line 1)",
     "output_type": "error",
     "traceback": [
      "\u001b[0;36m  File \u001b[0;32m\"<ipython-input-39-bca2a732328b>\"\u001b[0;36m, line \u001b[0;32m1\u001b[0m\n\u001b[0;31m    result=cv.transform([text_data[0] )\u001b[0m\n\u001b[0m                                      ^\u001b[0m\n\u001b[0;31mSyntaxError\u001b[0m\u001b[0;31m:\u001b[0m invalid syntax\n"
     ]
    }
   ],
   "source": [
    "result=cv.transform([text_data[0] )\n",
    "sentence = [text_data[0]]\n",
    "# 첫 번째 문장\n",
    "vector = count_vectorizer.transform(sentence).toarray()\n",
    "print(vector)"
   ]
  },
  {
   "cell_type": "code",
   "execution_count": 41,
   "metadata": {},
   "outputs": [
    {
     "data": {
      "text/plain": [
       "0.9709835651074589"
      ]
     },
     "execution_count": 41,
     "metadata": {},
     "output_type": "execute_result"
    }
   ],
   "source": [
    "(96.006/98.875)"
   ]
  },
  {
   "cell_type": "code",
   "execution_count": null,
   "metadata": {},
   "outputs": [],
   "source": []
  }
 ],
 "metadata": {
  "kernelspec": {
   "display_name": "Python 3",
   "language": "python",
   "name": "python3"
  },
  "language_info": {
   "codemirror_mode": {
    "name": "ipython",
    "version": 3
   },
   "file_extension": ".py",
   "mimetype": "text/x-python",
   "name": "python",
   "nbconvert_exporter": "python",
   "pygments_lexer": "ipython3",
   "version": "3.7.4"
  }
 },
 "nbformat": 4,
 "nbformat_minor": 2
}
