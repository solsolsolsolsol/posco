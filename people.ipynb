{
 "cells": [
  {
   "cell_type": "code",
   "execution_count": 50,
   "metadata": {},
   "outputs": [],
   "source": [
    "class Person:\n",
    "    name=\"\"\n",
    "    age=0\n",
    "    department=\"\"\n",
    "    \n",
    "    def __init__(self, name, age, department):\n",
    "        self.name=name\n",
    "        self.age=age\n",
    "        self.department=department\n",
    "    \n",
    "    def get_name(self):\n",
    "        return self.name\n",
    "    \n",
    "    def __repr__(self):             # 오류 방지용\n",
    "        return str(self.name)\n",
    "    \n",
    "class Student(Person):\n",
    "    Id=\"\"\n",
    "    GPA=0.0\n",
    "    advisor=\"\"\n",
    "    \n",
    "    def __init__(self, name, age, department, Id, GPA):\n",
    "        Person.__init__(self, name, age, department)\n",
    "        self.Id=Id\n",
    "        self.GPA=GPA\n",
    "        \n",
    "        \n",
    "    def print_info(self):\n",
    "        self.age=str(self.age)\n",
    "        self.advisor=str(self.advisor)\n",
    "        info='제 이름은 '+self.name+', 나이는 '+self.age+', 학과는 '+self.department+', 지도 교수님은 '+self.advisor+'입니다'\n",
    "        print(info)\n",
    "        \n",
    "    def reg_advisor(self, advisor):\n",
    "        self.advisor=advisor\n",
    "        return self.advisor\n",
    "    \n",
    "class Professor(Person):\n",
    "    position=\"\"\n",
    "    laboratory=\"\"\n",
    "    student=[]\n",
    "    \n",
    "    def __init__(self, name, age, department, position, laboratory):\n",
    "        Person.__init__(self, name, age, department)\n",
    "        self.position=position\n",
    "        self.laboratory=laboratory\n",
    "        \n",
    "    def print_info(self):\n",
    "        self.age=str(self.age)\n",
    "        namelist=', '.join(map(str, self.student))    \n",
    "        info='제 이름은 '+self.name+', 나이는 '+self.age+', 학과는 '+self.department+', 지도 학생은 '+namelist+'입니다'\n",
    "        print(info)\n",
    "        \n",
    "    def reg_student(self, student):\n",
    "        self.student.append(student)\n",
    "        return self.student"
   ]
  },
  {
   "cell_type": "code",
   "execution_count": 51,
   "metadata": {},
   "outputs": [
    {
     "name": "stdout",
     "output_type": "stream",
     "text": [
      "제 이름은 Kim, 나이는 30, 학과는 Computer, 지도 교수님은 Lee입니다\n",
      "제 이름은 Lee, 나이는 22, 학과는 Computer, 지도 교수님은 Lee입니다\n",
      "제 이름은 Lee, 나이는 55, 학과는 Computer, 지도 학생은 Kim, Lee입니다\n"
     ]
    }
   ],
   "source": [
    "stu1 = Student('Kim', 30, 'Computer', 20001234, 4.5)\n",
    "stu2 = Student('Lee', 22, 'Computer', 20101234, 0.5)\n",
    "prof1 = Professor('Lee', 55, 'Computer', 'Full', 'KLE')\n",
    "\n",
    "stu1.reg_advisor(prof1)\n",
    "stu2.reg_advisor(prof1)\n",
    "prof1.reg_student(stu1)\n",
    "prof1.reg_student(stu2)\n",
    "stu1.print_info()\n",
    "stu2.print_info()\n",
    "prof1.print_info()"
   ]
  }
 ],
 "metadata": {
  "kernelspec": {
   "display_name": "Python 3",
   "language": "python",
   "name": "python3"
  },
  "language_info": {
   "codemirror_mode": {
    "name": "ipython",
    "version": 3
   },
   "file_extension": ".py",
   "mimetype": "text/x-python",
   "name": "python",
   "nbconvert_exporter": "python",
   "pygments_lexer": "ipython3",
   "version": "3.7.4"
  }
 },
 "nbformat": 4,
 "nbformat_minor": 2
}
